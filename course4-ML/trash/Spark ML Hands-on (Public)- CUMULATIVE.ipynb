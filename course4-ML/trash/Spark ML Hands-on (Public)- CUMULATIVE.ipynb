{
 "cells": [
  {
   "cell_type": "code",
   "execution_count": 1,
   "metadata": {
    "collapsed": false
   },
   "outputs": [],
   "source": [
    "# Download JAR from https://spark-packages.org/package/databricks/spark-csv (1.5.0)\n",
    "\n",
    "# Command to start: pyspark --packages com.databricks:spark-csv_2.11:1.5.0\n",
    "\n",
    "from pyspark.sql import SQLContext\n",
    "from pyspark.sql import DataFrameNaFunctions\n",
    "import pandas as pd\n",
    "from pyspark.ml import Pipeline"
   ]
  },
  {
   "cell_type": "code",
   "execution_count": 2,
   "metadata": {
    "collapsed": false
   },
   "outputs": [],
   "source": [
    "sqlContext = SQLContext(sc)"
   ]
  },
  {
   "cell_type": "code",
   "execution_count": 3,
   "metadata": {
    "collapsed": false
   },
   "outputs": [],
   "source": [
    "dataDF = sqlContext.read.load('file:///home/cloudera/coursera/courseraDataSimulation/course4-ML/daily_weather.csv', \n",
    "                          format='com.databricks.spark.csv', \n",
    "                          header='true',inferSchema='true')"
   ]
  },
  {
   "cell_type": "code",
   "execution_count": 4,
   "metadata": {
    "collapsed": false
   },
   "outputs": [
    {
     "data": {
      "text/plain": [
       "['number',\n",
       " 'air_pressure_9am',\n",
       " 'air_temp_9am',\n",
       " 'avg_wind_direction_9am',\n",
       " 'avg_wind_speed_9am',\n",
       " 'max_wind_direction_9am',\n",
       " 'max_wind_speed_9am',\n",
       " 'rain_accumulation_9am',\n",
       " 'rain_duration_9am',\n",
       " 'relative_humidity_9am',\n",
       " 'relative_humidity_3pm']"
      ]
     },
     "execution_count": 4,
     "metadata": {},
     "output_type": "execute_result"
    }
   ],
   "source": [
    "dataDF.columns"
   ]
  },
  {
   "cell_type": "code",
   "execution_count": 5,
   "metadata": {
    "collapsed": false
   },
   "outputs": [
    {
     "name": "stdout",
     "output_type": "stream",
     "text": [
      "+-------+------------------+------------------+------------------+----------------------+------------------+----------------------+------------------+---------------------+-----------------+---------------------+---------------------+\n",
      "|summary|            number|  air_pressure_9am|      air_temp_9am|avg_wind_direction_9am|avg_wind_speed_9am|max_wind_direction_9am|max_wind_speed_9am|rain_accumulation_9am|rain_duration_9am|relative_humidity_9am|relative_humidity_3pm|\n",
      "+-------+------------------+------------------+------------------+----------------------+------------------+----------------------+------------------+---------------------+-----------------+---------------------+---------------------+\n",
      "|  count|              1095|              1092|              1090|                  1091|              1092|                  1092|              1091|                 1089|             1092|                 1095|                 1095|\n",
      "|   mean|             547.0| 918.8825513138097| 64.93300141287075|    142.23551070057584|  5.50828424225493|     148.9535179651692| 7.019513529175272|  0.20307895225211126|294.1080522756142|    34.24140205923539|    35.34472714825902|\n",
      "| stddev|316.24357700987383|3.1841611803868353|11.175514003175877|     69.13785928889183| 4.552813465531715|     67.23801294602951|  5.59820917078096|   1.5939521253574904|1598.078778660148|   25.472066802250044|    22.52407945358728|\n",
      "|    min|                 0| 907.9900000000024|36.752000000000685|    15.500000000000046|  0.69345139999974|     28.89999999999991|1.1855782000000479|                  0.0|              0.0|    6.090000000001012|   5.3000000000006855|\n",
      "|    max|              1094| 929.3200000000012| 98.90599999999992|                 343.4|23.554978199999763|    312.19999999999993| 29.84077959999996|    24.01999999999907|          17704.0|     92.6200000000002|     92.2500000000003|\n",
      "+-------+------------------+------------------+------------------+----------------------+------------------+----------------------+------------------+---------------------+-----------------+---------------------+---------------------+\n",
      "\n"
     ]
    }
   ],
   "source": [
    "dataDF.describe().show()"
   ]
  },
  {
   "cell_type": "code",
   "execution_count": 6,
   "metadata": {
    "collapsed": false
   },
   "outputs": [
    {
     "data": {
      "text/plain": [
       "['air_pressure_9am',\n",
       " 'air_temp_9am',\n",
       " 'avg_wind_direction_9am',\n",
       " 'avg_wind_speed_9am',\n",
       " 'max_wind_direction_9am',\n",
       " 'max_wind_speed_9am',\n",
       " 'rain_accumulation_9am',\n",
       " 'rain_duration_9am',\n",
       " 'relative_humidity_9am',\n",
       " 'relative_humidity_3pm']"
      ]
     },
     "execution_count": 6,
     "metadata": {},
     "output_type": "execute_result"
    }
   ],
   "source": [
    "dataDF = dataDF.drop('number') # row number\n",
    "dataDF.columns"
   ]
  },
  {
   "cell_type": "markdown",
   "metadata": {},
   "source": [
    "# Hands On 1: Data Exploration"
   ]
  },
  {
   "cell_type": "code",
   "execution_count": 7,
   "metadata": {
    "collapsed": false
   },
   "outputs": [
    {
     "data": {
      "text/plain": [
       "[Row(air_pressure_9am=918.0600000000087, air_temp_9am=74.82200000000041, avg_wind_direction_9am=271.1, avg_wind_speed_9am=2.080354199999768, max_wind_direction_9am=295.39999999999986, max_wind_speed_9am=2.863283199999908, rain_accumulation_9am=0.0, rain_duration_9am=0.0, relative_humidity_9am=42.42000000000046, relative_humidity_3pm=36.160000000000494),\n",
       " Row(air_pressure_9am=917.3476881177097, air_temp_9am=71.40384263106537, avg_wind_direction_9am=101.93517935618371, avg_wind_speed_9am=2.4430092157340217, max_wind_direction_9am=140.47154847112498, max_wind_speed_9am=3.5333236016106238, rain_accumulation_9am=0.0, rain_duration_9am=0.0, relative_humidity_9am=24.328697291802207, relative_humidity_3pm=19.4265967985621)]"
      ]
     },
     "execution_count": 7,
     "metadata": {},
     "output_type": "execute_result"
    }
   ],
   "source": [
    "# Displat first few lines\n",
    "dataDF.take(2)"
   ]
  },
  {
   "cell_type": "markdown",
   "metadata": {},
   "source": [
    "### Summary Statistics"
   ]
  },
  {
   "cell_type": "code",
   "execution_count": 8,
   "metadata": {
    "collapsed": false
   },
   "outputs": [
    {
     "data": {
      "text/plain": [
       "10"
      ]
     },
     "execution_count": 8,
     "metadata": {},
     "output_type": "execute_result"
    }
   ],
   "source": [
    "#Columns in DataFrame\n",
    "len(dataDF.columns)"
   ]
  },
  {
   "cell_type": "code",
   "execution_count": 9,
   "metadata": {
    "collapsed": false
   },
   "outputs": [
    {
     "data": {
      "text/plain": [
       "1095"
      ]
     },
     "execution_count": 9,
     "metadata": {},
     "output_type": "execute_result"
    }
   ],
   "source": [
    "#Rows in DataFrame\n",
    "dataDF.count()"
   ]
  },
  {
   "cell_type": "code",
   "execution_count": 10,
   "metadata": {
    "collapsed": false
   },
   "outputs": [
    {
     "name": "stdout",
     "output_type": "stream",
     "text": [
      "+-------+------------------+\n",
      "|summary|  air_pressure_9am|\n",
      "+-------+------------------+\n",
      "|  count|              1092|\n",
      "|   mean| 918.8825513138097|\n",
      "| stddev|3.1841611803868353|\n",
      "|    min| 907.9900000000024|\n",
      "|    max| 929.3200000000012|\n",
      "+-------+------------------+\n",
      "\n"
     ]
    }
   ],
   "source": [
    "# Show summary of one column\n",
    "dataDF.describe(\"air_pressure_9am\").show()\n",
    "\n",
    "#Notice the Nan"
   ]
  },
  {
   "cell_type": "code",
   "execution_count": 11,
   "metadata": {
    "collapsed": false
   },
   "outputs": [
    {
     "name": "stdout",
     "output_type": "stream",
     "text": [
      "+-------+------------------+------------------+----------------------+------------------+----------------------+------------------+---------------------+------------------+---------------------+---------------------+\n",
      "|summary|  air_pressure_9am|      air_temp_9am|avg_wind_direction_9am|avg_wind_speed_9am|max_wind_direction_9am|max_wind_speed_9am|rain_accumulation_9am| rain_duration_9am|relative_humidity_9am|relative_humidity_3pm|\n",
      "+-------+------------------+------------------+----------------------+------------------+----------------------+------------------+---------------------+------------------+---------------------+---------------------+\n",
      "|  count|              1092|              1087|                  1088|              1089|                  1089|              1088|                 1086|              1089|                 1092|                 1092|\n",
      "|   mean| 918.8825513138097| 64.96896753146554|    142.09831025625775| 5.504611894676135|    148.78720908602853| 7.014192386313907|   0.1901712513835628| 287.6593141276132|    34.15998889141952|   35.275723107411714|\n",
      "| stddev|3.1841611803868353|11.154041196475662|     69.02469150362704| 4.552881618783327|     67.08031638353745|  5.59572181056437|   1.5348338139622255|1583.8583451927343|   25.403805324173728|   22.463394908910807|\n",
      "|    min| 907.9900000000024|36.752000000000685|    15.500000000000046|  0.69345139999974|     28.89999999999991|1.1855782000000479|                  0.0|               0.0|    6.090000000001012|   5.3000000000006855|\n",
      "|    max| 929.3200000000012| 98.90599999999992|                 343.4|23.554978199999763|    312.19999999999993| 29.84077959999996|    24.01999999999907|           17704.0|     92.6200000000002|     92.2500000000003|\n",
      "+-------+------------------+------------------+----------------------+------------------+----------------------+------------------+---------------------+------------------+---------------------+---------------------+\n",
      "\n"
     ]
    }
   ],
   "source": [
    "# Drop the rows with missing values on specific column and show statistics\n",
    "M = dataDF.na.drop(subset=['air_pressure_9am'])\n",
    "\n",
    "M.describe().show()"
   ]
  },
  {
   "cell_type": "code",
   "execution_count": 12,
   "metadata": {
    "collapsed": false
   },
   "outputs": [
    {
     "name": "stdout",
     "output_type": "stream",
     "text": [
      "+-------+------------------+\n",
      "|summary|  air_pressure_9am|\n",
      "+-------+------------------+\n",
      "|  count|              1092|\n",
      "|   mean| 918.8825513138097|\n",
      "| stddev|3.1841611803868353|\n",
      "|    min| 907.9900000000024|\n",
      "|    max| 929.3200000000012|\n",
      "+-------+------------------+\n",
      "\n"
     ]
    }
   ],
   "source": [
    "# Drop the rows with missing values and check statistics\n",
    "M.describe(\"air_pressure_9am\").show()"
   ]
  },
  {
   "cell_type": "markdown",
   "metadata": {},
   "source": [
    "# Pairwise Correlation"
   ]
  },
  {
   "cell_type": "code",
   "execution_count": 13,
   "metadata": {
    "collapsed": false
   },
   "outputs": [
    {
     "data": {
      "text/plain": [
       "0.7337968783310981"
      ]
     },
     "execution_count": 13,
     "metadata": {},
     "output_type": "execute_result"
    }
   ],
   "source": [
    "# Correlation between two columns\n",
    "dataDF.stat.corr(\"rain_accumulation_9am\",\"rain_duration_9am\")"
   ]
  },
  {
   "cell_type": "markdown",
   "metadata": {},
   "source": [
    "# Hands on 2: Data Preparation"
   ]
  },
  {
   "cell_type": "markdown",
   "metadata": {},
   "source": [
    "## Handling Missing Values"
   ]
  },
  {
   "cell_type": "markdown",
   "metadata": {},
   "source": [
    "## Missing Values: Remove them"
   ]
  },
  {
   "cell_type": "code",
   "execution_count": 14,
   "metadata": {
    "collapsed": false
   },
   "outputs": [
    {
     "name": "stdout",
     "output_type": "stream",
     "text": [
      "+-------+------------------+------------------+----------------------+------------------+----------------------+------------------+---------------------+-----------------+---------------------+---------------------+\n",
      "|summary|  air_pressure_9am|      air_temp_9am|avg_wind_direction_9am|avg_wind_speed_9am|max_wind_direction_9am|max_wind_speed_9am|rain_accumulation_9am|rain_duration_9am|relative_humidity_9am|relative_humidity_3pm|\n",
      "+-------+------------------+------------------+----------------------+------------------+----------------------+------------------+---------------------+-----------------+---------------------+---------------------+\n",
      "|  count|              1092|              1090|                  1091|              1092|                  1092|              1091|                 1089|             1092|                 1095|                 1095|\n",
      "|   mean| 918.8825513138097| 64.93300141287075|    142.23551070057584|  5.50828424225493|     148.9535179651692| 7.019513529175272|  0.20307895225211126|294.1080522756142|    34.24140205923539|    35.34472714825902|\n",
      "| stddev|3.1841611803868353|11.175514003175877|     69.13785928889183| 4.552813465531715|     67.23801294602951|  5.59820917078096|   1.5939521253574904|1598.078778660148|   25.472066802250044|    22.52407945358728|\n",
      "|    min| 907.9900000000024|36.752000000000685|    15.500000000000046|  0.69345139999974|     28.89999999999991|1.1855782000000479|                  0.0|              0.0|    6.090000000001012|   5.3000000000006855|\n",
      "|    max| 929.3200000000012| 98.90599999999992|                 343.4|23.554978199999763|    312.19999999999993| 29.84077959999996|    24.01999999999907|          17704.0|     92.6200000000002|     92.2500000000003|\n",
      "+-------+------------------+------------------+----------------------+------------------+----------------------+------------------+---------------------+-----------------+---------------------+---------------------+\n",
      "\n"
     ]
    }
   ],
   "source": [
    "dataDF.describe().show()"
   ]
  },
  {
   "cell_type": "code",
   "execution_count": 15,
   "metadata": {
    "collapsed": false
   },
   "outputs": [],
   "source": [
    "#Remove \n",
    "dataDF_remove = dataDF.na.drop()"
   ]
  },
  {
   "cell_type": "code",
   "execution_count": 16,
   "metadata": {
    "collapsed": false
   },
   "outputs": [
    {
     "name": "stdout",
     "output_type": "stream",
     "text": [
      "+-------+------------------+------------------+----------------------+------------------+----------------------+------------------+---------------------+------------------+---------------------+---------------------+\n",
      "|summary|  air_pressure_9am|      air_temp_9am|avg_wind_direction_9am|avg_wind_speed_9am|max_wind_direction_9am|max_wind_speed_9am|rain_accumulation_9am| rain_duration_9am|relative_humidity_9am|relative_humidity_3pm|\n",
      "+-------+------------------+------------------+----------------------+------------------+----------------------+------------------+---------------------+------------------+---------------------+---------------------+\n",
      "|  count|              1064|              1064|                  1064|              1064|                  1064|              1064|                 1064|              1064|                 1064|                 1064|\n",
      "|   mean| 918.9031798641055| 65.02260949558739|    142.30675564934032| 5.485793050713691|    148.48042413321312|6.9997136588756925|  0.18202347650615522| 266.3936973996038|    34.07743985327712|    35.14838093290537|\n",
      "| stddev|3.1790395342048434|11.168033449415699|      69.1494721586006| 4.534427253459237|     67.15491055520596| 5.590789883333875|   1.5344932722397264|1503.0922161525934|    25.35666812000876|   22.365474966763035|\n",
      "|    min| 907.9900000000024|36.752000000000685|    15.500000000000046|  0.69345139999974|     28.89999999999991|1.1855782000000479|                  0.0|               0.0|    6.090000000001012|   5.3000000000006855|\n",
      "|    max| 929.3200000000012| 98.90599999999992|                 343.4|23.554978199999763|    312.19999999999993| 29.84077959999996|    24.01999999999907|           17704.0|     92.6200000000002|     92.2500000000003|\n",
      "+-------+------------------+------------------+----------------------+------------------+----------------------+------------------+---------------------+------------------+---------------------+---------------------+\n",
      "\n"
     ]
    }
   ],
   "source": [
    "dataDF_remove.describe().show()"
   ]
  },
  {
   "cell_type": "code",
   "execution_count": 17,
   "metadata": {
    "collapsed": false
   },
   "outputs": [
    {
     "name": "stdout",
     "output_type": "stream",
     "text": [
      "+-------+-----------------+------------------+----------------------+------------------+----------------------+------------------+---------------------+------------------+---------------------+---------------------+\n",
      "|summary| air_pressure_9am|      air_temp_9am|avg_wind_direction_9am|avg_wind_speed_9am|max_wind_direction_9am|max_wind_speed_9am|rain_accumulation_9am| rain_duration_9am|relative_humidity_9am|relative_humidity_3pm|\n",
      "+-------+-----------------+------------------+----------------------+------------------+----------------------+------------------+---------------------+------------------+---------------------+---------------------+\n",
      "|  count|             1095|              1095|                  1095|              1095|                  1095|              1095|                 1095|              1095|                 1095|                 1095|\n",
      "|   mean|916.3650648718541|  64.6365036895243|    141.71592892632717| 5.493193052550121|    148.54542613512763| 6.993871470621208|   0.2019661908699079|293.30227678992765|    34.24140205923539|    35.34472714825902|\n",
      "| stddev|48.15762061374459|11.979290563853985|     69.54327141874832| 4.555682582525787|     67.59606855340131| 5.604003804593499|   1.5896458867984429|1595.9602356534883|   25.472066802250044|    22.52407945358728|\n",
      "|    min|              0.0|               0.0|                   0.0|               0.0|                   0.0|               0.0|                  0.0|               0.0|    6.090000000001012|   5.3000000000006855|\n",
      "|    max|929.3200000000012| 98.90599999999992|                 343.4|23.554978199999763|    312.19999999999993| 29.84077959999996|    24.01999999999907|           17704.0|     92.6200000000002|     92.2500000000003|\n",
      "+-------+-----------------+------------------+----------------------+------------------+----------------------+------------------+---------------------+------------------+---------------------+---------------------+\n",
      "\n"
     ]
    }
   ],
   "source": [
    "dataDF_replace = dataDF.na.fill(0)\n",
    "dataDF_replace.describe().show()"
   ]
  },
  {
   "cell_type": "code",
   "execution_count": 18,
   "metadata": {
    "collapsed": false
   },
   "outputs": [
    {
     "name": "stdout",
     "output_type": "stream",
     "text": [
      "+-------+------------------+------------------+----------------------+------------------+----------------------+------------------+---------------------+-----------------+---------------------+---------------------+\n",
      "|summary|  air_pressure_9am|      air_temp_9am|avg_wind_direction_9am|avg_wind_speed_9am|max_wind_direction_9am|max_wind_speed_9am|rain_accumulation_9am|rain_duration_9am|relative_humidity_9am|relative_humidity_3pm|\n",
      "+-------+------------------+------------------+----------------------+------------------+----------------------+------------------+---------------------+-----------------+---------------------+---------------------+\n",
      "|  count|              1092|              1090|                  1091|              1092|                  1092|              1091|                 1089|             1092|                 1095|                 1095|\n",
      "|   mean| 918.8825513138097| 64.93300141287075|    142.23551070057584|  5.50828424225493|     148.9535179651692| 7.019513529175272|  0.20307895225211126|294.1080522756142|    34.24140205923539|    35.34472714825902|\n",
      "| stddev|3.1841611803868353|11.175514003175877|     69.13785928889183| 4.552813465531715|     67.23801294602951|  5.59820917078096|   1.5939521253574904|1598.078778660148|   25.472066802250044|    22.52407945358728|\n",
      "|    min| 907.9900000000024|36.752000000000685|    15.500000000000046|  0.69345139999974|     28.89999999999991|1.1855782000000479|                  0.0|              0.0|    6.090000000001012|   5.3000000000006855|\n",
      "|    max| 929.3200000000012| 98.90599999999992|                 343.4|23.554978199999763|    312.19999999999993| 29.84077959999996|    24.01999999999907|          17704.0|     92.6200000000002|     92.2500000000003|\n",
      "+-------+------------------+------------------+----------------------+------------------+----------------------+------------------+---------------------+-----------------+---------------------+---------------------+\n",
      "\n"
     ]
    }
   ],
   "source": [
    "dataDF.describe().show()"
   ]
  },
  {
   "cell_type": "markdown",
   "metadata": {},
   "source": [
    "## Missing values : Replace with Mean"
   ]
  },
  {
   "cell_type": "code",
   "execution_count": 19,
   "metadata": {
    "collapsed": false
   },
   "outputs": [
    {
     "name": "stdout",
     "output_type": "stream",
     "text": [
      "+-------+------------------+------------------+----------------------+------------------+----------------------+------------------+---------------------+-----------------+---------------------+---------------------+\n",
      "|summary|  air_pressure_9am|      air_temp_9am|avg_wind_direction_9am|avg_wind_speed_9am|max_wind_direction_9am|max_wind_speed_9am|rain_accumulation_9am|rain_duration_9am|relative_humidity_9am|relative_humidity_3pm|\n",
      "+-------+------------------+------------------+----------------------+------------------+----------------------+------------------+---------------------+-----------------+---------------------+---------------------+\n",
      "|  count|              1092|              1090|                  1091|              1092|                  1092|              1091|                 1089|             1092|                 1095|                 1095|\n",
      "|   mean| 918.8825513138097| 64.93300141287075|    142.23551070057584|  5.50828424225493|     148.9535179651692| 7.019513529175272|  0.20307895225211126|294.1080522756142|    34.24140205923539|    35.34472714825902|\n",
      "| stddev|3.1841611803868353|11.175514003175877|     69.13785928889183| 4.552813465531715|     67.23801294602951|  5.59820917078096|   1.5939521253574904|1598.078778660148|   25.472066802250044|    22.52407945358728|\n",
      "|    min| 907.9900000000024|36.752000000000685|    15.500000000000046|  0.69345139999974|     28.89999999999991|1.1855782000000479|                  0.0|              0.0|    6.090000000001012|   5.3000000000006855|\n",
      "|    max| 929.3200000000012| 98.90599999999992|                 343.4|23.554978199999763|    312.19999999999993| 29.84077959999996|    24.01999999999907|          17704.0|     92.6200000000002|     92.2500000000003|\n",
      "+-------+------------------+------------------+----------------------+------------------+----------------------+------------------+---------------------+-----------------+---------------------+---------------------+\n",
      "\n"
     ]
    }
   ],
   "source": [
    "# let's checkout the original : count leaves NULL values\n",
    "dataDF.describe().show() "
   ]
  },
  {
   "cell_type": "code",
   "execution_count": 20,
   "metadata": {
    "collapsed": false
   },
   "outputs": [],
   "source": [
    "from pyspark.sql.functions import avg\n",
    "\n",
    "# function: fill(double value, scala.collection.Seq<String> cols)\n",
    "R = dataDF # creat a copy\n",
    "\n",
    "#go through each column and replace missing values with mean\n",
    "\n",
    "for x in R.columns:\n",
    "    meanValue = R.na.drop().agg(avg(x)).first()[0]\n",
    "    R         = R.na.fill(meanValue, [x])"
   ]
  },
  {
   "cell_type": "code",
   "execution_count": 21,
   "metadata": {
    "collapsed": false
   },
   "outputs": [
    {
     "name": "stdout",
     "output_type": "stream",
     "text": [
      "+-------+------------------+------------------+----------------------+------------------+----------------------+------------------+---------------------+-----------------+---------------------+---------------------+\n",
      "|summary|  air_pressure_9am|      air_temp_9am|avg_wind_direction_9am|avg_wind_speed_9am|max_wind_direction_9am|max_wind_speed_9am|rain_accumulation_9am|rain_duration_9am|relative_humidity_9am|relative_humidity_3pm|\n",
      "+-------+------------------+------------------+----------------------+------------------+----------------------+------------------+---------------------+-----------------+---------------------+---------------------+\n",
      "|  count|              1095|              1095|                  1095|              1095|                  1095|              1095|                 1095|             1095|                 1095|                 1095|\n",
      "|   mean| 918.8826078303855| 64.93324212458779|     142.2364253915363| 5.508212238967135|     148.9535144804564| 7.019460030404404|   0.2030820261785819|294.1080522756153|    34.24140205923539|    35.34472714825902|\n",
      "| stddev|3.1797925145107264|11.149947128709346|     69.01135057372818| 4.546566956207263|     67.14575859717752| 5.587965482486295|   1.5895751323936487| 1595.88612437528|   25.472066802250044|    22.52407945358728|\n",
      "|    min| 907.9900000000024|36.752000000000685|    15.500000000000046|  0.69345139999974|     28.89999999999991|1.1855782000000479|                  0.0|              0.0|    6.090000000001012|   5.3000000000006855|\n",
      "|    max| 929.3200000000012| 98.90599999999992|                 343.4|23.554978199999763|    312.19999999999993| 29.84077959999996|    24.01999999999907|          17704.0|     92.6200000000002|     92.2500000000003|\n",
      "+-------+------------------+------------------+----------------------+------------------+----------------------+------------------+---------------------+-----------------+---------------------+---------------------+\n",
      "\n"
     ]
    }
   ],
   "source": [
    "R.describe().show() # mean has changed a little bit"
   ]
  },
  {
   "cell_type": "markdown",
   "metadata": {},
   "source": [
    "# Hands On 3: Classification"
   ]
  },
  {
   "cell_type": "code",
   "execution_count": 27,
   "metadata": {
    "collapsed": false
   },
   "outputs": [],
   "source": [
    "from pyspark.ml.classification import DecisionTreeClassifier\n",
    "\n",
    "#Remove all rows with missing vaues\n",
    "dataDF = dataDF.na.drop()"
   ]
  },
  {
   "cell_type": "markdown",
   "metadata": {},
   "source": [
    "## Features Column"
   ]
  },
  {
   "cell_type": "code",
   "execution_count": 28,
   "metadata": {
    "collapsed": false
   },
   "outputs": [],
   "source": [
    "cols = ['air_pressure_9am','air_temp_9am','avg_wind_direction_9am','avg_wind_speed_9am','max_wind_direction_9am','max_wind_speed_9am','rain_accumulation_9am','rain_duration_9am']"
   ]
  },
  {
   "cell_type": "markdown",
   "metadata": {},
   "source": [
    "#### Create a Categorical column: 0 means relative_humidity_3pm is less than 25\n"
   ]
  },
  {
   "cell_type": "code",
   "execution_count": 29,
   "metadata": {
    "collapsed": false
   },
   "outputs": [
    {
     "name": "stdout",
     "output_type": "stream",
     "text": [
      "+---------------------+-----+\n",
      "|relative_humidity_3pm|label|\n",
      "+---------------------+-----+\n",
      "|   36.160000000000494|  1.0|\n",
      "|     19.4265967985621|  0.0|\n",
      "|   14.460000000000045|  0.0|\n",
      "|   12.742547353761848|  0.0|\n",
      "|    76.74000000000046|  1.0|\n",
      "|   33.930000000000256|  1.0|\n",
      "|   21.385656725200974|  0.0|\n",
      "|    74.92000000000041|  1.0|\n",
      "|   24.030000000000427|  0.0|\n",
      "|     68.0500000000012|  1.0|\n",
      "|    32.13000000000024|  1.0|\n",
      "|     79.0900000000002|  1.0|\n",
      "|    58.43000000000119|  1.0|\n",
      "|   27.990000000000173|  1.0|\n",
      "|   24.369999999999948|  0.0|\n",
      "|   14.801705962979918|  0.0|\n",
      "|    20.75568332171184|  0.0|\n",
      "|    45.87000000000005|  1.0|\n",
      "|    7.740000000000088|  0.0|\n",
      "|   14.649909361535952|  0.0|\n",
      "+---------------------+-----+\n",
      "only showing top 20 rows\n",
      "\n"
     ]
    }
   ],
   "source": [
    "from pyspark.ml.feature import Binarizer\n",
    "\n",
    "binarizer = Binarizer(threshold=24.99999, inputCol=\"relative_humidity_3pm\", outputCol=\"label\")\n",
    "binarizedDataFrame = binarizer.transform(dataDF)\n",
    "\n",
    "binarizedDataFrame.select(\"relative_humidity_3pm\",\"label\").show()"
   ]
  },
  {
   "cell_type": "code",
   "execution_count": 30,
   "metadata": {
    "collapsed": false
   },
   "outputs": [
    {
     "data": {
      "text/plain": [
       "DataFrame[air_pressure_9am: double, air_temp_9am: double, avg_wind_direction_9am: double, avg_wind_speed_9am: double, max_wind_direction_9am: double, max_wind_speed_9am: double, rain_accumulation_9am: double, rain_duration_9am: double, relative_humidity_9am: double, relative_humidity_3pm: double, label: double, features: vector]"
      ]
     },
     "execution_count": 30,
     "metadata": {},
     "output_type": "execute_result"
    }
   ],
   "source": [
    "from pyspark.ml.feature import VectorAssembler, StringIndexer, VectorIndexer\n",
    "\n",
    "assembler = VectorAssembler(inputCols=cols, outputCol=\"features\")\n",
    "assembled = assembler.transform(binarizedDataFrame)\n",
    "\n",
    "assembled"
   ]
  },
  {
   "cell_type": "code",
   "execution_count": 31,
   "metadata": {
    "collapsed": false
   },
   "outputs": [],
   "source": [
    "# delete before classification\n",
    "dataDF = dataDF.drop('relative_humidity_9am')\n",
    "dataDF = dataDF.drop('relative_humidity_3pm')"
   ]
  },
  {
   "cell_type": "markdown",
   "metadata": {},
   "source": [
    "## Test and Training Data"
   ]
  },
  {
   "cell_type": "code",
   "execution_count": 32,
   "metadata": {
    "collapsed": true
   },
   "outputs": [],
   "source": [
    "# Split the data into training and test sets (30% held out for testing)\n",
    "(trainingData, testData) = assembled.randomSplit([0.7, 0.3], seed = 1234)"
   ]
  },
  {
   "cell_type": "code",
   "execution_count": 33,
   "metadata": {
    "collapsed": false
   },
   "outputs": [],
   "source": [
    "labelIndexer = StringIndexer(inputCol=\"label\", outputCol=\"indexedLabel\").fit(assembled)\n",
    "\n",
    "# Automatically identify categorical features, and index them.\n",
    "# We specify maxCategories so features with > 4 distinct values are treated as continuous.\n",
    "featureIndexer= VectorIndexer(inputCol=\"features\", outputCol=\"indexedFeatures\", maxCategories=4).fit(assembled)"
   ]
  },
  {
   "cell_type": "markdown",
   "metadata": {},
   "source": [
    "## Decision Tree in Spark"
   ]
  },
  {
   "cell_type": "code",
   "execution_count": 1,
   "metadata": {
    "collapsed": true
   },
   "outputs": [
    {
     "ename": "NameError",
     "evalue": "name 'DecisionTreeClassifier' is not defined",
     "output_type": "error",
     "traceback": [
      "\u001b[1;31m---------------------------------------------------------------------------\u001b[0m",
      "\u001b[1;31mNameError\u001b[0m                                 Traceback (most recent call last)",
      "\u001b[1;32m<ipython-input-1-d24c0dd5c172>\u001b[0m in \u001b[0;36m<module>\u001b[1;34m()\u001b[0m\n\u001b[0;32m      1\u001b[0m \u001b[1;31m# Train a DecisionTree model.\u001b[0m\u001b[1;33m\u001b[0m\u001b[1;33m\u001b[0m\u001b[0m\n\u001b[1;32m----> 2\u001b[1;33m dt = DecisionTreeClassifier(labelCol=\"indexedLabel\", featuresCol=\"indexedFeatures\",\n\u001b[0m\u001b[0;32m      3\u001b[0m                   \u001b[0mmaxDepth\u001b[0m\u001b[1;33m=\u001b[0m\u001b[1;36m5\u001b[0m\u001b[1;33m,\u001b[0m  \u001b[0mminInstancesPerNode\u001b[0m\u001b[1;33m=\u001b[0m\u001b[1;36m20\u001b[0m\u001b[1;33m,\u001b[0m\u001b[1;33m\u001b[0m\u001b[0m\n\u001b[0;32m      4\u001b[0m                   impurity=\"gini\")\n\u001b[0;32m      5\u001b[0m \u001b[1;33m\u001b[0m\u001b[0m\n",
      "\u001b[1;31mNameError\u001b[0m: name 'DecisionTreeClassifier' is not defined"
     ]
    }
   ],
   "source": [
    "# Train a DecisionTree model.\n",
    "dt = DecisionTreeClassifier(labelCol=\"indexedLabel\", featuresCol=\"indexedFeatures\",\n",
    "                  maxDepth=5,  minInstancesPerNode=20, \n",
    "                  impurity=\"gini\")\n",
    "\n",
    "\n",
    "# Chain indexers and tree in a Pipeline\n",
    "pipeline = Pipeline(stages=[labelIndexer, featureIndexer, dt])\n",
    "\n",
    "# Train model.  This also runs the indexers.\n",
    "model = pipeline.fit(trainingData)\n",
    "\n",
    "# Make predictions.\n",
    "predictions = model.transform(testData)\n",
    "\n",
    "predictions.select(\"prediction\", \"indexedLabel\", \"label\").toPandas().to_csv(\"predictions.csv\", index=False )"
   ]
  },
  {
   "cell_type": "markdown",
   "metadata": {},
   "source": [
    "# Hands On 4: Evaluation of Machine Learning Models"
   ]
  },
  {
   "cell_type": "markdown",
   "metadata": {},
   "source": [
    "## Accuracy - Decision Tree"
   ]
  },
  {
   "cell_type": "code",
   "execution_count": 40,
   "metadata": {
    "collapsed": false
   },
   "outputs": [
    {
     "name": "stdout",
     "output_type": "stream",
     "text": [
      "Accuracy = 0.765677 \n"
     ]
    }
   ],
   "source": [
    "from pyspark.ml.evaluation import MulticlassClassificationEvaluator\n",
    "\n",
    "# Select (prediction, true label) and compute test error\n",
    "evaluator = MulticlassClassificationEvaluator(\n",
    "    labelCol=\"indexedLabel\", predictionCol=\"prediction\", metricName=\"precision\")\n",
    "\n",
    "accuracy = evaluator.evaluate(predictions)\n",
    "print(\"Accuracy = %g \" % (accuracy))"
   ]
  },
  {
   "cell_type": "markdown",
   "metadata": {},
   "source": [
    "## Confusion Matrix - Decision Tree"
   ]
  },
  {
   "cell_type": "code",
   "execution_count": 36,
   "metadata": {
    "collapsed": false
   },
   "outputs": [
    {
     "data": {
      "text/plain": [
       "array([[104,  33],\n",
       "       [ 38, 128]])"
      ]
     },
     "execution_count": 36,
     "metadata": {},
     "output_type": "execute_result"
    }
   ],
   "source": [
    "from sklearn.metrics import confusion_matrix\n",
    "\n",
    "confusion_matrix(predictions.select('label').toPandas(), predictions.select('prediction').toPandas())"
   ]
  },
  {
   "cell_type": "code",
   "execution_count": null,
   "metadata": {
    "collapsed": true
   },
   "outputs": [],
   "source": []
  },
  {
   "cell_type": "code",
   "execution_count": null,
   "metadata": {
    "collapsed": true
   },
   "outputs": [],
   "source": []
  },
  {
   "cell_type": "code",
   "execution_count": null,
   "metadata": {
    "collapsed": true
   },
   "outputs": [],
   "source": []
  }
 ],
 "metadata": {
  "kernelspec": {
   "display_name": "Python 2",
   "language": "python",
   "name": "python2"
  },
  "language_info": {
   "codemirror_mode": {
    "name": "ipython",
    "version": 2
   },
   "file_extension": ".py",
   "mimetype": "text/x-python",
   "name": "python",
   "nbconvert_exporter": "python",
   "pygments_lexer": "ipython2",
   "version": "2.7.11"
  }
 },
 "nbformat": 4,
 "nbformat_minor": 0
}
