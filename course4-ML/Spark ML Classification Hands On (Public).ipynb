{
 "cells": [
  {
   "cell_type": "code",
   "execution_count": 2,
   "metadata": {
    "collapsed": false
   },
   "outputs": [],
   "source": [
    "# Data import using Spark ML\n",
    "\n",
    "from pyspark.sql import SQLContext\n",
    "import pandas as pd\n",
    "from pyspark.ml import Pipeline\n",
    "%matplotlib inline\n",
    "import matplotlib.pyplot as plt"
   ]
  },
  {
   "cell_type": "code",
   "execution_count": 3,
   "metadata": {
    "collapsed": false
   },
   "outputs": [
    {
     "data": {
      "text/plain": [
       "(1095, 10)"
      ]
     },
     "execution_count": 3,
     "metadata": {},
     "output_type": "execute_result"
    }
   ],
   "source": [
    "f = pd.read_csv(\"daily_weather.csv\", sep=',', index_col=0)\n",
    "\n",
    "# How many samples ?\n",
    "f.shape"
   ]
  },
  {
   "cell_type": "code",
   "execution_count": 4,
   "metadata": {
    "collapsed": false
   },
   "outputs": [],
   "source": [
    "del f['relative_humidity_9am']"
   ]
  },
  {
   "cell_type": "code",
   "execution_count": 5,
   "metadata": {
    "collapsed": true
   },
   "outputs": [],
   "source": [
    "def functionG(row):\n",
    "    if row['relative_humidity_3pm'] < 25:\n",
    "        val = 1\n",
    "    else:\n",
    "        val = 0\n",
    "    return val"
   ]
  },
  {
   "cell_type": "code",
   "execution_count": 6,
   "metadata": {
    "collapsed": false
   },
   "outputs": [
    {
     "data": {
      "text/plain": [
       "548"
      ]
     },
     "execution_count": 6,
     "metadata": {},
     "output_type": "execute_result"
    }
   ],
   "source": [
    "f['label'] = f.apply(functionG, axis=1)\n",
    "\n",
    "#How many samples are in Class 1 (low humidity) ?\n",
    "f['label'].sum()"
   ]
  },
  {
   "cell_type": "markdown",
   "metadata": {},
   "source": [
    "# Hands On 1: Data Exploration"
   ]
  },
  {
   "cell_type": "markdown",
   "metadata": {},
   "source": [
    "### Summary Statistics"
   ]
  },
  {
   "cell_type": "code",
   "execution_count": 7,
   "metadata": {
    "collapsed": false
   },
   "outputs": [
    {
     "data": {
      "text/html": [
       "<div>\n",
       "<table border=\"1\" class=\"dataframe\">\n",
       "  <thead>\n",
       "    <tr style=\"text-align: right;\">\n",
       "      <th></th>\n",
       "      <th>air_pressure_9am</th>\n",
       "      <th>air_temp_9am</th>\n",
       "      <th>avg_wind_direction_9am</th>\n",
       "      <th>avg_wind_speed_9am</th>\n",
       "      <th>max_wind_direction_9am</th>\n",
       "      <th>max_wind_speed_9am</th>\n",
       "      <th>rain_accumulation_9am</th>\n",
       "      <th>rain_duration_9am</th>\n",
       "      <th>relative_humidity_3pm</th>\n",
       "      <th>label</th>\n",
       "    </tr>\n",
       "  </thead>\n",
       "  <tbody>\n",
       "    <tr>\n",
       "      <th>count</th>\n",
       "      <td>1092.000000</td>\n",
       "      <td>1090.000000</td>\n",
       "      <td>1091.000000</td>\n",
       "      <td>1092.000000</td>\n",
       "      <td>1092.000000</td>\n",
       "      <td>1091.000000</td>\n",
       "      <td>1089.000000</td>\n",
       "      <td>1092.000000</td>\n",
       "      <td>1095.000000</td>\n",
       "      <td>1095.000000</td>\n",
       "    </tr>\n",
       "    <tr>\n",
       "      <th>mean</th>\n",
       "      <td>918.882551</td>\n",
       "      <td>64.933001</td>\n",
       "      <td>142.235511</td>\n",
       "      <td>5.508284</td>\n",
       "      <td>148.953518</td>\n",
       "      <td>7.019514</td>\n",
       "      <td>0.203079</td>\n",
       "      <td>294.108052</td>\n",
       "      <td>35.344727</td>\n",
       "      <td>0.500457</td>\n",
       "    </tr>\n",
       "    <tr>\n",
       "      <th>std</th>\n",
       "      <td>3.184161</td>\n",
       "      <td>11.175514</td>\n",
       "      <td>69.137859</td>\n",
       "      <td>4.552813</td>\n",
       "      <td>67.238013</td>\n",
       "      <td>5.598209</td>\n",
       "      <td>1.593952</td>\n",
       "      <td>1598.078779</td>\n",
       "      <td>22.524079</td>\n",
       "      <td>0.500228</td>\n",
       "    </tr>\n",
       "    <tr>\n",
       "      <th>min</th>\n",
       "      <td>907.990000</td>\n",
       "      <td>36.752000</td>\n",
       "      <td>15.500000</td>\n",
       "      <td>0.693451</td>\n",
       "      <td>28.900000</td>\n",
       "      <td>1.185578</td>\n",
       "      <td>0.000000</td>\n",
       "      <td>0.000000</td>\n",
       "      <td>5.300000</td>\n",
       "      <td>0.000000</td>\n",
       "    </tr>\n",
       "    <tr>\n",
       "      <th>25%</th>\n",
       "      <td>916.550000</td>\n",
       "      <td>57.281000</td>\n",
       "      <td>65.972506</td>\n",
       "      <td>2.248768</td>\n",
       "      <td>76.553003</td>\n",
       "      <td>3.067477</td>\n",
       "      <td>0.000000</td>\n",
       "      <td>0.000000</td>\n",
       "      <td>17.395000</td>\n",
       "      <td>0.000000</td>\n",
       "    </tr>\n",
       "    <tr>\n",
       "      <th>50%</th>\n",
       "      <td>918.921045</td>\n",
       "      <td>65.715479</td>\n",
       "      <td>166.000000</td>\n",
       "      <td>3.871333</td>\n",
       "      <td>177.300000</td>\n",
       "      <td>4.943637</td>\n",
       "      <td>0.000000</td>\n",
       "      <td>0.000000</td>\n",
       "      <td>24.380000</td>\n",
       "      <td>1.000000</td>\n",
       "    </tr>\n",
       "    <tr>\n",
       "      <th>75%</th>\n",
       "      <td>921.160073</td>\n",
       "      <td>73.450974</td>\n",
       "      <td>191.000000</td>\n",
       "      <td>7.337163</td>\n",
       "      <td>201.233153</td>\n",
       "      <td>8.947760</td>\n",
       "      <td>0.000000</td>\n",
       "      <td>0.000000</td>\n",
       "      <td>52.060000</td>\n",
       "      <td>1.000000</td>\n",
       "    </tr>\n",
       "    <tr>\n",
       "      <th>max</th>\n",
       "      <td>929.320000</td>\n",
       "      <td>98.906000</td>\n",
       "      <td>343.400000</td>\n",
       "      <td>23.554978</td>\n",
       "      <td>312.200000</td>\n",
       "      <td>29.840780</td>\n",
       "      <td>24.020000</td>\n",
       "      <td>17704.000000</td>\n",
       "      <td>92.250000</td>\n",
       "      <td>1.000000</td>\n",
       "    </tr>\n",
       "  </tbody>\n",
       "</table>\n",
       "</div>"
      ],
      "text/plain": [
       "       air_pressure_9am  air_temp_9am  avg_wind_direction_9am  \\\n",
       "count       1092.000000   1090.000000             1091.000000   \n",
       "mean         918.882551     64.933001              142.235511   \n",
       "std            3.184161     11.175514               69.137859   \n",
       "min          907.990000     36.752000               15.500000   \n",
       "25%          916.550000     57.281000               65.972506   \n",
       "50%          918.921045     65.715479              166.000000   \n",
       "75%          921.160073     73.450974              191.000000   \n",
       "max          929.320000     98.906000              343.400000   \n",
       "\n",
       "       avg_wind_speed_9am  max_wind_direction_9am  max_wind_speed_9am  \\\n",
       "count         1092.000000             1092.000000         1091.000000   \n",
       "mean             5.508284              148.953518            7.019514   \n",
       "std              4.552813               67.238013            5.598209   \n",
       "min              0.693451               28.900000            1.185578   \n",
       "25%              2.248768               76.553003            3.067477   \n",
       "50%              3.871333              177.300000            4.943637   \n",
       "75%              7.337163              201.233153            8.947760   \n",
       "max             23.554978              312.200000           29.840780   \n",
       "\n",
       "       rain_accumulation_9am  rain_duration_9am  relative_humidity_3pm  \\\n",
       "count            1089.000000        1092.000000            1095.000000   \n",
       "mean                0.203079         294.108052              35.344727   \n",
       "std                 1.593952        1598.078779              22.524079   \n",
       "min                 0.000000           0.000000               5.300000   \n",
       "25%                 0.000000           0.000000              17.395000   \n",
       "50%                 0.000000           0.000000              24.380000   \n",
       "75%                 0.000000           0.000000              52.060000   \n",
       "max                24.020000       17704.000000              92.250000   \n",
       "\n",
       "             label  \n",
       "count  1095.000000  \n",
       "mean      0.500457  \n",
       "std       0.500228  \n",
       "min       0.000000  \n",
       "25%       0.000000  \n",
       "50%       1.000000  \n",
       "75%       1.000000  \n",
       "max       1.000000  "
      ]
     },
     "execution_count": 7,
     "metadata": {},
     "output_type": "execute_result"
    }
   ],
   "source": [
    "f.describe()"
   ]
  },
  {
   "cell_type": "code",
   "execution_count": 8,
   "metadata": {
    "collapsed": false
   },
   "outputs": [],
   "source": [
    "del f['relative_humidity_3pm']"
   ]
  },
  {
   "cell_type": "code",
   "execution_count": 9,
   "metadata": {
    "collapsed": false
   },
   "outputs": [
    {
     "data": {
      "text/plain": [
       "Index([u'air_pressure_9am', u'air_temp_9am', u'avg_wind_direction_9am',\n",
       "       u'avg_wind_speed_9am', u'max_wind_direction_9am', u'max_wind_speed_9am',\n",
       "       u'rain_accumulation_9am', u'rain_duration_9am', u'label'],\n",
       "      dtype='object')"
      ]
     },
     "execution_count": 9,
     "metadata": {},
     "output_type": "execute_result"
    }
   ],
   "source": [
    "f.columns[0:]"
   ]
  },
  {
   "cell_type": "markdown",
   "metadata": {},
   "source": [
    "# Pairwise Correlation"
   ]
  },
  {
   "cell_type": "code",
   "execution_count": 10,
   "metadata": {
    "collapsed": false
   },
   "outputs": [
    {
     "data": {
      "text/html": [
       "<div>\n",
       "<table border=\"1\" class=\"dataframe\">\n",
       "  <thead>\n",
       "    <tr style=\"text-align: right;\">\n",
       "      <th></th>\n",
       "      <th>air_pressure_9am</th>\n",
       "      <th>air_temp_9am</th>\n",
       "      <th>avg_wind_direction_9am</th>\n",
       "      <th>avg_wind_speed_9am</th>\n",
       "      <th>max_wind_direction_9am</th>\n",
       "      <th>max_wind_speed_9am</th>\n",
       "      <th>rain_accumulation_9am</th>\n",
       "      <th>rain_duration_9am</th>\n",
       "      <th>label</th>\n",
       "    </tr>\n",
       "  </thead>\n",
       "  <tbody>\n",
       "    <tr>\n",
       "      <th>air_pressure_9am</th>\n",
       "      <td>1.000000</td>\n",
       "      <td>-0.049252</td>\n",
       "      <td>-0.317073</td>\n",
       "      <td>0.235254</td>\n",
       "      <td>-0.293780</td>\n",
       "      <td>0.252614</td>\n",
       "      <td>-0.091142</td>\n",
       "      <td>-0.105059</td>\n",
       "      <td>0.486934</td>\n",
       "    </tr>\n",
       "    <tr>\n",
       "      <th>air_temp_9am</th>\n",
       "      <td>-0.049252</td>\n",
       "      <td>1.000000</td>\n",
       "      <td>-0.024714</td>\n",
       "      <td>-0.286494</td>\n",
       "      <td>-0.088657</td>\n",
       "      <td>-0.283750</td>\n",
       "      <td>-0.214538</td>\n",
       "      <td>-0.266145</td>\n",
       "      <td>0.267250</td>\n",
       "    </tr>\n",
       "    <tr>\n",
       "      <th>avg_wind_direction_9am</th>\n",
       "      <td>-0.317073</td>\n",
       "      <td>-0.024714</td>\n",
       "      <td>1.000000</td>\n",
       "      <td>-0.432951</td>\n",
       "      <td>0.871308</td>\n",
       "      <td>-0.456510</td>\n",
       "      <td>0.125736</td>\n",
       "      <td>0.122559</td>\n",
       "      <td>-0.365870</td>\n",
       "    </tr>\n",
       "    <tr>\n",
       "      <th>avg_wind_speed_9am</th>\n",
       "      <td>0.235254</td>\n",
       "      <td>-0.286494</td>\n",
       "      <td>-0.432951</td>\n",
       "      <td>1.000000</td>\n",
       "      <td>-0.355639</td>\n",
       "      <td>0.995327</td>\n",
       "      <td>0.017727</td>\n",
       "      <td>0.018295</td>\n",
       "      <td>0.221692</td>\n",
       "    </tr>\n",
       "    <tr>\n",
       "      <th>max_wind_direction_9am</th>\n",
       "      <td>-0.293780</td>\n",
       "      <td>-0.088657</td>\n",
       "      <td>0.871308</td>\n",
       "      <td>-0.355639</td>\n",
       "      <td>1.000000</td>\n",
       "      <td>-0.379523</td>\n",
       "      <td>0.105140</td>\n",
       "      <td>0.092038</td>\n",
       "      <td>-0.387255</td>\n",
       "    </tr>\n",
       "    <tr>\n",
       "      <th>max_wind_speed_9am</th>\n",
       "      <td>0.252614</td>\n",
       "      <td>-0.283750</td>\n",
       "      <td>-0.456510</td>\n",
       "      <td>0.995327</td>\n",
       "      <td>-0.379523</td>\n",
       "      <td>1.000000</td>\n",
       "      <td>0.019879</td>\n",
       "      <td>0.027406</td>\n",
       "      <td>0.245252</td>\n",
       "    </tr>\n",
       "    <tr>\n",
       "      <th>rain_accumulation_9am</th>\n",
       "      <td>-0.091142</td>\n",
       "      <td>-0.214538</td>\n",
       "      <td>0.125736</td>\n",
       "      <td>0.017727</td>\n",
       "      <td>0.105140</td>\n",
       "      <td>0.019879</td>\n",
       "      <td>1.000000</td>\n",
       "      <td>0.734037</td>\n",
       "      <td>-0.122258</td>\n",
       "    </tr>\n",
       "    <tr>\n",
       "      <th>rain_duration_9am</th>\n",
       "      <td>-0.105059</td>\n",
       "      <td>-0.266145</td>\n",
       "      <td>0.122559</td>\n",
       "      <td>0.018295</td>\n",
       "      <td>0.092038</td>\n",
       "      <td>0.027406</td>\n",
       "      <td>0.734037</td>\n",
       "      <td>1.000000</td>\n",
       "      <td>-0.165705</td>\n",
       "    </tr>\n",
       "    <tr>\n",
       "      <th>label</th>\n",
       "      <td>0.486934</td>\n",
       "      <td>0.267250</td>\n",
       "      <td>-0.365870</td>\n",
       "      <td>0.221692</td>\n",
       "      <td>-0.387255</td>\n",
       "      <td>0.245252</td>\n",
       "      <td>-0.122258</td>\n",
       "      <td>-0.165705</td>\n",
       "      <td>1.000000</td>\n",
       "    </tr>\n",
       "  </tbody>\n",
       "</table>\n",
       "</div>"
      ],
      "text/plain": [
       "                        air_pressure_9am  air_temp_9am  \\\n",
       "air_pressure_9am                1.000000     -0.049252   \n",
       "air_temp_9am                   -0.049252      1.000000   \n",
       "avg_wind_direction_9am         -0.317073     -0.024714   \n",
       "avg_wind_speed_9am              0.235254     -0.286494   \n",
       "max_wind_direction_9am         -0.293780     -0.088657   \n",
       "max_wind_speed_9am              0.252614     -0.283750   \n",
       "rain_accumulation_9am          -0.091142     -0.214538   \n",
       "rain_duration_9am              -0.105059     -0.266145   \n",
       "label                           0.486934      0.267250   \n",
       "\n",
       "                        avg_wind_direction_9am  avg_wind_speed_9am  \\\n",
       "air_pressure_9am                     -0.317073            0.235254   \n",
       "air_temp_9am                         -0.024714           -0.286494   \n",
       "avg_wind_direction_9am                1.000000           -0.432951   \n",
       "avg_wind_speed_9am                   -0.432951            1.000000   \n",
       "max_wind_direction_9am                0.871308           -0.355639   \n",
       "max_wind_speed_9am                   -0.456510            0.995327   \n",
       "rain_accumulation_9am                 0.125736            0.017727   \n",
       "rain_duration_9am                     0.122559            0.018295   \n",
       "label                                -0.365870            0.221692   \n",
       "\n",
       "                        max_wind_direction_9am  max_wind_speed_9am  \\\n",
       "air_pressure_9am                     -0.293780            0.252614   \n",
       "air_temp_9am                         -0.088657           -0.283750   \n",
       "avg_wind_direction_9am                0.871308           -0.456510   \n",
       "avg_wind_speed_9am                   -0.355639            0.995327   \n",
       "max_wind_direction_9am                1.000000           -0.379523   \n",
       "max_wind_speed_9am                   -0.379523            1.000000   \n",
       "rain_accumulation_9am                 0.105140            0.019879   \n",
       "rain_duration_9am                     0.092038            0.027406   \n",
       "label                                -0.387255            0.245252   \n",
       "\n",
       "                        rain_accumulation_9am  rain_duration_9am     label  \n",
       "air_pressure_9am                    -0.091142          -0.105059  0.486934  \n",
       "air_temp_9am                        -0.214538          -0.266145  0.267250  \n",
       "avg_wind_direction_9am               0.125736           0.122559 -0.365870  \n",
       "avg_wind_speed_9am                   0.017727           0.018295  0.221692  \n",
       "max_wind_direction_9am               0.105140           0.092038 -0.387255  \n",
       "max_wind_speed_9am                   0.019879           0.027406  0.245252  \n",
       "rain_accumulation_9am                1.000000           0.734037 -0.122258  \n",
       "rain_duration_9am                    0.734037           1.000000 -0.165705  \n",
       "label                               -0.122258          -0.165705  1.000000  "
      ]
     },
     "execution_count": 10,
     "metadata": {},
     "output_type": "execute_result"
    }
   ],
   "source": [
    "# Pearson Correlation\n",
    "f.corr(method='pearson')"
   ]
  },
  {
   "cell_type": "markdown",
   "metadata": {},
   "source": [
    "# Plots"
   ]
  },
  {
   "cell_type": "markdown",
   "metadata": {},
   "source": [
    "## Histogram"
   ]
  },
  {
   "cell_type": "code",
   "execution_count": 11,
   "metadata": {
    "collapsed": false
   },
   "outputs": [
    {
     "data": {
      "image/png": "[encoded data removed]",
      "text/plain": [
       "<matplotlib.figure.Figure at 0x7f5ba34e5550>"
      ]
     },
     "metadata": {},
     "output_type": "display_data"
    }
   ],
   "source": [
    "z=f.hist(figsize=(15,15))"
   ]
  },
  {
   "cell_type": "markdown",
   "metadata": {},
   "source": [
    "# Scatter plot"
   ]
  },
  {
   "cell_type": "code",
   "execution_count": 12,
   "metadata": {
    "collapsed": false
   },
   "outputs": [
    {
     "data": {
      "image/png": "[encoded data removed]",
      "text/plain": [
       "<matplotlib.figure.Figure at 0x7f5b9f0bb350>"
      ]
     },
     "metadata": {},
     "output_type": "display_data"
    }
   ],
   "source": [
    "z=f.plot.scatter(x='air_pressure_9am', y='air_temp_9am')"
   ]
  },
  {
   "cell_type": "code",
   "execution_count": 13,
   "metadata": {
    "collapsed": false
   },
   "outputs": [
    {
     "data": {
      "image/png": "[encoded data removed]",
      "text/plain": [
       "<matplotlib.figure.Figure at 0x7f5b959ffd90>"
      ]
     },
     "metadata": {},
     "output_type": "display_data"
    }
   ],
   "source": [
    "z=f.plot.scatter(x='air_pressure_9am', y='avg_wind_speed_9am')"
   ]
  },
  {
   "cell_type": "markdown",
   "metadata": {},
   "source": [
    "# Bar Plot"
   ]
  },
  {
   "cell_type": "code",
   "execution_count": 14,
   "metadata": {
    "collapsed": false
   },
   "outputs": [
    {
     "data": {
      "image/png": "[encoded data removed]",
      "text/plain": [
       "<matplotlib.figure.Figure at 0x7f5b95ac4b90>"
      ]
     },
     "metadata": {},
     "output_type": "display_data"
    }
   ],
   "source": [
    "what = ['air_temp_9am']\n",
    "z=f[what].head(40).plot(kind = 'bar', figsize=(15,8))"
   ]
  },
  {
   "cell_type": "markdown",
   "metadata": {},
   "source": [
    "# Box Plot"
   ]
  },
  {
   "cell_type": "code",
   "execution_count": 15,
   "metadata": {
    "collapsed": false
   },
   "outputs": [
    {
     "data": {
      "image/png": "[encoded data removed]",
      "text/plain": [
       "<matplotlib.figure.Figure at 0x7f5b95b36110>"
      ]
     },
     "metadata": {},
     "output_type": "display_data"
    }
   ],
   "source": [
    "what = ['air_temp_9am','avg_wind_direction_9am','avg_wind_speed_9am','max_wind_direction_9am']\n",
    "z=f[what].plot(kind = 'box', figsize=(15,8))"
   ]
  },
  {
   "cell_type": "code",
   "execution_count": 16,
   "metadata": {
    "collapsed": false
   },
   "outputs": [],
   "source": [
    "#from pyspark.mllib.linalg import DenseVector \n",
    "cols = ['air_pressure_9am','air_temp_9am','avg_wind_direction_9am','avg_wind_speed_9am','max_wind_direction_9am','max_wind_speed_9am','rain_accumulation_9am','rain_duration_9am']"
   ]
  },
  {
   "cell_type": "code",
   "execution_count": 17,
   "metadata": {
    "collapsed": false
   },
   "outputs": [],
   "source": [
    "from pyspark.ml.classification import DecisionTreeClassifier"
   ]
  },
  {
   "cell_type": "markdown",
   "metadata": {},
   "source": [
    "# Hands on 2: Data Preparation"
   ]
  },
  {
   "cell_type": "markdown",
   "metadata": {},
   "source": [
    "## Handling Missing Values"
   ]
  },
  {
   "cell_type": "code",
   "execution_count": 18,
   "metadata": {
    "collapsed": false
   },
   "outputs": [
    {
     "data": {
      "text/html": [
       "<div>\n",
       "<table border=\"1\" class=\"dataframe\">\n",
       "  <thead>\n",
       "    <tr style=\"text-align: right;\">\n",
       "      <th></th>\n",
       "      <th>air_pressure_9am</th>\n",
       "      <th>air_temp_9am</th>\n",
       "      <th>avg_wind_direction_9am</th>\n",
       "      <th>avg_wind_speed_9am</th>\n",
       "      <th>max_wind_direction_9am</th>\n",
       "      <th>max_wind_speed_9am</th>\n",
       "      <th>rain_accumulation_9am</th>\n",
       "      <th>rain_duration_9am</th>\n",
       "      <th>label</th>\n",
       "    </tr>\n",
       "  </thead>\n",
       "  <tbody>\n",
       "    <tr>\n",
       "      <th>count</th>\n",
       "      <td>1092.000000</td>\n",
       "      <td>1090.000000</td>\n",
       "      <td>1091.000000</td>\n",
       "      <td>1092.000000</td>\n",
       "      <td>1092.000000</td>\n",
       "      <td>1091.000000</td>\n",
       "      <td>1089.000000</td>\n",
       "      <td>1092.000000</td>\n",
       "      <td>1095.000000</td>\n",
       "    </tr>\n",
       "    <tr>\n",
       "      <th>mean</th>\n",
       "      <td>918.882551</td>\n",
       "      <td>64.933001</td>\n",
       "      <td>142.235511</td>\n",
       "      <td>5.508284</td>\n",
       "      <td>148.953518</td>\n",
       "      <td>7.019514</td>\n",
       "      <td>0.203079</td>\n",
       "      <td>294.108052</td>\n",
       "      <td>0.500457</td>\n",
       "    </tr>\n",
       "    <tr>\n",
       "      <th>std</th>\n",
       "      <td>3.184161</td>\n",
       "      <td>11.175514</td>\n",
       "      <td>69.137859</td>\n",
       "      <td>4.552813</td>\n",
       "      <td>67.238013</td>\n",
       "      <td>5.598209</td>\n",
       "      <td>1.593952</td>\n",
       "      <td>1598.078779</td>\n",
       "      <td>0.500228</td>\n",
       "    </tr>\n",
       "  </tbody>\n",
       "</table>\n",
       "</div>"
      ],
      "text/plain": [
       "       air_pressure_9am  air_temp_9am  avg_wind_direction_9am  \\\n",
       "count       1092.000000   1090.000000             1091.000000   \n",
       "mean         918.882551     64.933001              142.235511   \n",
       "std            3.184161     11.175514               69.137859   \n",
       "\n",
       "       avg_wind_speed_9am  max_wind_direction_9am  max_wind_speed_9am  \\\n",
       "count         1092.000000             1092.000000         1091.000000   \n",
       "mean             5.508284              148.953518            7.019514   \n",
       "std              4.552813               67.238013            5.598209   \n",
       "\n",
       "       rain_accumulation_9am  rain_duration_9am        label  \n",
       "count            1089.000000        1092.000000  1095.000000  \n",
       "mean                0.203079         294.108052     0.500457  \n",
       "std                 1.593952        1598.078779     0.500228  "
      ]
     },
     "execution_count": 18,
     "metadata": {},
     "output_type": "execute_result"
    }
   ],
   "source": [
    "f.describe().head(3)"
   ]
  },
  {
   "cell_type": "markdown",
   "metadata": {},
   "source": [
    "## Missing Values: Remove them"
   ]
  },
  {
   "cell_type": "code",
   "execution_count": 21,
   "metadata": {
    "collapsed": false
   },
   "outputs": [],
   "source": [
    "e = f.dropna()"
   ]
  },
  {
   "cell_type": "code",
   "execution_count": 22,
   "metadata": {
    "collapsed": true
   },
   "outputs": [],
   "source": [
    "s = f.fillna(f.mean())"
   ]
  },
  {
   "cell_type": "code",
   "execution_count": 23,
   "metadata": {
    "collapsed": false
   },
   "outputs": [
    {
     "data": {
      "text/html": [
       "<div>\n",
       "<table border=\"1\" class=\"dataframe\">\n",
       "  <thead>\n",
       "    <tr style=\"text-align: right;\">\n",
       "      <th></th>\n",
       "      <th>air_pressure_9am</th>\n",
       "      <th>air_temp_9am</th>\n",
       "      <th>avg_wind_direction_9am</th>\n",
       "      <th>avg_wind_speed_9am</th>\n",
       "      <th>max_wind_direction_9am</th>\n",
       "      <th>max_wind_speed_9am</th>\n",
       "      <th>rain_accumulation_9am</th>\n",
       "      <th>rain_duration_9am</th>\n",
       "      <th>label</th>\n",
       "    </tr>\n",
       "  </thead>\n",
       "  <tbody>\n",
       "    <tr>\n",
       "      <th>count</th>\n",
       "      <td>1064.00000</td>\n",
       "      <td>1064.000000</td>\n",
       "      <td>1064.000000</td>\n",
       "      <td>1064.000000</td>\n",
       "      <td>1064.000000</td>\n",
       "      <td>1064.000000</td>\n",
       "      <td>1064.000000</td>\n",
       "      <td>1064.000000</td>\n",
       "      <td>1064.000000</td>\n",
       "    </tr>\n",
       "    <tr>\n",
       "      <th>mean</th>\n",
       "      <td>918.90318</td>\n",
       "      <td>65.022609</td>\n",
       "      <td>142.306756</td>\n",
       "      <td>5.485793</td>\n",
       "      <td>148.480424</td>\n",
       "      <td>6.999714</td>\n",
       "      <td>0.182023</td>\n",
       "      <td>266.393697</td>\n",
       "      <td>0.502820</td>\n",
       "    </tr>\n",
       "    <tr>\n",
       "      <th>std</th>\n",
       "      <td>3.17904</td>\n",
       "      <td>11.168033</td>\n",
       "      <td>69.149472</td>\n",
       "      <td>4.534427</td>\n",
       "      <td>67.154911</td>\n",
       "      <td>5.590790</td>\n",
       "      <td>1.534493</td>\n",
       "      <td>1503.092216</td>\n",
       "      <td>0.500227</td>\n",
       "    </tr>\n",
       "  </tbody>\n",
       "</table>\n",
       "</div>"
      ],
      "text/plain": [
       "       air_pressure_9am  air_temp_9am  avg_wind_direction_9am  \\\n",
       "count        1064.00000   1064.000000             1064.000000   \n",
       "mean          918.90318     65.022609              142.306756   \n",
       "std             3.17904     11.168033               69.149472   \n",
       "\n",
       "       avg_wind_speed_9am  max_wind_direction_9am  max_wind_speed_9am  \\\n",
       "count         1064.000000             1064.000000         1064.000000   \n",
       "mean             5.485793              148.480424            6.999714   \n",
       "std              4.534427               67.154911            5.590790   \n",
       "\n",
       "       rain_accumulation_9am  rain_duration_9am        label  \n",
       "count            1064.000000        1064.000000  1064.000000  \n",
       "mean                0.182023         266.393697     0.502820  \n",
       "std                 1.534493        1503.092216     0.500227  "
      ]
     },
     "execution_count": 23,
     "metadata": {},
     "output_type": "execute_result"
    }
   ],
   "source": [
    "#Compare the Summary Statistics\n",
    "e.describe().head(3)"
   ]
  },
  {
   "cell_type": "markdown",
   "metadata": {},
   "source": [
    "## Missing values : Replace with Mean"
   ]
  },
  {
   "cell_type": "code",
   "execution_count": 24,
   "metadata": {
    "collapsed": false
   },
   "outputs": [],
   "source": [
    "s = f.fillna(f.mean())\n",
    "\n",
    "# OR replace with Median\n",
    "#s = f.fillna(f.median()) "
   ]
  },
  {
   "cell_type": "code",
   "execution_count": 27,
   "metadata": {
    "collapsed": false
   },
   "outputs": [
    {
     "data": {
      "text/html": [
       "<div>\n",
       "<table border=\"1\" class=\"dataframe\">\n",
       "  <thead>\n",
       "    <tr style=\"text-align: right;\">\n",
       "      <th></th>\n",
       "      <th>air_pressure_9am</th>\n",
       "      <th>air_temp_9am</th>\n",
       "      <th>avg_wind_direction_9am</th>\n",
       "      <th>avg_wind_speed_9am</th>\n",
       "      <th>max_wind_direction_9am</th>\n",
       "      <th>max_wind_speed_9am</th>\n",
       "      <th>rain_accumulation_9am</th>\n",
       "      <th>rain_duration_9am</th>\n",
       "      <th>label</th>\n",
       "    </tr>\n",
       "  </thead>\n",
       "  <tbody>\n",
       "    <tr>\n",
       "      <th>count</th>\n",
       "      <td>1095.000000</td>\n",
       "      <td>1095.000000</td>\n",
       "      <td>1095.000000</td>\n",
       "      <td>1095.000000</td>\n",
       "      <td>1095.000000</td>\n",
       "      <td>1095.000000</td>\n",
       "      <td>1095.000000</td>\n",
       "      <td>1095.000000</td>\n",
       "      <td>1095.000000</td>\n",
       "    </tr>\n",
       "    <tr>\n",
       "      <th>mean</th>\n",
       "      <td>918.882551</td>\n",
       "      <td>64.933001</td>\n",
       "      <td>142.235511</td>\n",
       "      <td>5.508284</td>\n",
       "      <td>148.953518</td>\n",
       "      <td>7.019514</td>\n",
       "      <td>0.203079</td>\n",
       "      <td>294.108052</td>\n",
       "      <td>0.500457</td>\n",
       "    </tr>\n",
       "    <tr>\n",
       "      <th>std</th>\n",
       "      <td>3.179792</td>\n",
       "      <td>11.149947</td>\n",
       "      <td>69.011349</td>\n",
       "      <td>4.546567</td>\n",
       "      <td>67.145759</td>\n",
       "      <td>5.587965</td>\n",
       "      <td>1.589575</td>\n",
       "      <td>1595.886124</td>\n",
       "      <td>0.500228</td>\n",
       "    </tr>\n",
       "  </tbody>\n",
       "</table>\n",
       "</div>"
      ],
      "text/plain": [
       "       air_pressure_9am  air_temp_9am  avg_wind_direction_9am  \\\n",
       "count       1095.000000   1095.000000             1095.000000   \n",
       "mean         918.882551     64.933001              142.235511   \n",
       "std            3.179792     11.149947               69.011349   \n",
       "\n",
       "       avg_wind_speed_9am  max_wind_direction_9am  max_wind_speed_9am  \\\n",
       "count         1095.000000             1095.000000         1095.000000   \n",
       "mean             5.508284              148.953518            7.019514   \n",
       "std              4.546567               67.145759            5.587965   \n",
       "\n",
       "       rain_accumulation_9am  rain_duration_9am        label  \n",
       "count            1095.000000        1095.000000  1095.000000  \n",
       "mean                0.203079         294.108052     0.500457  \n",
       "std                 1.589575        1595.886124     0.500228  "
      ]
     },
     "execution_count": 27,
     "metadata": {},
     "output_type": "execute_result"
    }
   ],
   "source": [
    "#Compare the Summary Statistics\n",
    "s.describe().head(3)"
   ]
  },
  {
   "cell_type": "markdown",
   "metadata": {},
   "source": [
    "# Hands On 3: Classification"
   ]
  },
  {
   "cell_type": "code",
   "execution_count": 28,
   "metadata": {
    "collapsed": false
   },
   "outputs": [
    {
     "data": {
      "text/plain": [
       "[Row(air_pressure_9am=918.0600000000087, air_temp_9am=74.82200000000041, avg_wind_direction_9am=271.1, avg_wind_speed_9am=2.080354199999768, max_wind_direction_9am=295.3999999999998, max_wind_speed_9am=2.863283199999908, rain_accumulation_9am=0.0, rain_duration_9am=0.0, label=0),\n",
       " Row(air_pressure_9am=917.3476881177097, air_temp_9am=71.40384263106537, avg_wind_direction_9am=101.93517935618372, avg_wind_speed_9am=2.4430092157340217, max_wind_direction_9am=140.471548471125, max_wind_speed_9am=3.533323601610624, rain_accumulation_9am=0.0, rain_duration_9am=0.0, label=1)]"
      ]
     },
     "execution_count": 28,
     "metadata": {},
     "output_type": "execute_result"
    }
   ],
   "source": [
    "sqlContext = SQLContext(sc)\n",
    "dataDF = sqlContext.createDataFrame(f.dropna())\n",
    "dataDF.take(2)"
   ]
  },
  {
   "cell_type": "markdown",
   "metadata": {},
   "source": [
    "## Features Column"
   ]
  },
  {
   "cell_type": "code",
   "execution_count": 29,
   "metadata": {
    "collapsed": false
   },
   "outputs": [
    {
     "data": {
      "text/plain": [
       "DataFrame[air_pressure_9am: double, air_temp_9am: double, avg_wind_direction_9am: double, avg_wind_speed_9am: double, max_wind_direction_9am: double, max_wind_speed_9am: double, rain_accumulation_9am: double, rain_duration_9am: double, label: bigint, features: vector]"
      ]
     },
     "execution_count": 29,
     "metadata": {},
     "output_type": "execute_result"
    }
   ],
   "source": [
    "from pyspark.ml.feature import VectorAssembler, StringIndexer, VectorIndexer\n",
    "assembler = VectorAssembler(inputCols=cols, outputCol=\"features\")\n",
    "assembled = assembler.transform(dataDF)\n",
    "assembled"
   ]
  },
  {
   "cell_type": "code",
   "execution_count": 30,
   "metadata": {
    "collapsed": false
   },
   "outputs": [],
   "source": [
    "labelIndexer = StringIndexer(inputCol=\"label\", outputCol=\"indexedLabel\").fit(assembled)\n",
    "\n",
    "# Automatically identify categorical features, and index them.\n",
    "# We specify maxCategories so features with > 4 distinct values are treated as continuous.\n",
    "featureIndexer= VectorIndexer(inputCol=\"features\", outputCol=\"indexedFeatures\", maxCategories=4).fit(assembled)"
   ]
  },
  {
   "cell_type": "markdown",
   "metadata": {},
   "source": [
    "## Test and Training Data"
   ]
  },
  {
   "cell_type": "code",
   "execution_count": 31,
   "metadata": {
    "collapsed": true
   },
   "outputs": [],
   "source": [
    "# Split the data into training and test sets (30% held out for testing)\n",
    "(trainingData, testData) = assembled.randomSplit([0.7, 0.3], seed = 1234)"
   ]
  },
  {
   "cell_type": "markdown",
   "metadata": {},
   "source": [
    "## Decision Tree in Spark"
   ]
  },
  {
   "cell_type": "code",
   "execution_count": 32,
   "metadata": {
    "collapsed": false
   },
   "outputs": [
    {
     "name": "stdout",
     "output_type": "stream",
     "text": [
      "+----------+------------+--------------------+\n",
      "|prediction|indexedLabel|            features|\n",
      "+----------+------------+--------------------+\n",
      "|       1.0|         1.0|[907.990000000002...|\n",
      "|       1.0|         1.0|[908.420000000007...|\n",
      "|       1.0|         1.0|[908.970000000004...|\n",
      "|       1.0|         1.0|[913.060000000003...|\n",
      "|       1.0|         0.0|[913.633267677041...|\n",
      "+----------+------------+--------------------+\n",
      "only showing top 5 rows\n",
      "\n"
     ]
    }
   ],
   "source": [
    "# Train a DecisionTree model.\n",
    "dt = DecisionTreeClassifier(labelCol=\"indexedLabel\", featuresCol=\"indexedFeatures\",\n",
    "                  maxDepth=5, maxBins=32, minInstancesPerNode=20, minInfoGain=0.0,\n",
    "                  maxMemoryInMB=256, cacheNodeIds=False, checkpointInterval=10,\n",
    "                  impurity=\"gini\")\n",
    "    \n",
    "# Chain indexers and tree in a Pipeline\n",
    "pipeline = Pipeline(stages=[labelIndexer, featureIndexer, dt])\n",
    "\n",
    "# Train model.  This also runs the indexers.\n",
    "model = pipeline.fit(trainingData)\n",
    "\n",
    "# Make predictions.\n",
    "predictions = model.transform(testData)\n",
    "predictions.select(\"prediction\", \"indexedLabel\", \"features\").show(5)\n"
   ]
  },
  {
   "cell_type": "markdown",
   "metadata": {},
   "source": [
    "# Hands On 4: Evaluation of Machine Learning Models"
   ]
  },
  {
   "cell_type": "markdown",
   "metadata": {},
   "source": [
    "## Accuracy - Decision Tree"
   ]
  },
  {
   "cell_type": "code",
   "execution_count": 33,
   "metadata": {
    "collapsed": false
   },
   "outputs": [
    {
     "name": "stdout",
     "output_type": "stream",
     "text": [
      "Accuracy = 0.801325 \n"
     ]
    }
   ],
   "source": [
    "from pyspark.ml.evaluation import MulticlassClassificationEvaluator\n",
    "\n",
    "# Select (prediction, true label) and compute test error\n",
    "evaluator = MulticlassClassificationEvaluator(\n",
    "    labelCol=\"indexedLabel\", predictionCol=\"prediction\", metricName=\"precision\")\n",
    "\n",
    "accuracy = evaluator.evaluate(predictions)\n",
    "print(\"Accuracy = %g \" % (accuracy))"
   ]
  },
  {
   "cell_type": "markdown",
   "metadata": {},
   "source": [
    "## Confusion Matrix - Decision Tree"
   ]
  },
  {
   "cell_type": "code",
   "execution_count": 34,
   "metadata": {
    "collapsed": false
   },
   "outputs": [
    {
     "data": {
      "text/plain": [
       "array([[ 32, 120],\n",
       "       [122,  28]])"
      ]
     },
     "execution_count": 34,
     "metadata": {},
     "output_type": "execute_result"
    }
   ],
   "source": [
    "from sklearn.metrics import confusion_matrix\n",
    "\n",
    "confusion_matrix(predictions.select('label').toPandas(), predictions.select('prediction').toPandas())"
   ]
  },
  {
   "cell_type": "markdown",
   "metadata": {},
   "source": [
    "# Optional: "
   ]
  },
  {
   "cell_type": "markdown",
   "metadata": {},
   "source": [
    "## Naive Bayes in Spark"
   ]
  },
  {
   "cell_type": "code",
   "execution_count": 35,
   "metadata": {
    "collapsed": false
   },
   "outputs": [
    {
     "name": "stdout",
     "output_type": "stream",
     "text": [
      "+----------+------------+--------------------+\n",
      "|prediction|indexedLabel|            features|\n",
      "+----------+------------+--------------------+\n",
      "|       1.0|         1.0|[907.990000000002...|\n",
      "|       1.0|         1.0|[908.420000000007...|\n",
      "|       1.0|         1.0|[908.970000000004...|\n",
      "|       0.0|         1.0|[913.060000000003...|\n",
      "|       0.0|         0.0|[913.633267677041...|\n",
      "+----------+------------+--------------------+\n",
      "only showing top 5 rows\n",
      "\n"
     ]
    }
   ],
   "source": [
    "#Naive Bayes\n",
    "from pyspark.ml.classification import NaiveBayes \n",
    "dtnb = NaiveBayes(labelCol=\"indexedLabel\", featuresCol=\"indexedFeatures\")\n",
    "\n",
    "# Chain indexers and tree in a Pipeline\n",
    "pipeline = Pipeline(stages=[labelIndexer, featureIndexer, dtnb])\n",
    "\n",
    "# Train model.  This also runs the indexers.\n",
    "model = pipeline.fit(trainingData)\n",
    "\n",
    "# Make predictions.\n",
    "predictions = model.transform(testData)\n",
    "predictions.select(\"prediction\", \"indexedLabel\", \"features\").show(5)\n",
    "\n",
    "from pyspark.ml.evaluation import MulticlassClassificationEvaluator\n",
    "\n",
    "# Select (prediction, true label) and compute test error\n",
    "evaluator = MulticlassClassificationEvaluator(\n",
    "    labelCol=\"indexedLabel\", predictionCol=\"prediction\", metricName=\"precision\")"
   ]
  },
  {
   "cell_type": "markdown",
   "metadata": {},
   "source": [
    "## Accuracy - Naive Bayes"
   ]
  },
  {
   "cell_type": "code",
   "execution_count": 36,
   "metadata": {
    "collapsed": false
   },
   "outputs": [
    {
     "name": "stdout",
     "output_type": "stream",
     "text": [
      "Accuracy = 0.569536 \n"
     ]
    }
   ],
   "source": [
    "accuracy = evaluator.evaluate(predictions)\n",
    "print(\"Accuracy = %g \" % (accuracy))"
   ]
  },
  {
   "cell_type": "markdown",
   "metadata": {},
   "source": [
    "## Confusion Matrix - Naive Bayes"
   ]
  },
  {
   "cell_type": "code",
   "execution_count": 37,
   "metadata": {
    "collapsed": false
   },
   "outputs": [
    {
     "data": {
      "text/plain": [
       "array([[128,  24],\n",
       "       [148,   2]])"
      ]
     },
     "execution_count": 37,
     "metadata": {},
     "output_type": "execute_result"
    }
   ],
   "source": [
    "confusion_matrix(predictions.select('label').toPandas(), predictions.select('prediction').toPandas())"
   ]
  },
  {
   "cell_type": "code",
   "execution_count": null,
   "metadata": {
    "collapsed": true
   },
   "outputs": [],
   "source": []
  }
 ],
 "metadata": {
  "kernelspec": {
   "display_name": "Python 2",
   "language": "python",
   "name": "python2"
  },
  "language_info": {
   "codemirror_mode": {
    "name": "ipython",
    "version": 2
   },
   "file_extension": ".py",
   "mimetype": "text/x-python",
   "name": "python",
   "nbconvert_exporter": "python",
   "pygments_lexer": "ipython2",
   "version": "2.7.11"
  }
 },
 "nbformat": 4,
 "nbformat_minor": 0
}
