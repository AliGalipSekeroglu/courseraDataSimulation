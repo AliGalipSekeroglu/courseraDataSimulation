{
 "cells": [
  {
   "cell_type": "code",
   "execution_count": 95,
   "metadata": {
    "collapsed": true
   },
   "outputs": [],
   "source": [
    "# Data import using Spark ML\n"
   ]
  },
  {
   "cell_type": "code",
   "execution_count": null,
   "metadata": {
    "collapsed": true
   },
   "outputs": [],
   "source": [
    "# Data cleaning (removing missing values)\n"
   ]
  },
  {
   "cell_type": "code",
   "execution_count": null,
   "metadata": {
    "collapsed": true
   },
   "outputs": [],
   "source": [
    "# Summary Statistics\n"
   ]
  },
  {
   "cell_type": "code",
   "execution_count": null,
   "metadata": {
    "collapsed": true
   },
   "outputs": [],
   "source": [
    "# Data preparation (adding new columns)\n"
   ]
  },
  {
   "cell_type": "code",
   "execution_count": null,
   "metadata": {
    "collapsed": true
   },
   "outputs": [],
   "source": [
    "# Declaring Features and Target Class\n"
   ]
  },
  {
   "cell_type": "code",
   "execution_count": null,
   "metadata": {
    "collapsed": true
   },
   "outputs": [],
   "source": [
    "# Random Data splitting into test and train\n"
   ]
  },
  {
   "cell_type": "code",
   "execution_count": null,
   "metadata": {
    "collapsed": true
   },
   "outputs": [],
   "source": [
    "# Training the Decision Tree Classifier\n"
   ]
  },
  {
   "cell_type": "code",
   "execution_count": null,
   "metadata": {
    "collapsed": true
   },
   "outputs": [],
   "source": [
    "# Predicting and Checking Accuracy of Decision Tree\n"
   ]
  },
  {
   "cell_type": "code",
   "execution_count": null,
   "metadata": {
    "collapsed": true
   },
   "outputs": [],
   "source": [
    "# Training the Naive Bayes Classifier\n"
   ]
  },
  {
   "cell_type": "code",
   "execution_count": null,
   "metadata": {
    "collapsed": true
   },
   "outputs": [],
   "source": [
    "# Predicting and Checking Accuracy of Naive Bayes\n"
   ]
  },
  {
   "cell_type": "code",
   "execution_count": 96,
   "metadata": {
    "collapsed": false
   },
   "outputs": [
    {
     "data": {
      "text/html": [
       "<div>\n",
       "<table border=\"1\" class=\"dataframe\">\n",
       "  <thead>\n",
       "    <tr style=\"text-align: right;\">\n",
       "      <th></th>\n",
       "      <th>date</th>\n",
       "      <th>air_pressure_DAYMAX</th>\n",
       "      <th>air_temp_DAYMAX</th>\n",
       "      <th>avg_wind_speed_DAYMAX</th>\n",
       "      <th>max_wind_speed_DAYMAX</th>\n",
       "      <th>rain_accumulation_DAYMAX</th>\n",
       "      <th>rain_duration_DAYMAX</th>\n",
       "      <th>relative_humidity_DAYMAX</th>\n",
       "      <th>air_pressure_DAYMIN</th>\n",
       "      <th>air_temp_DAYMIN</th>\n",
       "      <th>...</th>\n",
       "      <th>relative_humidity_9am</th>\n",
       "      <th>air_pressure_3pm</th>\n",
       "      <th>air_temp_3pm</th>\n",
       "      <th>avg_wind_direction_3pm</th>\n",
       "      <th>avg_wind_speed_3pm</th>\n",
       "      <th>max_wind_direction_3pm</th>\n",
       "      <th>max_wind_speed_3pm</th>\n",
       "      <th>rain_accumulation_3pm</th>\n",
       "      <th>rain_duration_3pm</th>\n",
       "      <th>relative_humidity_3pm</th>\n",
       "    </tr>\n",
       "  </thead>\n",
       "  <tbody>\n",
       "    <tr>\n",
       "      <th>0</th>\n",
       "      <td>2011-09-10</td>\n",
       "      <td>914.9</td>\n",
       "      <td>68.0</td>\n",
       "      <td>8.9</td>\n",
       "      <td>9.3</td>\n",
       "      <td>0.0</td>\n",
       "      <td>0.0</td>\n",
       "      <td>90.8</td>\n",
       "      <td>911.1</td>\n",
       "      <td>52.70</td>\n",
       "      <td>...</td>\n",
       "      <td>86.27</td>\n",
       "      <td>913.05</td>\n",
       "      <td>61.394</td>\n",
       "      <td>211.9</td>\n",
       "      <td>5.83</td>\n",
       "      <td>219.0</td>\n",
       "      <td>6.92</td>\n",
       "      <td>0.0</td>\n",
       "      <td>0.0</td>\n",
       "      <td>69.90</td>\n",
       "    </tr>\n",
       "    <tr>\n",
       "      <th>1</th>\n",
       "      <td>2011-09-11</td>\n",
       "      <td>918.2</td>\n",
       "      <td>71.6</td>\n",
       "      <td>6.1</td>\n",
       "      <td>7.1</td>\n",
       "      <td>0.0</td>\n",
       "      <td>0.0</td>\n",
       "      <td>91.2</td>\n",
       "      <td>914.5</td>\n",
       "      <td>51.98</td>\n",
       "      <td>...</td>\n",
       "      <td>77.48</td>\n",
       "      <td>916.50</td>\n",
       "      <td>70.250</td>\n",
       "      <td>233.7</td>\n",
       "      <td>2.49</td>\n",
       "      <td>252.8</td>\n",
       "      <td>3.23</td>\n",
       "      <td>0.0</td>\n",
       "      <td>0.0</td>\n",
       "      <td>49.09</td>\n",
       "    </tr>\n",
       "  </tbody>\n",
       "</table>\n",
       "<p>2 rows × 33 columns</p>\n",
       "</div>"
      ],
      "text/plain": [
       "         date  air_pressure_DAYMAX  air_temp_DAYMAX  avg_wind_speed_DAYMAX  \\\n",
       "0  2011-09-10                914.9             68.0                    8.9   \n",
       "1  2011-09-11                918.2             71.6                    6.1   \n",
       "\n",
       "   max_wind_speed_DAYMAX  rain_accumulation_DAYMAX  rain_duration_DAYMAX  \\\n",
       "0                    9.3                       0.0                   0.0   \n",
       "1                    7.1                       0.0                   0.0   \n",
       "\n",
       "   relative_humidity_DAYMAX  air_pressure_DAYMIN  air_temp_DAYMIN  \\\n",
       "0                      90.8                911.1            52.70   \n",
       "1                      91.2                914.5            51.98   \n",
       "\n",
       "           ...            relative_humidity_9am  air_pressure_3pm  \\\n",
       "0          ...                            86.27            913.05   \n",
       "1          ...                            77.48            916.50   \n",
       "\n",
       "   air_temp_3pm  avg_wind_direction_3pm  avg_wind_speed_3pm  \\\n",
       "0        61.394                   211.9                5.83   \n",
       "1        70.250                   233.7                2.49   \n",
       "\n",
       "   max_wind_direction_3pm  max_wind_speed_3pm  rain_accumulation_3pm  \\\n",
       "0                   219.0                6.92                    0.0   \n",
       "1                   252.8                3.23                    0.0   \n",
       "\n",
       "   rain_duration_3pm  relative_humidity_3pm  \n",
       "0                0.0                  69.90  \n",
       "1                0.0                  49.09  \n",
       "\n",
       "[2 rows x 33 columns]"
      ]
     },
     "execution_count": 96,
     "metadata": {},
     "output_type": "execute_result"
    }
   ],
   "source": [
    "import pandas as pd\n",
    "import sklearn\n",
    "f = pd.read_csv(\"daily_weather_raw.csv\", sep=',', parse_dates=True, infer_datetime_format=True)\n",
    "f.head(2)"
   ]
  },
  {
   "cell_type": "code",
   "execution_count": 97,
   "metadata": {
    "collapsed": false
   },
   "outputs": [
    {
     "data": {
      "text/html": [
       "<div>\n",
       "<table border=\"1\" class=\"dataframe\">\n",
       "  <thead>\n",
       "    <tr style=\"text-align: right;\">\n",
       "      <th></th>\n",
       "      <th>relative_humidity_DAYMAX</th>\n",
       "      <th>relative_humidity_9am</th>\n",
       "      <th>relative_humidity_DAYMIN</th>\n",
       "      <th>relative_humidity_3pm</th>\n",
       "    </tr>\n",
       "  </thead>\n",
       "  <tbody>\n",
       "    <tr>\n",
       "      <th>0</th>\n",
       "      <td>90.8</td>\n",
       "      <td>86.27</td>\n",
       "      <td>29.0</td>\n",
       "      <td>69.9</td>\n",
       "    </tr>\n",
       "  </tbody>\n",
       "</table>\n",
       "</div>"
      ],
      "text/plain": [
       "   relative_humidity_DAYMAX  relative_humidity_9am  relative_humidity_DAYMIN  \\\n",
       "0                      90.8                  86.27                      29.0   \n",
       "\n",
       "   relative_humidity_3pm  \n",
       "0                   69.9  "
      ]
     },
     "execution_count": 97,
     "metadata": {},
     "output_type": "execute_result"
    }
   ],
   "source": [
    "f[['relative_humidity_DAYMAX','relative_humidity_9am','relative_humidity_DAYMIN','relative_humidity_3pm']].head(1)"
   ]
  },
  {
   "cell_type": "code",
   "execution_count": 98,
   "metadata": {
    "collapsed": true
   },
   "outputs": [],
   "source": [
    "def functionG(row):\n",
    "    if row['relative_humidity_3pm'] < 25:\n",
    "        val = 1\n",
    "    elif row['relative_humidity_3pm'] > 25:\n",
    "        val = 0\n",
    "    else:\n",
    "        val = 0\n",
    "    return val"
   ]
  },
  {
   "cell_type": "code",
   "execution_count": 99,
   "metadata": {
    "collapsed": true
   },
   "outputs": [],
   "source": [
    "f['label']=f.apply(functionG, axis=1)"
   ]
  },
  {
   "cell_type": "code",
   "execution_count": 100,
   "metadata": {
    "collapsed": false
   },
   "outputs": [
    {
     "data": {
      "text/plain": [
       "(1097, 34)"
      ]
     },
     "execution_count": 100,
     "metadata": {},
     "output_type": "execute_result"
    }
   ],
   "source": [
    "f.shape"
   ]
  },
  {
   "cell_type": "code",
   "execution_count": 101,
   "metadata": {
    "collapsed": false
   },
   "outputs": [
    {
     "data": {
      "text/plain": [
       "(1097, 30)"
      ]
     },
     "execution_count": 101,
     "metadata": {},
     "output_type": "execute_result"
    }
   ],
   "source": [
    "#REMOVE HUMIDITY\n",
    "relative_humidity_3pm = f['relative_humidity_3pm'].copy(deep=True)\n",
    "cols = [c for c in f.columns if ('humidity' in c.lower())]\n",
    "for c in cols:\n",
    "    del f[c]\n",
    "f.shape"
   ]
  },
  {
   "cell_type": "code",
   "execution_count": 102,
   "metadata": {
    "collapsed": false
   },
   "outputs": [
    {
     "data": {
      "text/plain": [
       "(1097, 18)"
      ]
     },
     "execution_count": 102,
     "metadata": {},
     "output_type": "execute_result"
    }
   ],
   "source": [
    "#REMOVE DAY features\n",
    "cols = [c for c in f.columns if ('day' in c.lower())]\n",
    "for c in cols:\n",
    "    del f[c]\n",
    "f.shape"
   ]
  },
  {
   "cell_type": "code",
   "execution_count": 103,
   "metadata": {
    "collapsed": false
   },
   "outputs": [
    {
     "data": {
      "text/plain": [
       "(1097, 10)"
      ]
     },
     "execution_count": 103,
     "metadata": {},
     "output_type": "execute_result"
    }
   ],
   "source": [
    "#REMOVE 3pm features\n",
    "cols = [c for c in f.columns if ('3pm' in c.lower())]\n",
    "for c in cols:\n",
    "    del f[c]\n",
    "f.shape"
   ]
  },
  {
   "cell_type": "code",
   "execution_count": 104,
   "metadata": {
    "collapsed": false
   },
   "outputs": [
    {
     "data": {
      "text/plain": [
       "Index(['date', 'air_pressure_9am', 'air_temp_9am', 'avg_wind_direction_9am',\n",
       "       'avg_wind_speed_9am', 'max_wind_direction_9am', 'max_wind_speed_9am',\n",
       "       'rain_accumulation_9am', 'rain_duration_9am', 'label'],\n",
       "      dtype='object')"
      ]
     },
     "execution_count": 104,
     "metadata": {},
     "output_type": "execute_result"
    }
   ],
   "source": [
    "f.columns"
   ]
  },
  {
   "cell_type": "code",
   "execution_count": 105,
   "metadata": {
    "collapsed": false
   },
   "outputs": [
    {
     "data": {
      "text/plain": [
       "((1097, 10), (1077, 10))"
      ]
     },
     "execution_count": 105,
     "metadata": {},
     "output_type": "execute_result"
    }
   ],
   "source": [
    "# How many rows with NaN\n",
    "p = f.dropna()\n",
    "f.shape, p.shape"
   ]
  },
  {
   "cell_type": "code",
   "execution_count": 106,
   "metadata": {
    "collapsed": false
   },
   "outputs": [
    {
     "data": {
      "text/plain": [
       "((879, 10), (198, 10))"
      ]
     },
     "execution_count": 106,
     "metadata": {},
     "output_type": "execute_result"
    }
   ],
   "source": [
    "label1 = f.dropna().loc[f['label'] == 1]\n",
    "label0 = f.dropna().loc[f['label'] == 0]\n",
    "label0.shape, label1.shape"
   ]
  },
  {
   "cell_type": "code",
   "execution_count": 107,
   "metadata": {
    "collapsed": false
   },
   "outputs": [
    {
     "data": {
      "text/plain": [
       "(745, 10)"
      ]
     },
     "execution_count": 107,
     "metadata": {},
     "output_type": "execute_result"
    }
   ],
   "source": [
    "label0 =label0.sample(547, random_state=42)\n",
    "\n",
    "f=label0.append(label1)\n",
    "f.reset_index(inplace=True)\n",
    "del f['index']\n",
    "\n",
    "f.shape"
   ]
  },
  {
   "cell_type": "code",
   "execution_count": 108,
   "metadata": {
    "collapsed": false
   },
   "outputs": [],
   "source": [
    "from imblearn.over_sampling import SMOTE\n",
    "smote = SMOTE(ratio = 'auto', kind = 'regular', random_state=12)\n",
    "\n",
    "lastcolumn = f.shape[1]\n",
    "\n",
    "features = f.columns[1:lastcolumn-1]\n",
    "target = f.columns[lastcolumn-1]\n",
    "\n",
    "x=f[features].copy(deep=True)\n",
    "y=f[target].copy(deep=True)\n",
    "\n",
    "X, Y = smote.fit_sample(x, y)"
   ]
  },
  {
   "cell_type": "code",
   "execution_count": 109,
   "metadata": {
    "collapsed": false
   },
   "outputs": [],
   "source": [
    "X = pd.DataFrame(X)\n",
    "Y = pd.DataFrame(Y)"
   ]
  },
  {
   "cell_type": "code",
   "execution_count": 110,
   "metadata": {
    "collapsed": false
   },
   "outputs": [],
   "source": [
    "X.columns = features\n",
    "Y.columns = ['label']"
   ]
  },
  {
   "cell_type": "code",
   "execution_count": 111,
   "metadata": {
    "collapsed": false
   },
   "outputs": [
    {
     "data": {
      "text/plain": [
       "(Index(['air_pressure_9am', 'air_temp_9am', 'avg_wind_direction_9am',\n",
       "        'avg_wind_speed_9am', 'max_wind_direction_9am', 'max_wind_speed_9am',\n",
       "        'rain_accumulation_9am', 'rain_duration_9am'],\n",
       "       dtype='object'), Index(['label'], dtype='object'))"
      ]
     },
     "execution_count": 111,
     "metadata": {},
     "output_type": "execute_result"
    }
   ],
   "source": [
    "X.columns, Y.columns"
   ]
  },
  {
   "cell_type": "code",
   "execution_count": 112,
   "metadata": {
    "collapsed": false
   },
   "outputs": [
    {
     "data": {
      "text/plain": [
       "((1094, 1), label    547\n",
       " dtype: int64)"
      ]
     },
     "execution_count": 112,
     "metadata": {},
     "output_type": "execute_result"
    }
   ],
   "source": [
    "Y.shape, Y.sum()"
   ]
  },
  {
   "cell_type": "code",
   "execution_count": 113,
   "metadata": {
    "collapsed": false
   },
   "outputs": [],
   "source": [
    "########################\n",
    "# RANDOM SPLIT\n",
    "########################\n",
    "\n",
    "from sklearn.cross_validation import train_test_split\n",
    "X_train, X_test, Y_train, Y_test = train_test_split( X, Y, test_size=0.30, random_state=30)"
   ]
  },
  {
   "cell_type": "code",
   "execution_count": 114,
   "metadata": {
    "collapsed": false
   },
   "outputs": [
    {
     "data": {
      "text/plain": [
       "(label    547\n",
       " dtype: int64, label    172\n",
       " dtype: int64, label    375\n",
       " dtype: int64)"
      ]
     },
     "execution_count": 114,
     "metadata": {},
     "output_type": "execute_result"
    }
   ],
   "source": [
    "Y.sum(), Y_test.sum(), Y_train.sum()"
   ]
  },
  {
   "cell_type": "markdown",
   "metadata": {},
   "source": [
    "## Decision Tree Classifier"
   ]
  },
  {
   "cell_type": "code",
   "execution_count": 115,
   "metadata": {
    "collapsed": true
   },
   "outputs": [],
   "source": [
    "from sklearn.tree import DecisionTreeClassifier\n",
    "clf = DecisionTreeClassifier(criterion = 'gini').fit(X_train, Y_train)\n",
    "Z = clf.predict(X_test)"
   ]
  },
  {
   "cell_type": "code",
   "execution_count": 116,
   "metadata": {
    "collapsed": false
   },
   "outputs": [
    {
     "data": {
      "text/plain": [
       "(181, label    172\n",
       " dtype: int64, label    157\n",
       " dtype: int64)"
      ]
     },
     "execution_count": 116,
     "metadata": {},
     "output_type": "execute_result"
    }
   ],
   "source": [
    "Z.sum(), Y_test.sum(), Y_test.shape[0]-Y_test.sum()"
   ]
  },
  {
   "cell_type": "code",
   "execution_count": 117,
   "metadata": {
    "collapsed": false
   },
   "outputs": [
    {
     "name": "stdout",
     "output_type": "stream",
     "text": [
      "             precision    recall  f1-score   support\n",
      "\n",
      "          0       0.78      0.73      0.75       157\n",
      "          1       0.77      0.81      0.79       172\n",
      "\n",
      "avg / total       0.77      0.77      0.77       329\n",
      "\n"
     ]
    }
   ],
   "source": [
    "from sklearn.metrics import classification_report\n",
    "\n",
    "# 1 means LOW humidity (less than 25%)\n",
    "print(classification_report(Y_test, Z))"
   ]
  },
  {
   "cell_type": "code",
   "execution_count": 118,
   "metadata": {
    "collapsed": false
   },
   "outputs": [
    {
     "data": {
      "text/plain": [
       "0.77203647416413379"
      ]
     },
     "execution_count": 118,
     "metadata": {},
     "output_type": "execute_result"
    }
   ],
   "source": [
    "sklearn.metrics.accuracy_score(Y_test, Z, normalize = True)"
   ]
  },
  {
   "cell_type": "markdown",
   "metadata": {},
   "source": [
    "## Naive Bayes"
   ]
  },
  {
   "cell_type": "code",
   "execution_count": 119,
   "metadata": {
    "collapsed": false
   },
   "outputs": [
    {
     "name": "stderr",
     "output_type": "stream",
     "text": [
      "/data/home/a1singh/anaconda3/lib/python3.5/site-packages/sklearn/utils/validation.py:515: DataConversionWarning: A column-vector y was passed when a 1d array was expected. Please change the shape of y to (n_samples, ), for example using ravel().\n",
      "  y = column_or_1d(y, warn=True)\n"
     ]
    }
   ],
   "source": [
    "from sklearn.naive_bayes import GaussianNB\n",
    "gnb = GaussianNB()\n",
    "gnb_classifier = gnb.fit(X_train, Y_train)\n",
    "Z_NaiveBayes = gnb_classifier.predict(X_test)"
   ]
  },
  {
   "cell_type": "code",
   "execution_count": 120,
   "metadata": {
    "collapsed": false
   },
   "outputs": [
    {
     "name": "stdout",
     "output_type": "stream",
     "text": [
      "             precision    recall  f1-score   support\n",
      "\n",
      "          0       0.96      0.14      0.24       157\n",
      "          1       0.56      0.99      0.72       172\n",
      "\n",
      "avg / total       0.75      0.59      0.49       329\n",
      "\n"
     ]
    }
   ],
   "source": [
    "# 1 means LOW humidity\n",
    "print(classification_report(Y_test, Z_NaiveBayes))"
   ]
  },
  {
   "cell_type": "code",
   "execution_count": 121,
   "metadata": {
    "collapsed": false
   },
   "outputs": [
    {
     "data": {
      "text/plain": [
       "0.58662613981762923"
      ]
     },
     "execution_count": 121,
     "metadata": {},
     "output_type": "execute_result"
    }
   ],
   "source": [
    "sklearn.metrics.accuracy_score(Y_test, Z_NaiveBayes, normalize = True)"
   ]
  },
  {
   "cell_type": "markdown",
   "metadata": {},
   "source": [
    "## Writing data to csv"
   ]
  },
  {
   "cell_type": "code",
   "execution_count": 122,
   "metadata": {
    "collapsed": true
   },
   "outputs": [],
   "source": [
    "df = X.copy(deep=True)\n",
    "df['relative_humidity_3pm'] = relative_humidity_3pm"
   ]
  },
  {
   "cell_type": "code",
   "execution_count": 123,
   "metadata": {
    "collapsed": false
   },
   "outputs": [],
   "source": [
    "# shuffle\n",
    "import numpy as np\n",
    "df = df.iloc[np.random.permutation(len(df))]\n",
    "df = df.reset_index(drop=True)"
   ]
  },
  {
   "cell_type": "code",
   "execution_count": 124,
   "metadata": {
    "collapsed": true
   },
   "outputs": [],
   "source": [
    "import random\n",
    "\n",
    "ix = [(row, col) for row in range(df.shape[0]) for col in range(df.shape[1]-1)]\n",
    "\n",
    "for row, col in random.sample(ix, int(31)):\n",
    "    df.iat[row, col] = np.nan"
   ]
  },
  {
   "cell_type": "code",
   "execution_count": 125,
   "metadata": {
    "collapsed": false
   },
   "outputs": [],
   "source": [
    "df.to_csv(\"daily_weather.csv\")"
   ]
  },
  {
   "cell_type": "code",
   "execution_count": null,
   "metadata": {
    "collapsed": true
   },
   "outputs": [],
   "source": []
  }
 ],
 "metadata": {
  "kernelspec": {
   "display_name": "Python 3",
   "language": "python",
   "name": "python3"
  },
  "language_info": {
   "codemirror_mode": {
    "name": "ipython",
    "version": 3
   },
   "file_extension": ".py",
   "mimetype": "text/x-python",
   "name": "python",
   "nbconvert_exporter": "python",
   "pygments_lexer": "ipython3",
   "version": "3.5.1"
  }
 },
 "nbformat": 4,
 "nbformat_minor": 0
}
