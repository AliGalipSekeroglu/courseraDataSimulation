{
 "cells": [
  {
   "cell_type": "code",
   "execution_count": 1,
   "metadata": {
    "collapsed": true
   },
   "outputs": [],
   "source": [
    "from pyspark.sql import SQLContext\n",
    "from pyspark.sql import DataFrameNaFunctions\n",
    "import pandas as pd\n",
    "from pyspark.mllib.linalg import DenseVector"
   ]
  },
  {
   "cell_type": "code",
   "execution_count": 2,
   "metadata": {
    "collapsed": true
   },
   "outputs": [],
   "source": [
    "sqlContext = SQLContext(sc)"
   ]
  },
  {
   "cell_type": "code",
   "execution_count": 3,
   "metadata": {
    "collapsed": true
   },
   "outputs": [],
   "source": [
    "dataDF = sqlContext.read.load('file:///home/cloudera/coursera/courseraDataSimulation/course4-ML/MW-timestamp-NEW.csv', \n",
    "                          format='com.databricks.spark.csv', \n",
    "                          header='true',inferSchema='true')"
   ]
  },
  {
   "cell_type": "code",
   "execution_count": 4,
   "metadata": {
    "collapsed": false
   },
   "outputs": [
    {
     "data": {
      "text/html": [
       "<div>\n",
       "<table border=\"1\" class=\"dataframe\">\n",
       "  <thead>\n",
       "    <tr style=\"text-align: right;\">\n",
       "      <th></th>\n",
       "      <th>0</th>\n",
       "      <th>1</th>\n",
       "      <th>2</th>\n",
       "      <th>3</th>\n",
       "      <th>4</th>\n",
       "    </tr>\n",
       "  </thead>\n",
       "  <tbody>\n",
       "    <tr>\n",
       "      <th>summary</th>\n",
       "      <td>count</td>\n",
       "      <td>mean</td>\n",
       "      <td>stddev</td>\n",
       "      <td>min</td>\n",
       "      <td>max</td>\n",
       "    </tr>\n",
       "    <tr>\n",
       "      <th>rowID</th>\n",
       "      <td>1587257</td>\n",
       "      <td>793628.0</td>\n",
       "      <td>458201.7724491035</td>\n",
       "      <td>0</td>\n",
       "      <td>1587256</td>\n",
       "    </tr>\n",
       "    <tr>\n",
       "      <th>air_pressure</th>\n",
       "      <td>1587257</td>\n",
       "      <td>916.8301266904964</td>\n",
       "      <td>3.051593126680745</td>\n",
       "      <td>905.0</td>\n",
       "      <td>929.5</td>\n",
       "    </tr>\n",
       "    <tr>\n",
       "      <th>air_temp</th>\n",
       "      <td>1587257</td>\n",
       "      <td>61.85144042834878</td>\n",
       "      <td>11.833623786835721</td>\n",
       "      <td>31.64</td>\n",
       "      <td>99.5</td>\n",
       "    </tr>\n",
       "    <tr>\n",
       "      <th>avg_wind_direction</th>\n",
       "      <td>1586824</td>\n",
       "      <td>161.96537927331576</td>\n",
       "      <td>95.20811970203971</td>\n",
       "      <td>0.0</td>\n",
       "      <td>359.0</td>\n",
       "    </tr>\n",
       "    <tr>\n",
       "      <th>avg_wind_speed</th>\n",
       "      <td>1586824</td>\n",
       "      <td>2.774272067979844</td>\n",
       "      <td>2.0607577935630355</td>\n",
       "      <td>0.0</td>\n",
       "      <td>32.3</td>\n",
       "    </tr>\n",
       "    <tr>\n",
       "      <th>max_wind_direction</th>\n",
       "      <td>1586824</td>\n",
       "      <td>163.40304784903682</td>\n",
       "      <td>92.3672342806429</td>\n",
       "      <td>0.0</td>\n",
       "      <td>359.0</td>\n",
       "    </tr>\n",
       "    <tr>\n",
       "      <th>max_wind_speed</th>\n",
       "      <td>1586824</td>\n",
       "      <td>3.3998134008569685</td>\n",
       "      <td>2.423167433617133</td>\n",
       "      <td>0.1</td>\n",
       "      <td>36.0</td>\n",
       "    </tr>\n",
       "    <tr>\n",
       "      <th>min_wind_direction</th>\n",
       "      <td>1586824</td>\n",
       "      <td>166.82637078844283</td>\n",
       "      <td>97.46274620077615</td>\n",
       "      <td>0.0</td>\n",
       "      <td>359.0</td>\n",
       "    </tr>\n",
       "    <tr>\n",
       "      <th>min_wind_speed</th>\n",
       "      <td>1586824</td>\n",
       "      <td>2.1331304542917913</td>\n",
       "      <td>1.745345084932679</td>\n",
       "      <td>0.0</td>\n",
       "      <td>32.0</td>\n",
       "    </tr>\n",
       "    <tr>\n",
       "      <th>rain_accumulation</th>\n",
       "      <td>1587257</td>\n",
       "      <td>255.29254780980187</td>\n",
       "      <td>233.99272826585963</td>\n",
       "      <td>0.0</td>\n",
       "      <td>603.76</td>\n",
       "    </tr>\n",
       "    <tr>\n",
       "      <th>rain_duration</th>\n",
       "      <td>1587257</td>\n",
       "      <td>19319.83301380936</td>\n",
       "      <td>14456.524150365642</td>\n",
       "      <td>0</td>\n",
       "      <td>65530</td>\n",
       "    </tr>\n",
       "    <tr>\n",
       "      <th>relative_humidity</th>\n",
       "      <td>1587257</td>\n",
       "      <td>47.60836877707914</td>\n",
       "      <td>26.21454390649835</td>\n",
       "      <td>0.7</td>\n",
       "      <td>93.0</td>\n",
       "    </tr>\n",
       "  </tbody>\n",
       "</table>\n",
       "</div>"
      ],
      "text/plain": [
       "                          0                   1                   2      3  \\\n",
       "summary               count                mean              stddev    min   \n",
       "rowID               1587257            793628.0   458201.7724491035      0   \n",
       "air_pressure        1587257   916.8301266904964   3.051593126680745  905.0   \n",
       "air_temp            1587257   61.85144042834878  11.833623786835721  31.64   \n",
       "avg_wind_direction  1586824  161.96537927331576   95.20811970203971    0.0   \n",
       "avg_wind_speed      1586824   2.774272067979844  2.0607577935630355    0.0   \n",
       "max_wind_direction  1586824  163.40304784903682    92.3672342806429    0.0   \n",
       "max_wind_speed      1586824  3.3998134008569685   2.423167433617133    0.1   \n",
       "min_wind_direction  1586824  166.82637078844283   97.46274620077615    0.0   \n",
       "min_wind_speed      1586824  2.1331304542917913   1.745345084932679    0.0   \n",
       "rain_accumulation   1587257  255.29254780980187  233.99272826585963    0.0   \n",
       "rain_duration       1587257   19319.83301380936  14456.524150365642      0   \n",
       "relative_humidity   1587257   47.60836877707914   26.21454390649835    0.7   \n",
       "\n",
       "                          4  \n",
       "summary                 max  \n",
       "rowID               1587256  \n",
       "air_pressure          929.5  \n",
       "air_temp               99.5  \n",
       "avg_wind_direction    359.0  \n",
       "avg_wind_speed         32.3  \n",
       "max_wind_direction    359.0  \n",
       "max_wind_speed         36.0  \n",
       "min_wind_direction    359.0  \n",
       "min_wind_speed         32.0  \n",
       "rain_accumulation    603.76  \n",
       "rain_duration         65530  \n",
       "relative_humidity      93.0  "
      ]
     },
     "execution_count": 4,
     "metadata": {},
     "output_type": "execute_result"
    }
   ],
   "source": [
    "dataDF.describe().toPandas().transpose()"
   ]
  },
  {
   "cell_type": "code",
   "execution_count": 5,
   "metadata": {
    "collapsed": false
   },
   "outputs": [
    {
     "data": {
      "text/plain": [
       "1587257"
      ]
     },
     "execution_count": 5,
     "metadata": {},
     "output_type": "execute_result"
    }
   ],
   "source": [
    "dataDF.count()"
   ]
  },
  {
   "cell_type": "code",
   "execution_count": 22,
   "metadata": {
    "collapsed": false
   },
   "outputs": [],
   "source": [
    "#Down sample to take every 10th value\n",
    "filtered = dataDF.filter((dataDF.rowID % 10) == 0)"
   ]
  },
  {
   "cell_type": "code",
   "execution_count": 23,
   "metadata": {
    "collapsed": false
   },
   "outputs": [
    {
     "data": {
      "text/plain": [
       "158726"
      ]
     },
     "execution_count": 23,
     "metadata": {},
     "output_type": "execute_result"
    }
   ],
   "source": [
    "filtered.count()"
   ]
  },
  {
   "cell_type": "code",
   "execution_count": 8,
   "metadata": {
    "collapsed": false
   },
   "outputs": [],
   "source": [
    "#SELECT required columns and drop rows with NULL\n",
    "\n",
    "cols = [\n",
    " 'air_pressure', 'air_temp', 'avg_wind_direction', 'avg_wind_speed', 'max_wind_direction', 'max_wind_speed',\n",
    " 'relative_humidity']\n",
    "\n",
    "workingDF = filtered.select(cols).na.drop()"
   ]
  },
  {
   "cell_type": "code",
   "execution_count": 9,
   "metadata": {
    "collapsed": false
   },
   "outputs": [
    {
     "data": {
      "text/plain": [
       "[Row(air_pressure=912.3, air_temp=64.76, avg_wind_direction=97.0, avg_wind_speed=1.2, max_wind_direction=106.0, max_wind_speed=1.6, relative_humidity=60.5),\n",
       " Row(air_pressure=912.3, air_temp=62.24, avg_wind_direction=144.0, avg_wind_speed=1.2, max_wind_direction=167.0, max_wind_speed=1.8, relative_humidity=38.5)]"
      ]
     },
     "execution_count": 9,
     "metadata": {},
     "output_type": "execute_result"
    }
   ],
   "source": [
    "workingDF.take(2)"
   ]
  },
  {
   "cell_type": "code",
   "execution_count": 10,
   "metadata": {
    "collapsed": false
   },
   "outputs": [],
   "source": [
    "#CONVERT SPEED from meters/sec to miles per hour\n",
    "workingDF = workingDF.withColumn('avg_wind_speed', workingDF.avg_wind_speed * 2.236)\n",
    "workingDF = workingDF.withColumn('max_wind_speed', workingDF.max_wind_speed * 2.236)"
   ]
  },
  {
   "cell_type": "code",
   "execution_count": 11,
   "metadata": {
    "collapsed": false
   },
   "outputs": [
    {
     "data": {
      "text/plain": [
       "['air_pressure',\n",
       " 'air_temp',\n",
       " 'avg_wind_direction',\n",
       " 'avg_wind_speed',\n",
       " 'max_wind_direction',\n",
       " 'max_wind_speed',\n",
       " 'relative_humidity']"
      ]
     },
     "execution_count": 11,
     "metadata": {},
     "output_type": "execute_result"
    }
   ],
   "source": [
    "workingDF.columns"
   ]
  },
  {
   "cell_type": "code",
   "execution_count": 12,
   "metadata": {
    "collapsed": true
   },
   "outputs": [],
   "source": [
    "#ASSEMBLE all the features.\n",
    "\n",
    "from pyspark.ml.feature import VectorAssembler\n",
    "assembler = VectorAssembler(inputCols=cols, outputCol=\"features_pre\")\n",
    "assembled = assembler.transform(workingDF)"
   ]
  },
  {
   "cell_type": "code",
   "execution_count": 13,
   "metadata": {
    "collapsed": true
   },
   "outputs": [],
   "source": [
    "#SCALE the dataset.\n",
    "\n",
    "from pyspark.ml.feature import StandardScaler\n",
    "\n",
    "scaler = StandardScaler(inputCol=\"features_pre\", outputCol=\"features\",withStd=True, withMean=True)\n",
    "\n",
    "# Fit the StandardScaler\n",
    "scalerModel = scaler.fit(assembled)\n",
    "\n",
    "# Normalize each feature\n",
    "scaledData = scalerModel.transform(assembled)"
   ]
  },
  {
   "cell_type": "code",
   "execution_count": 14,
   "metadata": {
    "collapsed": false
   },
   "outputs": [],
   "source": [
    "#Perform Clustering.\n",
    "\n",
    "from pyspark.ml.clustering import KMeans\n",
    "howManyClusters = 12\n",
    "\n",
    "# Trains a k-means model.\n",
    "kmeans      = KMeans(k=howManyClusters, seed = 1)\n",
    "model       = kmeans.fit(scaledData)\n",
    "transformed = model.transform(scaledData)\n",
    "featuresAndPrediction     = transformed.select(\"features\", \"prediction\")"
   ]
  },
  {
   "cell_type": "code",
   "execution_count": 15,
   "metadata": {
    "collapsed": false
   },
   "outputs": [
    {
     "name": "stdout",
     "output_type": "stream",
     "text": [
      "+----------+-----------------+\n",
      "|prediction|count(prediction)|\n",
      "+----------+-----------------+\n",
      "|         0|            10573|\n",
      "|         1|            13422|\n",
      "|         2|            14833|\n",
      "|         3|            18638|\n",
      "|         4|             4633|\n",
      "|         5|            15793|\n",
      "|         6|            11535|\n",
      "|         7|            18995|\n",
      "|         8|            25630|\n",
      "|         9|            11968|\n",
      "|        10|             2249|\n",
      "|        11|            10411|\n",
      "+----------+-----------------+\n",
      "\n"
     ]
    }
   ],
   "source": [
    "#How many members per clusters\n",
    "import pyspark.sql.functions as func\n",
    "\n",
    "featuresAndPrediction.groupby(featuresAndPrediction.prediction).agg(func.count('prediction')).show()"
   ]
  },
  {
   "cell_type": "code",
   "execution_count": 16,
   "metadata": {
    "collapsed": false
   },
   "outputs": [
    {
     "name": "stdout",
     "output_type": "stream",
     "text": [
      "['air_pressure', 'air_temp', 'avg_wind_direction', 'avg_wind_speed', 'max_wind_direction', 'max_wind_speed', 'relative_humidity']\n",
      "\n",
      "CLUSTER CENTERS: \n",
      "\n",
      "[ 1.3043177  -0.24030114 -1.15387809  1.73371066 -1.04692201  1.83870394\n",
      " -1.12200481]\n",
      "[ 0.15751205 -0.74345552 -1.21984653 -0.54988543 -1.07080566 -0.56542011\n",
      "  0.76523163]\n",
      "[-0.84408569 -1.18714659  0.35906729  0.37705119  0.48557782  0.3622125\n",
      "  1.3504302 ]\n",
      "[-0.22585128  0.64177068  0.40939938  0.70750203  0.51838698  0.64736436\n",
      " -0.14786832]\n",
      "[ 0.1316567   0.84599709  1.89333604 -0.62811164 -1.54748661 -0.55455231\n",
      " -0.75396777]\n",
      "[ 0.20473291 -0.9831286   0.6422715  -0.54885846  0.8595796  -0.53230441\n",
      "  1.16837617]\n",
      "[ 0.97090599  0.23516064  0.21466114 -0.49957322  0.40200752 -0.5031493\n",
      " -0.80817985]\n",
      "[-0.61793223  0.61682555  0.13398891 -0.6199921   0.30534198 -0.63439095\n",
      " -0.19456452]\n",
      "[ 0.28451552  0.6349466  -1.30641379 -0.47416785 -1.167003   -0.48287242\n",
      " -0.79755924]\n",
      "[ 0.13321964  0.86068327  1.37398803 -0.63856793  1.63826957 -0.58949332\n",
      " -0.71474106]\n",
      "[ 0.37033714 -0.98013203  1.86052677 -0.6928777  -1.53321427 -0.60323967\n",
      "  0.89045078]\n",
      "[-1.17558792 -0.86603409  0.44256906  1.99141535  0.5342119   1.95180791\n",
      "  0.90276702]\n"
     ]
    }
   ],
   "source": [
    "# Print cluster centers.\n",
    "\n",
    "print(cols)\n",
    "#allClusterCenters = [DenseVector(c) for c in model.clusterCenters()]\n",
    "\n",
    "print(\"\\nCLUSTER CENTERS: \\n\")\n",
    "for center in model.clusterCenters():\n",
    "    print(center)"
   ]
  },
  {
   "cell_type": "code",
   "execution_count": 17,
   "metadata": {
    "collapsed": false
   },
   "outputs": [],
   "source": [
    "# This function evaluates WSSE  -  Within Set Sum of Squared Errors.\n",
    "from numpy import array\n",
    "from math import sqrt\n",
    "\n",
    "def wssse(featuresAndPrediction, model):\n",
    "    # Get centers of all clusters\n",
    "    allClusterCenters = [DenseVector(c) for c in model.clusterCenters()]\n",
    "    # Map to a collection of arrays\n",
    "    arrayCollection   = featuresAndPrediction.rdd.map(array)\n",
    "    # Given a point, return its distance from Center of the Class assigned\n",
    "\n",
    "    def error(point, predictedCluster):\n",
    "        center = allClusterCenters[predictedCluster]\n",
    "        return sqrt(sum([x*x for x in (point - center)]))\n",
    "    \n",
    "    return arrayCollection.map(lambda row: error(row[0], row[1])).reduce(lambda x, y: x + y)"
   ]
  },
  {
   "cell_type": "code",
   "execution_count": 18,
   "metadata": {
    "collapsed": false
   },
   "outputs": [],
   "source": [
    "# print(wssse(featuresAndPrediction, model))"
   ]
  },
  {
   "cell_type": "code",
   "execution_count": 25,
   "metadata": {
    "collapsed": false
   },
   "outputs": [
    {
     "data": {
      "text/plain": [
       "DataFrame[features: vector]"
      ]
     },
     "execution_count": 25,
     "metadata": {},
     "output_type": "execute_result"
    }
   ],
   "source": [
    "scaledData = scaledData.select(\"features\")\n",
    "scaledData.persist()"
   ]
  },
  {
   "cell_type": "code",
   "execution_count": 26,
   "metadata": {
    "collapsed": false,
    "scrolled": true
   },
   "outputs": [
    {
     "name": "stdout",
     "output_type": "stream",
     "text": [
      "('Training for k = ', 2)\n",
      "Calculating WSSSE\n",
      "348521.951115\n",
      "('Training for k = ', 3)\n",
      "Calculating WSSSE\n",
      "307527.01438\n",
      "('Training for k = ', 4)\n",
      "Calculating WSSSE\n",
      "283783.638931\n",
      "('Training for k = ', 5)\n",
      "Calculating WSSSE\n",
      "264162.225034\n",
      "('Training for k = ', 6)\n",
      "Calculating WSSSE\n",
      "255377.662402\n",
      "('Training for k = ', 7)\n",
      "Calculating WSSSE\n",
      "248653.954362\n",
      "('Training for k = ', 8)\n",
      "Calculating WSSSE\n",
      "235612.104453\n",
      "('Training for k = ', 9)\n",
      "Calculating WSSSE\n",
      "229414.809525\n",
      "('Training for k = ', 10)\n",
      "Calculating WSSSE\n",
      "219657.595294\n",
      "('Training for k = ', 11)\n",
      "Calculating WSSSE\n",
      "213931.099861\n",
      "('Training for k = ', 12)\n",
      "Calculating WSSSE\n",
      "213756.874047\n",
      "('Training for k = ', 13)\n",
      "Calculating WSSSE\n",
      "207619.27707\n",
      "('Training for k = ', 14)\n",
      "Calculating WSSSE\n",
      "206548.66922\n",
      "('Training for k = ', 15)\n",
      "Calculating WSSSE\n",
      "200182.270542\n",
      "('Training for k = ', 16)\n",
      "Calculating WSSSE\n",
      "197541.502133\n",
      "('Training for k = ', 17)\n",
      "Calculating WSSSE\n",
      "192786.437982\n",
      "('Training for k = ', 18)\n",
      "Calculating WSSSE\n",
      "193767.910009\n",
      "('Training for k = ', 19)\n",
      "Calculating WSSSE\n",
      "189529.893348\n",
      "('Training for k = ', 20)\n",
      "Calculating WSSSE\n",
      "186473.283815\n",
      "('Training for k = ', 21)\n",
      "Calculating WSSSE\n",
      "184696.692619\n",
      "('Training for k = ', 22)\n",
      "Calculating WSSSE\n",
      "181998.973685\n",
      "('Training for k = ', 23)\n",
      "Calculating WSSSE\n",
      "180197.374924\n",
      "('Training for k = ', 24)\n",
      "Calculating WSSSE\n",
      "177517.901672\n",
      "('Training for k = ', 25)\n",
      "Calculating WSSSE\n",
      "177249.022306\n",
      "('Training for k = ', 26)\n",
      "Calculating WSSSE\n",
      "175785.020735\n",
      "('Training for k = ', 27)\n",
      "Calculating WSSSE\n",
      "172860.129182\n",
      "('Training for k = ', 28)\n",
      "Calculating WSSSE\n",
      "174827.760359\n",
      "('Training for k = ', 29)\n",
      "Calculating WSSSE\n",
      "170438.954953\n",
      "('Training for k = ', 30)\n",
      "Calculating WSSSE\n",
      "170341.008632\n"
     ]
    }
   ],
   "source": [
    "#ELBOW method\n",
    "\n",
    "wssseList = []\n",
    "\n",
    "for howManyClusters in range(2,31):\n",
    "    #train kmeans\n",
    "    print('Training for k = ',  howManyClusters)\n",
    "    kmeans      = KMeans(k=howManyClusters, seed = 1)\n",
    "    model       = kmeans.fit(scaledData)\n",
    "    transformed = model.transform(scaledData)\n",
    "    featuresAndPrediction     = transformed.select(\"features\", \"prediction\")\n",
    "    \n",
    "    #get wsse\n",
    "    print(\"Calculating WSSSE\")\n",
    "    W = wssse(featuresAndPrediction, model)\n",
    "    print(W)\n",
    "    \n",
    "    #store wsse so we can plot it\n",
    "    wssseList.append(W)"
   ]
  },
  {
   "cell_type": "markdown",
   "metadata": {
    "collapsed": true
   },
   "source": [
    "## Plots"
   ]
  },
  {
   "cell_type": "code",
   "execution_count": 36,
   "metadata": {
    "collapsed": true
   },
   "outputs": [],
   "source": [
    "%matplotlib inline\n",
    "import matplotlib.pyplot as plt"
   ]
  },
  {
   "cell_type": "code",
   "execution_count": 63,
   "metadata": {
    "collapsed": false
   },
   "outputs": [
    {
     "data": {
      "text/plain": [
       "<matplotlib.axes._subplots.AxesSubplot at 0x7fc00bb8dd90>"
      ]
     },
     "execution_count": 63,
     "metadata": {},
     "output_type": "execute_result"
    },
    {
     "data": {
      "image/png": "[encoded data removed]",
      "text/plain": [
       "<matplotlib.figure.Figure at 0x7fc00badab50>"
      ]
     },
     "metadata": {},
     "output_type": "display_data"
    }
   ],
   "source": [
    "wssseDF = pd.DataFrame({'WSSSE' : wssseList, 'k' : range(2,31) })\n",
    "wssseDF.plot(y='WSSSE', x='k', figsize=(15,10), grid=True)"
   ]
  },
  {
   "cell_type": "code",
   "execution_count": 42,
   "metadata": {
    "collapsed": false,
    "scrolled": true
   },
   "outputs": [
    {
     "name": "stdout",
     "output_type": "stream",
     "text": [
      "213756.874047\n"
     ]
    }
   ],
   "source": [
    "kmeans      = KMeans(k=12, seed = 1)\n",
    "model       = kmeans.fit(scaledData)\n",
    "transformed = model.transform(scaledData)\n",
    "featuresAndPrediction     = transformed.select(\"features\", \"prediction\")\n",
    "W = wssse(featuresAndPrediction, model)\n",
    "print(W)"
   ]
  },
  {
   "cell_type": "code",
   "execution_count": 43,
   "metadata": {
    "collapsed": false
   },
   "outputs": [],
   "source": [
    "from pandas.tools.plotting import parallel_coordinates\n",
    "import numpy as np"
   ]
  },
  {
   "cell_type": "code",
   "execution_count": 44,
   "metadata": {
    "collapsed": false
   },
   "outputs": [],
   "source": [
    "colNames = ['air_pressure','air_temp','avg_wind_direction','avg_wind_speed',\n",
    "'max_wind_direction','max_wind_speed','relative_humidity', 'prediction']"
   ]
  },
  {
   "cell_type": "code",
   "execution_count": 45,
   "metadata": {
    "collapsed": false
   },
   "outputs": [],
   "source": [
    "# Get the cluster centers\n",
    "C = model.clusterCenters()\n",
    "\n",
    "# Zip with a column called 'prediction' (index)\n",
    "Z = [np.append(A, index) for index, A in enumerate(C)]\n",
    "\n",
    "# Convert to pandas for plotting\n",
    "P = pd.DataFrame(Z, columns=colNames)"
   ]
  },
  {
   "cell_type": "code",
   "execution_count": 48,
   "metadata": {
    "collapsed": false
   },
   "outputs": [
    {
     "data": {
      "text/html": [
       "<div>\n",
       "<table border=\"1\" class=\"dataframe\">\n",
       "  <thead>\n",
       "    <tr style=\"text-align: right;\">\n",
       "      <th></th>\n",
       "      <th>air_pressure</th>\n",
       "      <th>air_temp</th>\n",
       "      <th>avg_wind_direction</th>\n",
       "      <th>avg_wind_speed</th>\n",
       "      <th>max_wind_direction</th>\n",
       "      <th>max_wind_speed</th>\n",
       "      <th>relative_humidity</th>\n",
       "      <th>prediction</th>\n",
       "    </tr>\n",
       "  </thead>\n",
       "  <tbody>\n",
       "    <tr>\n",
       "      <th>0</th>\n",
       "      <td>1.304318</td>\n",
       "      <td>-0.240301</td>\n",
       "      <td>-1.153878</td>\n",
       "      <td>1.733711</td>\n",
       "      <td>-1.046922</td>\n",
       "      <td>1.838704</td>\n",
       "      <td>-1.122005</td>\n",
       "      <td>0.0</td>\n",
       "    </tr>\n",
       "    <tr>\n",
       "      <th>1</th>\n",
       "      <td>0.157512</td>\n",
       "      <td>-0.743456</td>\n",
       "      <td>-1.219847</td>\n",
       "      <td>-0.549885</td>\n",
       "      <td>-1.070806</td>\n",
       "      <td>-0.565420</td>\n",
       "      <td>0.765232</td>\n",
       "      <td>1.0</td>\n",
       "    </tr>\n",
       "    <tr>\n",
       "      <th>2</th>\n",
       "      <td>-0.844086</td>\n",
       "      <td>-1.187147</td>\n",
       "      <td>0.359067</td>\n",
       "      <td>0.377051</td>\n",
       "      <td>0.485578</td>\n",
       "      <td>0.362212</td>\n",
       "      <td>1.350430</td>\n",
       "      <td>2.0</td>\n",
       "    </tr>\n",
       "    <tr>\n",
       "      <th>3</th>\n",
       "      <td>-0.225851</td>\n",
       "      <td>0.641771</td>\n",
       "      <td>0.409399</td>\n",
       "      <td>0.707502</td>\n",
       "      <td>0.518387</td>\n",
       "      <td>0.647364</td>\n",
       "      <td>-0.147868</td>\n",
       "      <td>3.0</td>\n",
       "    </tr>\n",
       "    <tr>\n",
       "      <th>4</th>\n",
       "      <td>0.131657</td>\n",
       "      <td>0.845997</td>\n",
       "      <td>1.893336</td>\n",
       "      <td>-0.628112</td>\n",
       "      <td>-1.547487</td>\n",
       "      <td>-0.554552</td>\n",
       "      <td>-0.753968</td>\n",
       "      <td>4.0</td>\n",
       "    </tr>\n",
       "    <tr>\n",
       "      <th>5</th>\n",
       "      <td>0.204733</td>\n",
       "      <td>-0.983129</td>\n",
       "      <td>0.642272</td>\n",
       "      <td>-0.548858</td>\n",
       "      <td>0.859580</td>\n",
       "      <td>-0.532304</td>\n",
       "      <td>1.168376</td>\n",
       "      <td>5.0</td>\n",
       "    </tr>\n",
       "    <tr>\n",
       "      <th>6</th>\n",
       "      <td>0.970906</td>\n",
       "      <td>0.235161</td>\n",
       "      <td>0.214661</td>\n",
       "      <td>-0.499573</td>\n",
       "      <td>0.402008</td>\n",
       "      <td>-0.503149</td>\n",
       "      <td>-0.808180</td>\n",
       "      <td>6.0</td>\n",
       "    </tr>\n",
       "    <tr>\n",
       "      <th>7</th>\n",
       "      <td>-0.617932</td>\n",
       "      <td>0.616826</td>\n",
       "      <td>0.133989</td>\n",
       "      <td>-0.619992</td>\n",
       "      <td>0.305342</td>\n",
       "      <td>-0.634391</td>\n",
       "      <td>-0.194565</td>\n",
       "      <td>7.0</td>\n",
       "    </tr>\n",
       "    <tr>\n",
       "      <th>8</th>\n",
       "      <td>0.284516</td>\n",
       "      <td>0.634947</td>\n",
       "      <td>-1.306414</td>\n",
       "      <td>-0.474168</td>\n",
       "      <td>-1.167003</td>\n",
       "      <td>-0.482872</td>\n",
       "      <td>-0.797559</td>\n",
       "      <td>8.0</td>\n",
       "    </tr>\n",
       "    <tr>\n",
       "      <th>9</th>\n",
       "      <td>0.133220</td>\n",
       "      <td>0.860683</td>\n",
       "      <td>1.373988</td>\n",
       "      <td>-0.638568</td>\n",
       "      <td>1.638270</td>\n",
       "      <td>-0.589493</td>\n",
       "      <td>-0.714741</td>\n",
       "      <td>9.0</td>\n",
       "    </tr>\n",
       "    <tr>\n",
       "      <th>10</th>\n",
       "      <td>0.370337</td>\n",
       "      <td>-0.980132</td>\n",
       "      <td>1.860527</td>\n",
       "      <td>-0.692878</td>\n",
       "      <td>-1.533214</td>\n",
       "      <td>-0.603240</td>\n",
       "      <td>0.890451</td>\n",
       "      <td>10.0</td>\n",
       "    </tr>\n",
       "    <tr>\n",
       "      <th>11</th>\n",
       "      <td>-1.175588</td>\n",
       "      <td>-0.866034</td>\n",
       "      <td>0.442569</td>\n",
       "      <td>1.991415</td>\n",
       "      <td>0.534212</td>\n",
       "      <td>1.951808</td>\n",
       "      <td>0.902767</td>\n",
       "      <td>11.0</td>\n",
       "    </tr>\n",
       "  </tbody>\n",
       "</table>\n",
       "</div>"
      ],
      "text/plain": [
       "    air_pressure  air_temp  avg_wind_direction  avg_wind_speed  \\\n",
       "0       1.304318 -0.240301           -1.153878        1.733711   \n",
       "1       0.157512 -0.743456           -1.219847       -0.549885   \n",
       "2      -0.844086 -1.187147            0.359067        0.377051   \n",
       "3      -0.225851  0.641771            0.409399        0.707502   \n",
       "4       0.131657  0.845997            1.893336       -0.628112   \n",
       "5       0.204733 -0.983129            0.642272       -0.548858   \n",
       "6       0.970906  0.235161            0.214661       -0.499573   \n",
       "7      -0.617932  0.616826            0.133989       -0.619992   \n",
       "8       0.284516  0.634947           -1.306414       -0.474168   \n",
       "9       0.133220  0.860683            1.373988       -0.638568   \n",
       "10      0.370337 -0.980132            1.860527       -0.692878   \n",
       "11     -1.175588 -0.866034            0.442569        1.991415   \n",
       "\n",
       "    max_wind_direction  max_wind_speed  relative_humidity  prediction  \n",
       "0            -1.046922        1.838704          -1.122005         0.0  \n",
       "1            -1.070806       -0.565420           0.765232         1.0  \n",
       "2             0.485578        0.362212           1.350430         2.0  \n",
       "3             0.518387        0.647364          -0.147868         3.0  \n",
       "4            -1.547487       -0.554552          -0.753968         4.0  \n",
       "5             0.859580       -0.532304           1.168376         5.0  \n",
       "6             0.402008       -0.503149          -0.808180         6.0  \n",
       "7             0.305342       -0.634391          -0.194565         7.0  \n",
       "8            -1.167003       -0.482872          -0.797559         8.0  \n",
       "9             1.638270       -0.589493          -0.714741         9.0  \n",
       "10           -1.533214       -0.603240           0.890451        10.0  \n",
       "11            0.534212        1.951808           0.902767        11.0  "
      ]
     },
     "execution_count": 48,
     "metadata": {},
     "output_type": "execute_result"
    }
   ],
   "source": [
    "P"
   ]
  },
  {
   "cell_type": "markdown",
   "metadata": {},
   "source": [
    "## Dry Days"
   ]
  },
  {
   "cell_type": "code",
   "execution_count": 62,
   "metadata": {
    "collapsed": false
   },
   "outputs": [
    {
     "data": {
      "text/plain": [
       "<matplotlib.axes._subplots.AxesSubplot at 0x7fc00bc57390>"
      ]
     },
     "execution_count": 62,
     "metadata": {},
     "output_type": "execute_result"
    },
    {
     "data": {
      "image/png": "[encoded data removed]",
      "text/plain": [
       "<matplotlib.figure.Figure at 0x7fc00bdfa110>"
      ]
     },
     "metadata": {},
     "output_type": "display_data"
    }
   ],
   "source": [
    "# Parallel Coordinates Plot 1: Dry Days (Low Humidity)\n",
    "plt.figure(figsize=(15,8))\n",
    "parallel_coordinates(P[P['relative_humidity']< -0.76], 'prediction')"
   ]
  },
  {
   "cell_type": "markdown",
   "metadata": {},
   "source": [
    "## Warm Days"
   ]
  },
  {
   "cell_type": "code",
   "execution_count": 59,
   "metadata": {
    "collapsed": false
   },
   "outputs": [
    {
     "data": {
      "text/plain": [
       "<matplotlib.axes._subplots.AxesSubplot at 0x7fc01002b750>"
      ]
     },
     "execution_count": 59,
     "metadata": {},
     "output_type": "execute_result"
    },
    {
     "data": {
      "image/png": "[encoded data removed]",
      "text/plain": [
       "<matplotlib.figure.Figure at 0x7fc010379b10>"
      ]
     },
     "metadata": {},
     "output_type": "display_data"
    }
   ],
   "source": [
    "# Parallel Coordinates Plot 1: Warm Days (High Temperature)\n",
    "plt.figure(figsize=(15,5))\n",
    "parallel_coordinates(P[P['air_temp']> 0.8], 'prediction')"
   ]
  },
  {
   "cell_type": "markdown",
   "metadata": {},
   "source": [
    "## Cool and Rainy Days"
   ]
  },
  {
   "cell_type": "code",
   "execution_count": 57,
   "metadata": {
    "collapsed": false
   },
   "outputs": [
    {
     "data": {
      "text/plain": [
       "<matplotlib.axes._subplots.AxesSubplot at 0x7fc010159990>"
      ]
     },
     "execution_count": 57,
     "metadata": {},
     "output_type": "execute_result"
    },
    {
     "data": {
      "image/png": "[encoded data removed]",
      "text/plain": [
       "<matplotlib.figure.Figure at 0x7fc010114ed0>"
      ]
     },
     "metadata": {},
     "output_type": "display_data"
    }
   ],
   "source": [
    "# Parallel Coordinates Plot 1: Cool and Possibily Rainy Days (High Humidity, Low Temp)\n",
    "plt.figure(figsize=(15,5))\n",
    "parallel_coordinates(P[(P['relative_humidity']>1.0) & (P['air_temp']< 0.5)], 'prediction')"
   ]
  },
  {
   "cell_type": "code",
   "execution_count": null,
   "metadata": {
    "collapsed": true
   },
   "outputs": [],
   "source": []
  },
  {
   "cell_type": "code",
   "execution_count": null,
   "metadata": {
    "collapsed": true
   },
   "outputs": [],
   "source": []
  }
 ],
 "metadata": {
  "kernelspec": {
   "display_name": "Python 2",
   "language": "python",
   "name": "python2"
  },
  "language_info": {
   "codemirror_mode": {
    "name": "ipython",
    "version": 2
   },
   "file_extension": ".py",
   "mimetype": "text/x-python",
   "name": "python",
   "nbconvert_exporter": "python",
   "pygments_lexer": "ipython2",
   "version": "2.7.11"
  }
 },
 "nbformat": 4,
 "nbformat_minor": 0
}
