{
 "cells": [
  {
   "cell_type": "code",
   "execution_count": 1,
   "metadata": {
    "collapsed": false
   },
   "outputs": [],
   "source": [
    "from pyspark.sql import SQLContext\n",
    "from pyspark.sql import DataFrameNaFunctions\n",
    "import pandas as pd\n",
    "from pyspark.mllib.linalg import DenseVector\n",
    "from numpy import array\n",
    "from math import sqrt\n",
    "from pyspark.ml.clustering import KMeans\n",
    "%matplotlib inline\n",
    "import matplotlib.pyplot as plt"
   ]
  },
  {
   "cell_type": "code",
   "execution_count": 2,
   "metadata": {
    "collapsed": true
   },
   "outputs": [],
   "source": [
    "sqlContext = SQLContext(sc)"
   ]
  },
  {
   "cell_type": "code",
   "execution_count": 3,
   "metadata": {
    "collapsed": false
   },
   "outputs": [],
   "source": [
    "dataDF = sqlContext.read.load('file:///home/cloudera/coursera/courseraDataSimulation/course4-ML/minute_weather.csv', \n",
    "                          format='com.databricks.spark.csv', \n",
    "                          header='true',inferSchema='true')"
   ]
  },
  {
   "cell_type": "code",
   "execution_count": 4,
   "metadata": {
    "collapsed": false
   },
   "outputs": [
    {
     "data": {
      "text/html": [
       "<div>\n",
       "<table border=\"1\" class=\"dataframe\">\n",
       "  <thead>\n",
       "    <tr style=\"text-align: right;\">\n",
       "      <th></th>\n",
       "      <th>0</th>\n",
       "      <th>1</th>\n",
       "      <th>2</th>\n",
       "      <th>3</th>\n",
       "      <th>4</th>\n",
       "    </tr>\n",
       "  </thead>\n",
       "  <tbody>\n",
       "    <tr>\n",
       "      <th>summary</th>\n",
       "      <td>count</td>\n",
       "      <td>mean</td>\n",
       "      <td>stddev</td>\n",
       "      <td>min</td>\n",
       "      <td>max</td>\n",
       "    </tr>\n",
       "    <tr>\n",
       "      <th>rowID</th>\n",
       "      <td>1587257</td>\n",
       "      <td>793628.0</td>\n",
       "      <td>458201.7724491035</td>\n",
       "      <td>0</td>\n",
       "      <td>1587256</td>\n",
       "    </tr>\n",
       "    <tr>\n",
       "      <th>air_pressure</th>\n",
       "      <td>1587257</td>\n",
       "      <td>916.8301266904964</td>\n",
       "      <td>3.051593126680745</td>\n",
       "      <td>905.0</td>\n",
       "      <td>929.5</td>\n",
       "    </tr>\n",
       "    <tr>\n",
       "      <th>air_temp</th>\n",
       "      <td>1587257</td>\n",
       "      <td>61.85144042834878</td>\n",
       "      <td>11.833623786835721</td>\n",
       "      <td>31.64</td>\n",
       "      <td>99.5</td>\n",
       "    </tr>\n",
       "    <tr>\n",
       "      <th>avg_wind_direction</th>\n",
       "      <td>1586824</td>\n",
       "      <td>161.96537927331576</td>\n",
       "      <td>95.20811970203971</td>\n",
       "      <td>0.0</td>\n",
       "      <td>359.0</td>\n",
       "    </tr>\n",
       "    <tr>\n",
       "      <th>avg_wind_speed</th>\n",
       "      <td>1586824</td>\n",
       "      <td>2.774272067979844</td>\n",
       "      <td>2.0607577935630355</td>\n",
       "      <td>0.0</td>\n",
       "      <td>32.3</td>\n",
       "    </tr>\n",
       "    <tr>\n",
       "      <th>max_wind_direction</th>\n",
       "      <td>1586824</td>\n",
       "      <td>163.40304784903682</td>\n",
       "      <td>92.3672342806429</td>\n",
       "      <td>0.0</td>\n",
       "      <td>359.0</td>\n",
       "    </tr>\n",
       "    <tr>\n",
       "      <th>max_wind_speed</th>\n",
       "      <td>1586824</td>\n",
       "      <td>3.3998134008569685</td>\n",
       "      <td>2.423167433617133</td>\n",
       "      <td>0.1</td>\n",
       "      <td>36.0</td>\n",
       "    </tr>\n",
       "    <tr>\n",
       "      <th>min_wind_direction</th>\n",
       "      <td>1586824</td>\n",
       "      <td>166.82637078844283</td>\n",
       "      <td>97.46274620077615</td>\n",
       "      <td>0.0</td>\n",
       "      <td>359.0</td>\n",
       "    </tr>\n",
       "    <tr>\n",
       "      <th>min_wind_speed</th>\n",
       "      <td>1586824</td>\n",
       "      <td>2.1331304542917913</td>\n",
       "      <td>1.745345084932679</td>\n",
       "      <td>0.0</td>\n",
       "      <td>32.0</td>\n",
       "    </tr>\n",
       "    <tr>\n",
       "      <th>rain_accumulation</th>\n",
       "      <td>1587257</td>\n",
       "      <td>255.29254780980187</td>\n",
       "      <td>233.99272826585963</td>\n",
       "      <td>0.0</td>\n",
       "      <td>603.76</td>\n",
       "    </tr>\n",
       "    <tr>\n",
       "      <th>rain_duration</th>\n",
       "      <td>1587257</td>\n",
       "      <td>19319.83301380936</td>\n",
       "      <td>14456.524150365642</td>\n",
       "      <td>0</td>\n",
       "      <td>65530</td>\n",
       "    </tr>\n",
       "    <tr>\n",
       "      <th>relative_humidity</th>\n",
       "      <td>1587257</td>\n",
       "      <td>47.60836877707914</td>\n",
       "      <td>26.21454390649835</td>\n",
       "      <td>0.7</td>\n",
       "      <td>93.0</td>\n",
       "    </tr>\n",
       "  </tbody>\n",
       "</table>\n",
       "</div>"
      ],
      "text/plain": [
       "                          0                   1                   2      3  \\\n",
       "summary               count                mean              stddev    min   \n",
       "rowID               1587257            793628.0   458201.7724491035      0   \n",
       "air_pressure        1587257   916.8301266904964   3.051593126680745  905.0   \n",
       "air_temp            1587257   61.85144042834878  11.833623786835721  31.64   \n",
       "avg_wind_direction  1586824  161.96537927331576   95.20811970203971    0.0   \n",
       "avg_wind_speed      1586824   2.774272067979844  2.0607577935630355    0.0   \n",
       "max_wind_direction  1586824  163.40304784903682    92.3672342806429    0.0   \n",
       "max_wind_speed      1586824  3.3998134008569685   2.423167433617133    0.1   \n",
       "min_wind_direction  1586824  166.82637078844283   97.46274620077615    0.0   \n",
       "min_wind_speed      1586824  2.1331304542917913   1.745345084932679    0.0   \n",
       "rain_accumulation   1587257  255.29254780980187  233.99272826585963    0.0   \n",
       "rain_duration       1587257   19319.83301380936  14456.524150365642      0   \n",
       "relative_humidity   1587257   47.60836877707914   26.21454390649835    0.7   \n",
       "\n",
       "                          4  \n",
       "summary                 max  \n",
       "rowID               1587256  \n",
       "air_pressure          929.5  \n",
       "air_temp               99.5  \n",
       "avg_wind_direction    359.0  \n",
       "avg_wind_speed         32.3  \n",
       "max_wind_direction    359.0  \n",
       "max_wind_speed         36.0  \n",
       "min_wind_direction    359.0  \n",
       "min_wind_speed         32.0  \n",
       "rain_accumulation    603.76  \n",
       "rain_duration         65530  \n",
       "relative_humidity      93.0  "
      ]
     },
     "execution_count": 4,
     "metadata": {},
     "output_type": "execute_result"
    }
   ],
   "source": [
    "dataDF.describe().toPandas().transpose()"
   ]
  },
  {
   "cell_type": "code",
   "execution_count": 5,
   "metadata": {
    "collapsed": false
   },
   "outputs": [
    {
     "data": {
      "text/plain": [
       "1587257"
      ]
     },
     "execution_count": 5,
     "metadata": {},
     "output_type": "execute_result"
    }
   ],
   "source": [
    "dataDF.count()"
   ]
  },
  {
   "cell_type": "code",
   "execution_count": 6,
   "metadata": {
    "collapsed": false
   },
   "outputs": [
    {
     "data": {
      "text/plain": [
       "158726"
      ]
     },
     "execution_count": 6,
     "metadata": {},
     "output_type": "execute_result"
    }
   ],
   "source": [
    "#Re-sample to take every 10th value and count new dataset\n",
    "\n",
    "filtered = dataDF.filter((dataDF.rowID % 10) == 0)\n",
    "T=filtered.count()\n",
    "T"
   ]
  },
  {
   "cell_type": "code",
   "execution_count": 7,
   "metadata": {
    "collapsed": false
   },
   "outputs": [
    {
     "name": "stdout",
     "output_type": "stream",
     "text": [
      "Zeros in rain_accumulation = 13134 and in rain_duration = 12839 out of 158726\n"
     ]
    }
   ],
   "source": [
    "# Review the number of zeros in rain_accumulation column\n",
    "R1 = filtered.filter(filtered.rain_accumulation < 0.0001).count() \n",
    "\n",
    "# Count the number of zeros in rain_duration column\n",
    "R2 = filtered.filter(filtered.rain_duration < 0.0001).count() \n",
    "\n",
    "# We can drop these two columns since most values are ZERO\n",
    "print \"Zeros in rain_accumulation = {} and in rain_duration = {} out of {}\".format(R1, R2, T)"
   ]
  },
  {
   "cell_type": "code",
   "execution_count": 8,
   "metadata": {
    "collapsed": false
   },
   "outputs": [],
   "source": [
    "#SELECT required columns \n",
    "\n",
    "cols = [\n",
    " 'air_pressure', 'air_temp', 'avg_wind_direction', 'avg_wind_speed', 'max_wind_direction', 'max_wind_speed',\n",
    " 'relative_humidity']"
   ]
  },
  {
   "cell_type": "code",
   "execution_count": 9,
   "metadata": {
    "collapsed": false
   },
   "outputs": [],
   "source": [
    "# Select the required columns of interest and count how many rows:\n",
    "workingDF = filtered.select(cols)\n",
    "initial = workingDF.count()"
   ]
  },
  {
   "cell_type": "code",
   "execution_count": 10,
   "metadata": {
    "collapsed": false
   },
   "outputs": [
    {
     "data": {
      "text/plain": [
       "46"
      ]
     },
     "execution_count": 10,
     "metadata": {},
     "output_type": "execute_result"
    }
   ],
   "source": [
    "# Drop rows with missing values and count how many rows we dropped\n",
    "\n",
    "workingDF = workingDF.na.drop()\n",
    "remaining = workingDF.count()\n",
    "initial - remaining"
   ]
  },
  {
   "cell_type": "code",
   "execution_count": 11,
   "metadata": {
    "collapsed": false
   },
   "outputs": [
    {
     "data": {
      "text/plain": [
       "[Row(air_pressure=912.3, air_temp=64.76, avg_wind_direction=97.0, avg_wind_speed=1.2, max_wind_direction=106.0, max_wind_speed=1.6, relative_humidity=60.5),\n",
       " Row(air_pressure=912.3, air_temp=62.24, avg_wind_direction=144.0, avg_wind_speed=1.2, max_wind_direction=167.0, max_wind_speed=1.8, relative_humidity=38.5)]"
      ]
     },
     "execution_count": 11,
     "metadata": {},
     "output_type": "execute_result"
    }
   ],
   "source": [
    "workingDF.take(2)"
   ]
  },
  {
   "cell_type": "code",
   "execution_count": 12,
   "metadata": {
    "collapsed": false
   },
   "outputs": [],
   "source": [
    "# CONVERT SPEED from meters/sec to miles per hour\n",
    "workingDF = workingDF.withColumn('avg_wind_speed', workingDF.avg_wind_speed * 2.236)\n",
    "workingDF = workingDF.withColumn('max_wind_speed', workingDF.max_wind_speed * 2.236)"
   ]
  },
  {
   "cell_type": "code",
   "execution_count": 13,
   "metadata": {
    "collapsed": false
   },
   "outputs": [],
   "source": [
    "# REVIEW the columns we have in workingDF.columns"
   ]
  },
  {
   "cell_type": "code",
   "execution_count": 14,
   "metadata": {
    "collapsed": true
   },
   "outputs": [],
   "source": [
    "# ASSEMBLE all the features.\n",
    "\n",
    "from pyspark.ml.feature import VectorAssembler\n",
    "assembler = VectorAssembler(inputCols=cols, outputCol=\"features_pre\")\n",
    "assembled = assembler.transform(workingDF)"
   ]
  },
  {
   "cell_type": "code",
   "execution_count": 15,
   "metadata": {
    "collapsed": true
   },
   "outputs": [],
   "source": [
    "# SCALE the dataset.\n",
    "\n",
    "from pyspark.ml.feature import StandardScaler\n",
    "scaler = StandardScaler(inputCol=\"features_pre\", outputCol=\"features\",withStd=True, withMean=True)\n",
    "# Fit the StandardScaler\n",
    "scalerModel = scaler.fit(assembled)\n",
    "# Normalize each feature\n",
    "scaledData = scalerModel.transform(assembled)"
   ]
  },
  {
   "cell_type": "markdown",
   "metadata": {},
   "source": [
    "## Compare Statistics of Scaled Data vs Original Data"
   ]
  },
  {
   "cell_type": "code",
   "execution_count": 16,
   "metadata": {
    "collapsed": false
   },
   "outputs": [
    {
     "data": {
      "text/html": [
       "<div>\n",
       "<table border=\"1\" class=\"dataframe\">\n",
       "  <thead>\n",
       "    <tr style=\"text-align: right;\">\n",
       "      <th></th>\n",
       "      <th>0</th>\n",
       "      <th>1</th>\n",
       "      <th>2</th>\n",
       "      <th>3</th>\n",
       "      <th>4</th>\n",
       "      <th>5</th>\n",
       "      <th>6</th>\n",
       "    </tr>\n",
       "  </thead>\n",
       "  <tbody>\n",
       "    <tr>\n",
       "      <th>count</th>\n",
       "      <td>158680.000000</td>\n",
       "      <td>158680.000000</td>\n",
       "      <td>158680.000000</td>\n",
       "      <td>158680.000000</td>\n",
       "      <td>158680.000000</td>\n",
       "      <td>158680.000000</td>\n",
       "      <td>158680.000000</td>\n",
       "    </tr>\n",
       "    <tr>\n",
       "      <th>mean</th>\n",
       "      <td>916.830407</td>\n",
       "      <td>61.855783</td>\n",
       "      <td>162.156100</td>\n",
       "      <td>6.205381</td>\n",
       "      <td>163.462144</td>\n",
       "      <td>7.603647</td>\n",
       "      <td>47.596920</td>\n",
       "    </tr>\n",
       "    <tr>\n",
       "      <th>std</th>\n",
       "      <td>3.051687</td>\n",
       "      <td>11.832516</td>\n",
       "      <td>95.278201</td>\n",
       "      <td>4.600847</td>\n",
       "      <td>92.452139</td>\n",
       "      <td>5.408440</td>\n",
       "      <td>26.207831</td>\n",
       "    </tr>\n",
       "    <tr>\n",
       "      <th>min</th>\n",
       "      <td>905.000000</td>\n",
       "      <td>31.640000</td>\n",
       "      <td>0.000000</td>\n",
       "      <td>0.000000</td>\n",
       "      <td>0.000000</td>\n",
       "      <td>0.223600</td>\n",
       "      <td>0.900000</td>\n",
       "    </tr>\n",
       "    <tr>\n",
       "      <th>50%</th>\n",
       "      <td>916.700000</td>\n",
       "      <td>62.420000</td>\n",
       "      <td>182.000000</td>\n",
       "      <td>4.919200</td>\n",
       "      <td>187.000000</td>\n",
       "      <td>6.037200</td>\n",
       "      <td>44.700000</td>\n",
       "    </tr>\n",
       "    <tr>\n",
       "      <th>max</th>\n",
       "      <td>929.500000</td>\n",
       "      <td>99.500000</td>\n",
       "      <td>359.000000</td>\n",
       "      <td>71.328400</td>\n",
       "      <td>359.000000</td>\n",
       "      <td>80.496000</td>\n",
       "      <td>93.000000</td>\n",
       "    </tr>\n",
       "  </tbody>\n",
       "</table>\n",
       "</div>"
      ],
      "text/plain": [
       "                   0              1              2              3  \\\n",
       "count  158680.000000  158680.000000  158680.000000  158680.000000   \n",
       "mean      916.830407      61.855783     162.156100       6.205381   \n",
       "std         3.051687      11.832516      95.278201       4.600847   \n",
       "min       905.000000      31.640000       0.000000       0.000000   \n",
       "50%       916.700000      62.420000     182.000000       4.919200   \n",
       "max       929.500000      99.500000     359.000000      71.328400   \n",
       "\n",
       "                   4              5              6  \n",
       "count  158680.000000  158680.000000  158680.000000  \n",
       "mean      163.462144       7.603647      47.596920  \n",
       "std        92.452139       5.408440      26.207831  \n",
       "min         0.000000       0.223600       0.900000  \n",
       "50%       187.000000       6.037200      44.700000  \n",
       "max       359.000000      80.496000      93.000000  "
      ]
     },
     "execution_count": 16,
     "metadata": {},
     "output_type": "execute_result"
    }
   ],
   "source": [
    "# UNSCALED : Extract \"features_pre\" and describe \"features_pre\"\n",
    "\n",
    "splitVector = lambda x: pd.Series([i for i in x])\n",
    "\n",
    "N = scaledData.select(\"features_pre\").toPandas()\n",
    "unScaledDF = N['features_pre'].apply(splitVector)\n",
    "unScaledDF.describe(percentiles=[])"
   ]
  },
  {
   "cell_type": "code",
   "execution_count": 17,
   "metadata": {
    "collapsed": false
   },
   "outputs": [
    {
     "data": {
      "text/html": [
       "<div>\n",
       "<table border=\"1\" class=\"dataframe\">\n",
       "  <thead>\n",
       "    <tr style=\"text-align: right;\">\n",
       "      <th></th>\n",
       "      <th>0</th>\n",
       "      <th>1</th>\n",
       "      <th>2</th>\n",
       "      <th>3</th>\n",
       "      <th>4</th>\n",
       "      <th>5</th>\n",
       "      <th>6</th>\n",
       "    </tr>\n",
       "  </thead>\n",
       "  <tbody>\n",
       "    <tr>\n",
       "      <th>count</th>\n",
       "      <td>1.586800e+05</td>\n",
       "      <td>1.586800e+05</td>\n",
       "      <td>1.586800e+05</td>\n",
       "      <td>1.586800e+05</td>\n",
       "      <td>1.586800e+05</td>\n",
       "      <td>1.586800e+05</td>\n",
       "      <td>1.586800e+05</td>\n",
       "    </tr>\n",
       "    <tr>\n",
       "      <th>mean</th>\n",
       "      <td>8.484653e-13</td>\n",
       "      <td>-2.153480e-14</td>\n",
       "      <td>-6.960874e-15</td>\n",
       "      <td>1.636591e-15</td>\n",
       "      <td>-4.257592e-15</td>\n",
       "      <td>-4.196787e-16</td>\n",
       "      <td>5.824565e-15</td>\n",
       "    </tr>\n",
       "    <tr>\n",
       "      <th>std</th>\n",
       "      <td>1.000000e+00</td>\n",
       "      <td>1.000000e+00</td>\n",
       "      <td>1.000000e+00</td>\n",
       "      <td>1.000000e+00</td>\n",
       "      <td>1.000000e+00</td>\n",
       "      <td>1.000000e+00</td>\n",
       "      <td>1.000000e+00</td>\n",
       "    </tr>\n",
       "    <tr>\n",
       "      <th>min</th>\n",
       "      <td>-3.876677e+00</td>\n",
       "      <td>-2.553623e+00</td>\n",
       "      <td>-1.701922e+00</td>\n",
       "      <td>-1.348747e+00</td>\n",
       "      <td>-1.768073e+00</td>\n",
       "      <td>-1.364543e+00</td>\n",
       "      <td>-1.781793e+00</td>\n",
       "    </tr>\n",
       "    <tr>\n",
       "      <th>50%</th>\n",
       "      <td>-4.273279e-02</td>\n",
       "      <td>4.768364e-02</td>\n",
       "      <td>2.082732e-01</td>\n",
       "      <td>-2.795530e-01</td>\n",
       "      <td>2.545950e-01</td>\n",
       "      <td>-2.896301e-01</td>\n",
       "      <td>-1.105364e-01</td>\n",
       "    </tr>\n",
       "    <tr>\n",
       "      <th>max</th>\n",
       "      <td>4.151668e+00</td>\n",
       "      <td>3.181421e+00</td>\n",
       "      <td>2.065991e+00</td>\n",
       "      <td>1.415457e+01</td>\n",
       "      <td>2.115017e+00</td>\n",
       "      <td>1.347752e+01</td>\n",
       "      <td>1.732424e+00</td>\n",
       "    </tr>\n",
       "  </tbody>\n",
       "</table>\n",
       "</div>"
      ],
      "text/plain": [
       "                  0             1             2             3             4  \\\n",
       "count  1.586800e+05  1.586800e+05  1.586800e+05  1.586800e+05  1.586800e+05   \n",
       "mean   8.484653e-13 -2.153480e-14 -6.960874e-15  1.636591e-15 -4.257592e-15   \n",
       "std    1.000000e+00  1.000000e+00  1.000000e+00  1.000000e+00  1.000000e+00   \n",
       "min   -3.876677e+00 -2.553623e+00 -1.701922e+00 -1.348747e+00 -1.768073e+00   \n",
       "50%   -4.273279e-02  4.768364e-02  2.082732e-01 -2.795530e-01  2.545950e-01   \n",
       "max    4.151668e+00  3.181421e+00  2.065991e+00  1.415457e+01  2.115017e+00   \n",
       "\n",
       "                  5             6  \n",
       "count  1.586800e+05  1.586800e+05  \n",
       "mean  -4.196787e-16  5.824565e-15  \n",
       "std    1.000000e+00  1.000000e+00  \n",
       "min   -1.364543e+00 -1.781793e+00  \n",
       "50%   -2.896301e-01 -1.105364e-01  \n",
       "max    1.347752e+01  1.732424e+00  "
      ]
     },
     "execution_count": 17,
     "metadata": {},
     "output_type": "execute_result"
    }
   ],
   "source": [
    "# SCALED : Extract \"features\" and describe \"features\"\n",
    "\n",
    "T = scaledData.select(\"features\").toPandas()\n",
    "scaledDF = T['features'].apply(splitVector)\n",
    "scaledDF.describe(percentiles=[])"
   ]
  },
  {
   "cell_type": "code",
   "execution_count": 18,
   "metadata": {
    "collapsed": false
   },
   "outputs": [
    {
     "data": {
      "text/plain": [
       "DataFrame[features: vector]"
      ]
     },
     "execution_count": 18,
     "metadata": {},
     "output_type": "execute_result"
    }
   ],
   "source": [
    "# Keep features and leave other columns\n",
    "\n",
    "scaledData = scaledData.select(\"features\")\n",
    "scaledData.persist()"
   ]
  },
  {
   "cell_type": "code",
   "execution_count": 19,
   "metadata": {
    "collapsed": false
   },
   "outputs": [],
   "source": [
    "# Let us write a function that evaluates the Errors: WSSE  -  Within Set Sum of Squared Errors.\n",
    "\n",
    "def computeCost(featuresAndPrediction, model):\n",
    "    # Get centers of all clusters\n",
    "    allClusterCenters = [DenseVector(c) for c in model.clusterCenters()]\n",
    "    # Map to a collection of arrays\n",
    "    arrayCollection   = featuresAndPrediction.rdd.map(array)\n",
    "    # Given a point, return its distance from Center of the Class assigned\n",
    "\n",
    "    def error(point, predictedCluster):\n",
    "        center = allClusterCenters[predictedCluster]\n",
    "        z      = point - center\n",
    "        return sqrt((z*z).sum())\n",
    "    \n",
    "    return arrayCollection.map(lambda row: error(row[0], row[1])).reduce(lambda x, y: x + y)"
   ]
  },
  {
   "cell_type": "code",
   "execution_count": 20,
   "metadata": {
    "collapsed": false
   },
   "outputs": [
    {
     "name": "stdout",
     "output_type": "stream",
     "text": [
      "Training for k = 2 \n",
      "CPU times: user 13 ms, sys: 14 ms, total: 27 ms\n",
      "Wall time: 19.7 s\n",
      "CPU times: user 0 ns, sys: 2 ms, total: 2 ms\n",
      "Wall time: 130 ms\n",
      "CPU times: user 11 ms, sys: 20 ms, total: 31 ms\n",
      "Wall time: 18.7 s\n",
      "WSSSE = 348521.951115 \n",
      "Training for k = 3 \n",
      "CPU times: user 0 ns, sys: 12 ms, total: 12 ms\n",
      "Wall time: 6.82 s\n",
      "CPU times: user 1 ms, sys: 0 ns, total: 1 ms\n",
      "Wall time: 122 ms\n",
      "CPU times: user 10 ms, sys: 26 ms, total: 36 ms\n",
      "Wall time: 14.7 s\n",
      "WSSSE = 307527.01438 \n",
      "Training for k = 4 \n",
      "CPU times: user 2 ms, sys: 9 ms, total: 11 ms\n",
      "Wall time: 8.88 s\n",
      "CPU times: user 2 ms, sys: 0 ns, total: 2 ms\n",
      "Wall time: 99.9 ms\n",
      "CPU times: user 10 ms, sys: 12 ms, total: 22 ms\n",
      "Wall time: 15.6 s\n",
      "WSSSE = 283783.638931 \n",
      "Training for k = 5 \n",
      "CPU times: user 2 ms, sys: 17 ms, total: 19 ms\n",
      "Wall time: 4.98 s\n",
      "CPU times: user 1 ms, sys: 999 µs, total: 2 ms\n",
      "Wall time: 151 ms\n",
      "CPU times: user 8 ms, sys: 20 ms, total: 28 ms\n",
      "Wall time: 14.1 s\n",
      "WSSSE = 264162.225034 \n",
      "Training for k = 6 \n",
      "CPU times: user 2 ms, sys: 10 ms, total: 12 ms\n",
      "Wall time: 5.56 s\n",
      "CPU times: user 0 ns, sys: 1e+03 µs, total: 1e+03 µs\n",
      "Wall time: 20.6 ms\n",
      "CPU times: user 999 µs, sys: 19 ms, total: 20 ms\n",
      "Wall time: 13.2 s\n",
      "WSSSE = 255377.662402 \n",
      "Training for k = 7 \n",
      "CPU times: user 4 ms, sys: 14 ms, total: 18 ms\n",
      "Wall time: 6.27 s\n",
      "CPU times: user 1e+03 µs, sys: 2 ms, total: 3 ms\n",
      "Wall time: 26.1 ms\n",
      "CPU times: user 6 ms, sys: 18 ms, total: 24 ms\n",
      "Wall time: 13.7 s\n",
      "WSSSE = 248653.954362 \n",
      "Training for k = 8 \n",
      "CPU times: user 8 ms, sys: 10 ms, total: 18 ms\n",
      "Wall time: 6.47 s\n",
      "CPU times: user 0 ns, sys: 0 ns, total: 0 ns\n",
      "Wall time: 24.6 ms\n",
      "CPU times: user 8 ms, sys: 26 ms, total: 34 ms\n",
      "Wall time: 14.2 s\n",
      "WSSSE = 235612.104453 \n",
      "Training for k = 9 \n",
      "CPU times: user 4 ms, sys: 9 ms, total: 13 ms\n",
      "Wall time: 6.51 s\n",
      "CPU times: user 0 ns, sys: 3 ms, total: 3 ms\n",
      "Wall time: 19.4 ms\n",
      "CPU times: user 6 ms, sys: 19 ms, total: 25 ms\n",
      "Wall time: 13.4 s\n",
      "WSSSE = 229414.809525 \n",
      "Training for k = 10 \n",
      "CPU times: user 6 ms, sys: 11 ms, total: 17 ms\n",
      "Wall time: 6.99 s\n",
      "CPU times: user 0 ns, sys: 1 ms, total: 1 ms\n",
      "Wall time: 9.76 ms\n",
      "CPU times: user 12 ms, sys: 20 ms, total: 32 ms\n",
      "Wall time: 13.8 s\n",
      "WSSSE = 219657.595294 \n",
      "Training for k = 11 \n",
      "CPU times: user 1 ms, sys: 12 ms, total: 13 ms\n",
      "Wall time: 5.6 s\n",
      "CPU times: user 1 ms, sys: 0 ns, total: 1 ms\n",
      "Wall time: 21.8 ms\n",
      "CPU times: user 3 ms, sys: 24 ms, total: 27 ms\n",
      "Wall time: 13.4 s\n",
      "WSSSE = 213931.099861 \n",
      "Training for k = 12 \n",
      "CPU times: user 5 ms, sys: 7 ms, total: 12 ms\n",
      "Wall time: 6.57 s\n",
      "CPU times: user 999 µs, sys: 2 ms, total: 3 ms\n",
      "Wall time: 111 ms\n",
      "CPU times: user 0 ns, sys: 27 ms, total: 27 ms\n",
      "Wall time: 13.4 s\n",
      "WSSSE = 213756.874047 \n",
      "Training for k = 13 \n",
      "CPU times: user 0 ns, sys: 10 ms, total: 10 ms\n",
      "Wall time: 5.78 s\n",
      "CPU times: user 0 ns, sys: 0 ns, total: 0 ns\n",
      "Wall time: 97.2 ms\n",
      "CPU times: user 3 ms, sys: 34 ms, total: 37 ms\n",
      "Wall time: 13.2 s\n",
      "WSSSE = 207619.27707 \n",
      "Training for k = 14 \n",
      "CPU times: user 7 ms, sys: 13 ms, total: 20 ms\n",
      "Wall time: 6.07 s\n",
      "CPU times: user 0 ns, sys: 2 ms, total: 2 ms\n",
      "Wall time: 78.6 ms\n",
      "CPU times: user 11 ms, sys: 21 ms, total: 32 ms\n",
      "Wall time: 13.3 s\n",
      "WSSSE = 206548.66922 \n",
      "Training for k = 15 \n",
      "CPU times: user 3 ms, sys: 10 ms, total: 13 ms\n",
      "Wall time: 5.84 s\n",
      "CPU times: user 0 ns, sys: 2 ms, total: 2 ms\n",
      "Wall time: 109 ms\n",
      "CPU times: user 3 ms, sys: 33 ms, total: 36 ms\n",
      "Wall time: 13.3 s\n",
      "WSSSE = 200182.270542 \n",
      "Training for k = 16 \n",
      "CPU times: user 3 ms, sys: 12 ms, total: 15 ms\n",
      "Wall time: 6.7 s\n",
      "CPU times: user 0 ns, sys: 0 ns, total: 0 ns\n",
      "Wall time: 121 ms\n",
      "CPU times: user 11 ms, sys: 28 ms, total: 39 ms\n",
      "Wall time: 14 s\n",
      "WSSSE = 197541.502133 \n",
      "Training for k = 17 \n",
      "CPU times: user 8 ms, sys: 4 ms, total: 12 ms\n",
      "Wall time: 6.42 s\n",
      "CPU times: user 1 ms, sys: 1 ms, total: 2 ms\n",
      "Wall time: 118 ms\n",
      "CPU times: user 4 ms, sys: 27 ms, total: 31 ms\n",
      "Wall time: 13.3 s\n",
      "WSSSE = 192786.437982 \n",
      "Training for k = 18 \n",
      "CPU times: user 4 ms, sys: 7 ms, total: 11 ms\n",
      "Wall time: 6.06 s\n",
      "CPU times: user 0 ns, sys: 1 ms, total: 1 ms\n",
      "Wall time: 75.9 ms\n",
      "CPU times: user 4 ms, sys: 23 ms, total: 27 ms\n",
      "Wall time: 13.5 s\n",
      "WSSSE = 193767.910009 \n",
      "Training for k = 19 \n",
      "CPU times: user 5 ms, sys: 12 ms, total: 17 ms\n",
      "Wall time: 17.5 s\n",
      "CPU times: user 2 ms, sys: 1e+03 µs, total: 3 ms\n",
      "Wall time: 116 ms\n",
      "CPU times: user 4 ms, sys: 48 ms, total: 52 ms\n",
      "Wall time: 14.2 s\n",
      "WSSSE = 189529.893348 \n",
      "Training for k = 20 \n",
      "CPU times: user 4 ms, sys: 8 ms, total: 12 ms\n",
      "Wall time: 6.36 s\n",
      "CPU times: user 0 ns, sys: 0 ns, total: 0 ns\n",
      "Wall time: 87.9 ms\n",
      "CPU times: user 11 ms, sys: 19 ms, total: 30 ms\n",
      "Wall time: 13.6 s\n",
      "WSSSE = 186473.283815 \n",
      "Training for k = 21 \n",
      "CPU times: user 6 ms, sys: 6 ms, total: 12 ms\n",
      "Wall time: 6.17 s\n",
      "CPU times: user 0 ns, sys: 1 ms, total: 1 ms\n",
      "Wall time: 73 ms\n",
      "CPU times: user 7 ms, sys: 30 ms, total: 37 ms\n",
      "Wall time: 13.8 s\n",
      "WSSSE = 184696.692619 \n",
      "Training for k = 22 \n",
      "CPU times: user 3 ms, sys: 8 ms, total: 11 ms\n",
      "Wall time: 6.1 s\n",
      "CPU times: user 0 ns, sys: 1 ms, total: 1 ms\n",
      "Wall time: 89 ms\n",
      "CPU times: user 10 ms, sys: 19 ms, total: 29 ms\n",
      "Wall time: 12.9 s\n",
      "WSSSE = 181998.973685 \n",
      "Training for k = 23 \n",
      "CPU times: user 5 ms, sys: 8 ms, total: 13 ms\n",
      "Wall time: 6.23 s\n",
      "CPU times: user 1 ms, sys: 0 ns, total: 1 ms\n",
      "Wall time: 104 ms\n",
      "CPU times: user 6 ms, sys: 36 ms, total: 42 ms\n",
      "Wall time: 13.7 s\n",
      "WSSSE = 180197.374924 \n",
      "Training for k = 24 \n",
      "CPU times: user 4 ms, sys: 11 ms, total: 15 ms\n",
      "Wall time: 6.4 s\n",
      "CPU times: user 0 ns, sys: 1e+03 µs, total: 1e+03 µs\n",
      "Wall time: 86.6 ms\n",
      "CPU times: user 0 ns, sys: 36 ms, total: 36 ms\n",
      "Wall time: 13.3 s\n",
      "WSSSE = 177517.901672 \n",
      "Training for k = 25 \n",
      "CPU times: user 4 ms, sys: 14 ms, total: 18 ms\n",
      "Wall time: 6.67 s\n",
      "CPU times: user 0 ns, sys: 2 ms, total: 2 ms\n",
      "Wall time: 93.5 ms\n",
      "CPU times: user 10 ms, sys: 20 ms, total: 30 ms\n",
      "Wall time: 13.2 s\n",
      "WSSSE = 177249.022306 \n",
      "Training for k = 26 \n",
      "CPU times: user 3 ms, sys: 12 ms, total: 15 ms\n",
      "Wall time: 6.82 s\n",
      "CPU times: user 0 ns, sys: 1e+03 µs, total: 1e+03 µs\n",
      "Wall time: 80.1 ms\n",
      "CPU times: user 13 ms, sys: 23 ms, total: 36 ms\n",
      "Wall time: 14 s\n",
      "WSSSE = 175785.020735 \n",
      "Training for k = 27 \n",
      "CPU times: user 1 ms, sys: 8 ms, total: 9 ms\n",
      "Wall time: 7.53 s\n",
      "CPU times: user 1 ms, sys: 1e+03 µs, total: 2 ms\n",
      "Wall time: 93.6 ms\n",
      "CPU times: user 8 ms, sys: 30 ms, total: 38 ms\n",
      "Wall time: 13.5 s\n",
      "WSSSE = 172860.129182 \n",
      "Training for k = 28 \n",
      "CPU times: user 3 ms, sys: 11 ms, total: 14 ms\n",
      "Wall time: 6.97 s\n",
      "CPU times: user 1 ms, sys: 999 µs, total: 2 ms\n",
      "Wall time: 118 ms\n",
      "CPU times: user 15 ms, sys: 27 ms, total: 42 ms\n",
      "Wall time: 15 s\n",
      "WSSSE = 174827.760359 \n",
      "Training for k = 29 \n",
      "CPU times: user 6 ms, sys: 6 ms, total: 12 ms\n",
      "Wall time: 6.98 s\n",
      "CPU times: user 0 ns, sys: 1 ms, total: 1 ms\n",
      "Wall time: 79.3 ms\n",
      "CPU times: user 5 ms, sys: 30 ms, total: 35 ms\n",
      "Wall time: 12.9 s\n",
      "WSSSE = 170438.954953 \n",
      "Training for k = 30 \n",
      "CPU times: user 5 ms, sys: 11 ms, total: 16 ms\n",
      "Wall time: 6.58 s\n",
      "CPU times: user 0 ns, sys: 1e+03 µs, total: 1e+03 µs\n",
      "Wall time: 128 ms\n",
      "CPU times: user 12 ms, sys: 39 ms, total: 51 ms\n",
      "Wall time: 13.1 s\n",
      "WSSSE = 170341.008632 \n"
     ]
    }
   ],
   "source": [
    "#ELBOW method\n",
    "\n",
    "wssseList = []\n",
    "\n",
    "for howManyClusters in range(2,31):\n",
    "    #train kmeans\n",
    "    print \"Training for k = {} \".format(howManyClusters)\n",
    "    kmeans      = KMeans(k=howManyClusters, seed = 1)\n",
    "    %time model       = kmeans.fit(scaledData)\n",
    "    %time transformed = model.transform(scaledData)\n",
    "    featuresAndPrediction     = transformed.select(\"features\", \"prediction\")\n",
    "    \n",
    "    #get wsse\n",
    "    %time W = computeCost(featuresAndPrediction, model)\n",
    "    print \"WSSSE = {} \".format(W)\n",
    "    \n",
    "    #store wsse so we can plot it\n",
    "    wssseList.append(W)"
   ]
  },
  {
   "cell_type": "code",
   "execution_count": 21,
   "metadata": {
    "collapsed": false
   },
   "outputs": [
    {
     "data": {
      "text/plain": [
       "<matplotlib.axes._subplots.AxesSubplot at 0x7f24e443bdd0>"
      ]
     },
     "execution_count": 21,
     "metadata": {},
     "output_type": "execute_result"
    },
    {
     "data": {
      "image/png": "[encoded data removed]",
      "text/plain": [
       "<matplotlib.figure.Figure at 0x7f24e4380650>"
      ]
     },
     "metadata": {},
     "output_type": "display_data"
    }
   ],
   "source": [
    "wssseDF = pd.DataFrame({'WSSSE' : wssseList, 'k' : range(2,31) })\n",
    "wssseDF.plot(y='WSSSE', x='k', figsize=(15,10), grid=True)"
   ]
  },
  {
   "cell_type": "markdown",
   "metadata": {},
   "source": [
    "# Clustering on entire dataset"
   ]
  },
  {
   "cell_type": "code",
   "execution_count": 22,
   "metadata": {
    "collapsed": false
   },
   "outputs": [
    {
     "data": {
      "text/plain": [
       "1587257"
      ]
     },
     "execution_count": 22,
     "metadata": {},
     "output_type": "execute_result"
    }
   ],
   "source": [
    "# Once ELBOW is performed on re-sampled dataset, let us run k-means on FULL data set\n",
    "\n",
    "#Get Full Dataset\n",
    "full \t= dataDF\n",
    "#How big is this dataset ?\n",
    "full.count()"
   ]
  },
  {
   "cell_type": "code",
   "execution_count": 23,
   "metadata": {
    "collapsed": false
   },
   "outputs": [
    {
     "data": {
      "text/plain": [
       "1586824"
      ]
     },
     "execution_count": 23,
     "metadata": {},
     "output_type": "execute_result"
    }
   ],
   "source": [
    "#Select required columns and Drop rows with missing fields\n",
    "fullDF \t= full.select(cols).na.drop()\n",
    "#Clear some memory\n",
    "del full\n",
    "#How many rows remain ?\n",
    "fullDF.count()"
   ]
  },
  {
   "cell_type": "code",
   "execution_count": 24,
   "metadata": {
    "collapsed": false
   },
   "outputs": [
    {
     "data": {
      "text/plain": [
       "DataFrame[features: vector]"
      ]
     },
     "execution_count": 24,
     "metadata": {},
     "output_type": "execute_result"
    }
   ],
   "source": [
    "#CONVERT Speed from meters/sec to miles per hour\n",
    "fullDF \t= fullDF.withColumn('avg_wind_speed', fullDF.avg_wind_speed * 2.236)\n",
    "fullDF \t= fullDF.withColumn('max_wind_speed', fullDF.max_wind_speed * 2.236)\n",
    "\n",
    "#ASSEMBLE all the features into one column\n",
    "fullAssembled \t= assembler.transform(fullDF)\n",
    "\n",
    "#SCALE the dataset column 'features'.\n",
    "scalerFullModel\t= scaler.fit(fullAssembled)\n",
    "scaledFullData \t= scalerFullModel.transform(fullAssembled)\n",
    "\n",
    "#SELECT the features column and persist the dataframe\n",
    "scaledFullData \t= scaledFullData.select(\"features\")\n",
    "scaledFullData.persist()"
   ]
  },
  {
   "cell_type": "code",
   "execution_count": 25,
   "metadata": {
    "collapsed": false
   },
   "outputs": [
    {
     "name": "stdout",
     "output_type": "stream",
     "text": [
      "213931.099861\n"
     ]
    }
   ],
   "source": [
    "# Re-Sampled dataset: Review the graph above and run k-means for a specific k on smaller dataset:\n",
    "kmeans\t\t\t= KMeans(k=11, seed = 1)\n",
    "model\t\t\t= kmeans.fit(scaledData)\n",
    "transformed\t\t= model.transform(scaledData)\n",
    "featuresAndPrediction\t= transformed.select(\"features\", \"prediction\")\n",
    "errorWSSSE\t\t= computeCost(featuresAndPrediction, model)\n",
    "print(errorWSSSE)"
   ]
  },
  {
   "cell_type": "code",
   "execution_count": 26,
   "metadata": {
    "collapsed": false
   },
   "outputs": [
    {
     "name": "stdout",
     "output_type": "stream",
     "text": [
      "+----------+-----------------+\n",
      "|prediction|count(prediction)|\n",
      "+----------+-----------------+\n",
      "|         0|            11130|\n",
      "|         1|             6618|\n",
      "|         2|            19000|\n",
      "|         3|            12929|\n",
      "|         4|            15766|\n",
      "|         5|            15628|\n",
      "|         6|            20160|\n",
      "|         7|            23787|\n",
      "|         8|            13917|\n",
      "|         9|             8204|\n",
      "|        10|            11541|\n",
      "+----------+-----------------+\n",
      "\n"
     ]
    }
   ],
   "source": [
    "#How many members per clusters\n",
    "import pyspark.sql.functions as func\n",
    "\n",
    "featuresAndPrediction.groupby(featuresAndPrediction.prediction).agg(func.count('prediction')).show()"
   ]
  },
  {
   "cell_type": "code",
   "execution_count": 27,
   "metadata": {
    "collapsed": false
   },
   "outputs": [],
   "source": [
    "from pandas.tools.plotting import parallel_coordinates\n",
    "import numpy as np"
   ]
  },
  {
   "cell_type": "code",
   "execution_count": 28,
   "metadata": {
    "collapsed": false
   },
   "outputs": [],
   "source": [
    "colNames = ['air_pressure','air_temp','avg_wind_direction','avg_wind_speed',\n",
    "'max_wind_direction','max_wind_speed','relative_humidity', 'prediction']"
   ]
  },
  {
   "cell_type": "code",
   "execution_count": 29,
   "metadata": {
    "collapsed": false
   },
   "outputs": [],
   "source": [
    "# Get the cluster centers\n",
    "C = model.clusterCenters()\n",
    "\n",
    "# Zip with a column called 'prediction' (index)\n",
    "Z = [np.append(A, index) for index, A in enumerate(C)]\n",
    "\n",
    "# Convert to pandas for plotting\n",
    "P = pd.DataFrame(Z, columns=colNames)\n",
    "P['prediction'] = P['prediction'].astype(int)"
   ]
  },
  {
   "cell_type": "code",
   "execution_count": 30,
   "metadata": {
    "collapsed": false
   },
   "outputs": [
    {
     "data": {
      "text/html": [
       "<div>\n",
       "<table border=\"1\" class=\"dataframe\">\n",
       "  <thead>\n",
       "    <tr style=\"text-align: right;\">\n",
       "      <th></th>\n",
       "      <th>air_pressure</th>\n",
       "      <th>air_temp</th>\n",
       "      <th>avg_wind_direction</th>\n",
       "      <th>avg_wind_speed</th>\n",
       "      <th>max_wind_direction</th>\n",
       "      <th>max_wind_speed</th>\n",
       "      <th>relative_humidity</th>\n",
       "      <th>prediction</th>\n",
       "    </tr>\n",
       "  </thead>\n",
       "  <tbody>\n",
       "    <tr>\n",
       "      <th>0</th>\n",
       "      <td>-1.143608</td>\n",
       "      <td>-0.882498</td>\n",
       "      <td>0.442351</td>\n",
       "      <td>1.938530</td>\n",
       "      <td>0.535035</td>\n",
       "      <td>1.897942</td>\n",
       "      <td>0.921724</td>\n",
       "      <td>0</td>\n",
       "    </tr>\n",
       "    <tr>\n",
       "      <th>1</th>\n",
       "      <td>0.235574</td>\n",
       "      <td>0.320827</td>\n",
       "      <td>1.887717</td>\n",
       "      <td>-0.652202</td>\n",
       "      <td>-1.551193</td>\n",
       "      <td>-0.577112</td>\n",
       "      <td>-0.284171</td>\n",
       "      <td>1</td>\n",
       "    </tr>\n",
       "    <tr>\n",
       "      <th>2</th>\n",
       "      <td>-0.237797</td>\n",
       "      <td>0.856418</td>\n",
       "      <td>-1.301769</td>\n",
       "      <td>-0.580907</td>\n",
       "      <td>-1.161884</td>\n",
       "      <td>-0.598166</td>\n",
       "      <td>-0.586259</td>\n",
       "      <td>2</td>\n",
       "    </tr>\n",
       "    <tr>\n",
       "      <th>3</th>\n",
       "      <td>0.286854</td>\n",
       "      <td>0.783609</td>\n",
       "      <td>1.330664</td>\n",
       "      <td>-0.632344</td>\n",
       "      <td>1.594514</td>\n",
       "      <td>-0.582801</td>\n",
       "      <td>-0.748623</td>\n",
       "      <td>3</td>\n",
       "    </tr>\n",
       "    <tr>\n",
       "      <th>4</th>\n",
       "      <td>-0.896779</td>\n",
       "      <td>-1.143427</td>\n",
       "      <td>0.366916</td>\n",
       "      <td>0.238478</td>\n",
       "      <td>0.468811</td>\n",
       "      <td>0.227791</td>\n",
       "      <td>1.342106</td>\n",
       "      <td>4</td>\n",
       "    </tr>\n",
       "    <tr>\n",
       "      <th>5</th>\n",
       "      <td>0.344960</td>\n",
       "      <td>-0.964678</td>\n",
       "      <td>0.662956</td>\n",
       "      <td>-0.534096</td>\n",
       "      <td>0.856779</td>\n",
       "      <td>-0.516286</td>\n",
       "      <td>1.086785</td>\n",
       "      <td>5</td>\n",
       "    </tr>\n",
       "    <tr>\n",
       "      <th>6</th>\n",
       "      <td>-0.177939</td>\n",
       "      <td>0.610278</td>\n",
       "      <td>0.406468</td>\n",
       "      <td>0.666915</td>\n",
       "      <td>0.515692</td>\n",
       "      <td>0.608831</td>\n",
       "      <td>-0.177008</td>\n",
       "      <td>6</td>\n",
       "    </tr>\n",
       "    <tr>\n",
       "      <th>7</th>\n",
       "      <td>-0.222971</td>\n",
       "      <td>0.600411</td>\n",
       "      <td>0.199593</td>\n",
       "      <td>-0.630223</td>\n",
       "      <td>0.375516</td>\n",
       "      <td>-0.643902</td>\n",
       "      <td>-0.398810</td>\n",
       "      <td>7</td>\n",
       "    </tr>\n",
       "    <tr>\n",
       "      <th>8</th>\n",
       "      <td>1.342904</td>\n",
       "      <td>-0.046006</td>\n",
       "      <td>-1.139442</td>\n",
       "      <td>-0.173248</td>\n",
       "      <td>-0.996086</td>\n",
       "      <td>-0.156849</td>\n",
       "      <td>-0.976423</td>\n",
       "      <td>8</td>\n",
       "    </tr>\n",
       "    <tr>\n",
       "      <th>9</th>\n",
       "      <td>1.197331</td>\n",
       "      <td>-0.249639</td>\n",
       "      <td>-1.154034</td>\n",
       "      <td>2.046549</td>\n",
       "      <td>-1.051449</td>\n",
       "      <td>2.160925</td>\n",
       "      <td>-1.129526</td>\n",
       "      <td>9</td>\n",
       "    </tr>\n",
       "    <tr>\n",
       "      <th>10</th>\n",
       "      <td>0.067941</td>\n",
       "      <td>-0.819169</td>\n",
       "      <td>-1.185999</td>\n",
       "      <td>-0.570645</td>\n",
       "      <td>-1.029664</td>\n",
       "      <td>-0.583840</td>\n",
       "      <td>0.907651</td>\n",
       "      <td>10</td>\n",
       "    </tr>\n",
       "  </tbody>\n",
       "</table>\n",
       "</div>"
      ],
      "text/plain": [
       "    air_pressure  air_temp  avg_wind_direction  avg_wind_speed  \\\n",
       "0      -1.143608 -0.882498            0.442351        1.938530   \n",
       "1       0.235574  0.320827            1.887717       -0.652202   \n",
       "2      -0.237797  0.856418           -1.301769       -0.580907   \n",
       "3       0.286854  0.783609            1.330664       -0.632344   \n",
       "4      -0.896779 -1.143427            0.366916        0.238478   \n",
       "5       0.344960 -0.964678            0.662956       -0.534096   \n",
       "6      -0.177939  0.610278            0.406468        0.666915   \n",
       "7      -0.222971  0.600411            0.199593       -0.630223   \n",
       "8       1.342904 -0.046006           -1.139442       -0.173248   \n",
       "9       1.197331 -0.249639           -1.154034        2.046549   \n",
       "10      0.067941 -0.819169           -1.185999       -0.570645   \n",
       "\n",
       "    max_wind_direction  max_wind_speed  relative_humidity  prediction  \n",
       "0             0.535035        1.897942           0.921724           0  \n",
       "1            -1.551193       -0.577112          -0.284171           1  \n",
       "2            -1.161884       -0.598166          -0.586259           2  \n",
       "3             1.594514       -0.582801          -0.748623           3  \n",
       "4             0.468811        0.227791           1.342106           4  \n",
       "5             0.856779       -0.516286           1.086785           5  \n",
       "6             0.515692        0.608831          -0.177008           6  \n",
       "7             0.375516       -0.643902          -0.398810           7  \n",
       "8            -0.996086       -0.156849          -0.976423           8  \n",
       "9            -1.051449        2.160925          -1.129526           9  \n",
       "10           -1.029664       -0.583840           0.907651          10  "
      ]
     },
     "execution_count": 30,
     "metadata": {},
     "output_type": "execute_result"
    }
   ],
   "source": [
    "P"
   ]
  },
  {
   "cell_type": "markdown",
   "metadata": {
    "collapsed": true
   },
   "source": [
    "## Plots"
   ]
  },
  {
   "cell_type": "markdown",
   "metadata": {},
   "source": [
    "## Dry Days"
   ]
  },
  {
   "cell_type": "code",
   "execution_count": 31,
   "metadata": {
    "collapsed": false
   },
   "outputs": [
    {
     "data": {
      "text/plain": [
       "<matplotlib.axes._subplots.AxesSubplot at 0x7f24e4602750>"
      ]
     },
     "execution_count": 31,
     "metadata": {},
     "output_type": "execute_result"
    },
    {
     "data": {
      "image/png": "[encoded data removed]",
      "text/plain": [
       "<matplotlib.figure.Figure at 0x7f24e447c790>"
      ]
     },
     "metadata": {},
     "output_type": "display_data"
    }
   ],
   "source": [
    "# Parallel Coordinates Plot 1: Dry Days (Low Humidity)\n",
    "plt.figure(figsize=(15,8)).gca().axes.set_ylim([-3,+3])\n",
    "parallel_coordinates(P[P['relative_humidity']< -0.5], 'prediction')"
   ]
  },
  {
   "cell_type": "markdown",
   "metadata": {},
   "source": [
    "## Warm Days"
   ]
  },
  {
   "cell_type": "code",
   "execution_count": 32,
   "metadata": {
    "collapsed": false
   },
   "outputs": [
    {
     "data": {
      "text/plain": [
       "<matplotlib.axes._subplots.AxesSubplot at 0x7f24e48dc450>"
      ]
     },
     "execution_count": 32,
     "metadata": {},
     "output_type": "execute_result"
    },
    {
     "data": {
      "image/png": "[encoded data removed]",
      "text/plain": [
       "<matplotlib.figure.Figure at 0x7f24e45cadd0>"
      ]
     },
     "metadata": {},
     "output_type": "display_data"
    }
   ],
   "source": [
    "# Parallel Coordinates Plot 1: Warm Days (High Temperature)\n",
    "plt.figure(figsize=(15,8)).gca().axes.set_ylim([-3,+3])\n",
    "parallel_coordinates(P[P['air_temp']> 0.5], 'prediction')"
   ]
  },
  {
   "cell_type": "markdown",
   "metadata": {},
   "source": [
    "## Cool Days"
   ]
  },
  {
   "cell_type": "code",
   "execution_count": 33,
   "metadata": {
    "collapsed": false
   },
   "outputs": [
    {
     "data": {
      "text/plain": [
       "<matplotlib.axes._subplots.AxesSubplot at 0x7f24e4b294d0>"
      ]
     },
     "execution_count": 33,
     "metadata": {},
     "output_type": "execute_result"
    },
    {
     "data": {
      "image/png": "[encoded data removed]",
      "text/plain": [
       "<matplotlib.figure.Figure at 0x7f24e4380bd0>"
      ]
     },
     "metadata": {},
     "output_type": "display_data"
    }
   ],
   "source": [
    "# Parallel Coordinates Plot 1: Cool and Possibily Rainy Days (High Humidity, Low Temp)\n",
    "plt.figure(figsize=(15,8)).gca().axes.set_ylim([-3,+3])\n",
    "parallel_coordinates(P[(P['relative_humidity']>0.5) & (P['air_temp']< 0.5)], 'prediction')"
   ]
  },
  {
   "cell_type": "markdown",
   "metadata": {
    "collapsed": true
   },
   "source": [
    "## Other Days"
   ]
  },
  {
   "cell_type": "code",
   "execution_count": 35,
   "metadata": {
    "collapsed": false
   },
   "outputs": [
    {
     "data": {
      "text/plain": [
       "<matplotlib.axes._subplots.AxesSubplot at 0x7f24e48dccd0>"
      ]
     },
     "execution_count": 35,
     "metadata": {},
     "output_type": "execute_result"
    },
    {
     "data": {
      "image/png": "[encoded data removed]",
      "text/plain": [
       "<matplotlib.figure.Figure at 0x7f24e4eff690>"
      ]
     },
     "metadata": {},
     "output_type": "display_data"
    }
   ],
   "source": [
    "# Parallel Coordinates Plot 1: Dry Days (Low Humidity)\n",
    "plt.figure(figsize=(15,8)).gca().axes.set_ylim([-3,+3])\n",
    "\n",
    "parallel_coordinates(P.iloc[[1]], 'prediction')"
   ]
  },
  {
   "cell_type": "code",
   "execution_count": null,
   "metadata": {
    "collapsed": true
   },
   "outputs": [],
   "source": []
  }
 ],
 "metadata": {
  "kernelspec": {
   "display_name": "Python 2",
   "language": "python",
   "name": "python2"
  },
  "language_info": {
   "codemirror_mode": {
    "name": "ipython",
    "version": 2
   },
   "file_extension": ".py",
   "mimetype": "text/x-python",
   "name": "python",
   "nbconvert_exporter": "python",
   "pygments_lexer": "ipython2",
   "version": "2.7.11"
  }
 },
 "nbformat": 4,
 "nbformat_minor": 0
}
