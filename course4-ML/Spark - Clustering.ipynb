{
 "cells": [
  {
   "cell_type": "code",
   "execution_count": 126,
   "metadata": {
    "collapsed": true
   },
   "outputs": [],
   "source": [
    "from pyspark.sql import SQLContext\n",
    "from pyspark.sql import DataFrameNaFunctions\n",
    "import pandas as pd\n",
    "from pyspark.mllib.linalg import DenseVector"
   ]
  },
  {
   "cell_type": "code",
   "execution_count": 2,
   "metadata": {
    "collapsed": true
   },
   "outputs": [],
   "source": [
    "sqlContext = SQLContext(sc)"
   ]
  },
  {
   "cell_type": "code",
   "execution_count": 3,
   "metadata": {
    "collapsed": true
   },
   "outputs": [],
   "source": [
    "dataDF = sqlContext.read.load('file:///home/cloudera/coursera/courseraDataSimulation/course4-ML/MW-timestamp-NEW.csv', \n",
    "                          format='com.databricks.spark.csv', \n",
    "                          header='true',inferSchema='true')"
   ]
  },
  {
   "cell_type": "code",
   "execution_count": null,
   "metadata": {
    "collapsed": false
   },
   "outputs": [],
   "source": [
    "dataDF.describe().toPandas().transpose()"
   ]
  },
  {
   "cell_type": "code",
   "execution_count": 5,
   "metadata": {
    "collapsed": false
   },
   "outputs": [
    {
     "data": {
      "text/plain": [
       "1587257"
      ]
     },
     "execution_count": 5,
     "metadata": {},
     "output_type": "execute_result"
    }
   ],
   "source": [
    "dataDF.count()"
   ]
  },
  {
   "cell_type": "code",
   "execution_count": 6,
   "metadata": {
    "collapsed": false
   },
   "outputs": [],
   "source": [
    "#Down sample to take every 10th value\n",
    "filtered = dataDF.filter((dataDF.rowID % 10) == 0)"
   ]
  },
  {
   "cell_type": "code",
   "execution_count": 7,
   "metadata": {
    "collapsed": false
   },
   "outputs": [
    {
     "data": {
      "text/plain": [
       "158726"
      ]
     },
     "execution_count": 7,
     "metadata": {},
     "output_type": "execute_result"
    }
   ],
   "source": [
    "filtered.count()"
   ]
  },
  {
   "cell_type": "code",
   "execution_count": 8,
   "metadata": {
    "collapsed": false
   },
   "outputs": [],
   "source": [
    "#SELECT required columns and drop rows with NULL\n",
    "\n",
    "cols = [\n",
    " 'air_pressure', 'air_temp', 'avg_wind_direction', 'avg_wind_speed', 'max_wind_direction', 'max_wind_speed',\n",
    " 'relative_humidity']\n",
    "\n",
    "workingDF = filtered.select(cols).na.drop()"
   ]
  },
  {
   "cell_type": "code",
   "execution_count": 9,
   "metadata": {
    "collapsed": false
   },
   "outputs": [
    {
     "data": {
      "text/plain": [
       "[Row(air_pressure=912.3, air_temp=64.76, avg_wind_direction=97.0, avg_wind_speed=1.2, max_wind_direction=106.0, max_wind_speed=1.6, relative_humidity=60.5),\n",
       " Row(air_pressure=912.3, air_temp=62.24, avg_wind_direction=144.0, avg_wind_speed=1.2, max_wind_direction=167.0, max_wind_speed=1.8, relative_humidity=38.5)]"
      ]
     },
     "execution_count": 9,
     "metadata": {},
     "output_type": "execute_result"
    }
   ],
   "source": [
    "workingDF.take(2)"
   ]
  },
  {
   "cell_type": "code",
   "execution_count": 10,
   "metadata": {
    "collapsed": false
   },
   "outputs": [],
   "source": [
    "#CONVERT SPEED from meters/sec to miles per hour\n",
    "workingDF = workingDF.withColumn('avg_wind_speed', workingDF.avg_wind_speed * 2.236)\n",
    "workingDF = workingDF.withColumn('max_wind_speed', workingDF.max_wind_speed * 2.236)"
   ]
  },
  {
   "cell_type": "code",
   "execution_count": 11,
   "metadata": {
    "collapsed": false
   },
   "outputs": [
    {
     "data": {
      "text/plain": [
       "['air_pressure',\n",
       " 'air_temp',\n",
       " 'avg_wind_direction',\n",
       " 'avg_wind_speed',\n",
       " 'max_wind_direction',\n",
       " 'max_wind_speed',\n",
       " 'relative_humidity']"
      ]
     },
     "execution_count": 11,
     "metadata": {},
     "output_type": "execute_result"
    }
   ],
   "source": [
    "workingDF.columns"
   ]
  },
  {
   "cell_type": "code",
   "execution_count": 12,
   "metadata": {
    "collapsed": true
   },
   "outputs": [],
   "source": [
    "#ASSEMBLE all the features.\n",
    "\n",
    "from pyspark.ml.feature import VectorAssembler\n",
    "assembler = VectorAssembler(inputCols=cols, outputCol=\"features_pre\")\n",
    "assembled = assembler.transform(workingDF)"
   ]
  },
  {
   "cell_type": "code",
   "execution_count": 13,
   "metadata": {
    "collapsed": true
   },
   "outputs": [],
   "source": [
    "#SCALE the dataset.\n",
    "\n",
    "from pyspark.ml.feature import StandardScaler\n",
    "\n",
    "scaler = StandardScaler(inputCol=\"features_pre\", outputCol=\"features\",withStd=True, withMean=True)\n",
    "\n",
    "# Fit the StandardScaler\n",
    "scalerModel = scaler.fit(assembled)\n",
    "\n",
    "# Normalize each feature\n",
    "scaledData = scalerModel.transform(assembled)"
   ]
  },
  {
   "cell_type": "code",
   "execution_count": 143,
   "metadata": {
    "collapsed": false
   },
   "outputs": [],
   "source": [
    "#Perform Clustering.\n",
    "\n",
    "from pyspark.ml.clustering import KMeans\n",
    "howManyClusters = 12\n",
    "\n",
    "# Trains a k-means model.\n",
    "kmeans      = KMeans(k=howManyClusters, seed = 1)\n",
    "model       = kmeans.fit(scaledData)\n",
    "transformed = model.transform(scaledData)\n",
    "featuresAndPrediction     = transformed.select(\"features\", \"prediction\")"
   ]
  },
  {
   "cell_type": "code",
   "execution_count": 146,
   "metadata": {
    "collapsed": false
   },
   "outputs": [
    {
     "name": "stdout",
     "output_type": "stream",
     "text": [
      "+----------+-----------------+\n",
      "|prediction|count(prediction)|\n",
      "+----------+-----------------+\n",
      "|         0|            10573|\n",
      "|         1|            13422|\n",
      "|         2|            14833|\n",
      "|         3|            18638|\n",
      "|         4|             4633|\n",
      "|         5|            15793|\n",
      "|         6|            11535|\n",
      "|         7|            18995|\n",
      "|         8|            25630|\n",
      "|         9|            11968|\n",
      "|        10|             2249|\n",
      "|        11|            10411|\n",
      "+----------+-----------------+\n",
      "\n"
     ]
    }
   ],
   "source": [
    "#How many members per clusters\n",
    "import pyspark.sql.functions as func\n",
    "\n",
    "featuresAndPrediction.groupby(featuresAndPrediction.prediction).agg(func.count('prediction')).show()"
   ]
  },
  {
   "cell_type": "code",
   "execution_count": 147,
   "metadata": {
    "collapsed": false
   },
   "outputs": [
    {
     "name": "stdout",
     "output_type": "stream",
     "text": [
      "['air_pressure', 'air_temp', 'avg_wind_direction', 'avg_wind_speed', 'max_wind_direction', 'max_wind_speed', 'relative_humidity']\n",
      "\n",
      "CLUSTER CENTERS: \n",
      "\n",
      "[ 1.3043177  -0.24030114 -1.15387809  1.73371066 -1.04692201  1.83870394\n",
      " -1.12200481]\n",
      "[ 0.15751205 -0.74345552 -1.21984653 -0.54988543 -1.07080566 -0.56542011\n",
      "  0.76523163]\n",
      "[-0.84408569 -1.18714659  0.35906729  0.37705119  0.48557782  0.3622125\n",
      "  1.3504302 ]\n",
      "[-0.22585128  0.64177068  0.40939938  0.70750203  0.51838698  0.64736436\n",
      " -0.14786832]\n",
      "[ 0.1316567   0.84599709  1.89333604 -0.62811164 -1.54748661 -0.55455231\n",
      " -0.75396777]\n",
      "[ 0.20473291 -0.9831286   0.6422715  -0.54885846  0.8595796  -0.53230441\n",
      "  1.16837617]\n",
      "[ 0.97090599  0.23516064  0.21466114 -0.49957322  0.40200752 -0.5031493\n",
      " -0.80817985]\n",
      "[-0.61793223  0.61682555  0.13398891 -0.6199921   0.30534198 -0.63439095\n",
      " -0.19456452]\n",
      "[ 0.28451552  0.6349466  -1.30641379 -0.47416785 -1.167003   -0.48287242\n",
      " -0.79755924]\n",
      "[ 0.13321964  0.86068327  1.37398803 -0.63856793  1.63826957 -0.58949332\n",
      " -0.71474106]\n",
      "[ 0.37033714 -0.98013203  1.86052677 -0.6928777  -1.53321427 -0.60323967\n",
      "  0.89045078]\n",
      "[-1.17558792 -0.86603409  0.44256906  1.99141535  0.5342119   1.95180791\n",
      "  0.90276702]\n"
     ]
    }
   ],
   "source": [
    "# Print cluster centers.\n",
    "\n",
    "print(cols)\n",
    "#allClusterCenters = [DenseVector(c) for c in model.clusterCenters()]\n",
    "\n",
    "print(\"\\nCLUSTER CENTERS: \\n\")\n",
    "for center in model.clusterCenters():\n",
    "    print(center)"
   ]
  },
  {
   "cell_type": "code",
   "execution_count": 148,
   "metadata": {
    "collapsed": false
   },
   "outputs": [],
   "source": [
    "# This function evaluates WSSE  -  Within Set Sum of Squared Errors.\n",
    "\n",
    "from numpy import array\n",
    "from math import sqrt\n",
    "\n",
    "def wssse(featuresAndPrediction, model):\n",
    "    # Get centers of all clusters\n",
    "    allClusterCenters = [DenseVector(c) for c in model.clusterCenters()]\n",
    "    # Map to a collection of arrays\n",
    "    arrayCollection   = featuresAndPrediction.rdd.map(array)\n",
    "    # Given a point, return its distance from Center of the Class assigned\n",
    "\n",
    "    def error(point, predictedCluster):\n",
    "        center = allClusterCenters[predictedCluster]\n",
    "        return sqrt(sum([x*x for x in (point - center)]))\n",
    "    \n",
    "    return arrayCollection.map(lambda row: error(row[0], row[1])).reduce(lambda x, y: x + y)"
   ]
  },
  {
   "cell_type": "code",
   "execution_count": 149,
   "metadata": {
    "collapsed": false
   },
   "outputs": [
    {
     "name": "stdout",
     "output_type": "stream",
     "text": [
      "213756.874047\n"
     ]
    }
   ],
   "source": [
    "# print(wssse(featuresAndPrediction, model))"
   ]
  },
  {
   "cell_type": "code",
   "execution_count": 158,
   "metadata": {
    "collapsed": false
   },
   "outputs": [
    {
     "name": "stdout",
     "output_type": "stream",
     "text": [
      "('Training for k = ', 2)\n",
      "Calculating WSSSE\n",
      "348521.951115\n"
     ]
    }
   ],
   "source": [
    "#ELBOW method\n",
    "\n",
    "wssseList = []\n",
    "\n",
    "for howManyClusters in range(2,3):\n",
    "    #train kmeans\n",
    "    print('Training for k = ',  howManyClusters)\n",
    "    kmeans      = KMeans(k=howManyClusters, seed = 1)\n",
    "    model       = kmeans.fit(scaledData)\n",
    "    transformed = model.transform(scaledData)\n",
    "    featuresAndPrediction     = transformed.select(\"features\", \"prediction\")\n",
    "    \n",
    "    #get wsse\n",
    "    print(\"Calculating WSSSE\")\n",
    "    W = wssse(featuresAndPrediction, model)\n",
    "    print(W)\n",
    "    \n",
    "    #store wsse so we can plot it\n",
    "    wssseList.append(W)"
   ]
  },
  {
   "cell_type": "markdown",
   "metadata": {
    "collapsed": true
   },
   "source": [
    "## Plots"
   ]
  },
  {
   "cell_type": "code",
   "execution_count": 216,
   "metadata": {
    "collapsed": false
   },
   "outputs": [],
   "source": [
    "from pandas.tools.plotting import parallel_coordinates\n",
    "%matplotlib inline\n",
    "import matplotlib.pyplot as plt\n",
    "import numpy as np"
   ]
  },
  {
   "cell_type": "code",
   "execution_count": 217,
   "metadata": {
    "collapsed": false
   },
   "outputs": [],
   "source": [
    "colNames = ['air_pressure','air_temp','avg_wind_direction','avg_wind_speed',\n",
    "'max_wind_direction','max_wind_speed','relative_humidity', 'prediction']"
   ]
  },
  {
   "cell_type": "code",
   "execution_count": 222,
   "metadata": {
    "collapsed": false
   },
   "outputs": [],
   "source": [
    "# Get the cluster centers\n",
    "C = model.clusterCenters()\n",
    "\n",
    "# Zip with a column called 'prediction' (index)\n",
    "Z = [np.append(A, index) for index, A in enumerate(C)]\n",
    "\n",
    "# Convert to pandas for plotting\n",
    "P = pd.DataFrame(Z, columns=colNames)"
   ]
  },
  {
   "cell_type": "code",
   "execution_count": 219,
   "metadata": {
    "collapsed": false
   },
   "outputs": [
    {
     "data": {
      "text/plain": [
       "<matplotlib.axes._subplots.AxesSubplot at 0x7f277437fed0>"
      ]
     },
     "execution_count": 219,
     "metadata": {},
     "output_type": "execute_result"
    },
    {
     "data": {
      "image/png": "[encoded data removed]",
      "text/plain": [
       "<matplotlib.figure.Figure at 0x7f27742c0e90>"
      ]
     },
     "metadata": {},
     "output_type": "display_data"
    }
   ],
   "source": [
    "# Parallel Coordinates Plot 1: Dry Days (Low Humidity)\n",
    "plt.figure(figsize=(15,5))\n",
    "\n",
    "dryClusters = [0]\n",
    "\n",
    "parallel_coordinates(P.iloc[dryClusters], 'prediction')"
   ]
  },
  {
   "cell_type": "code",
   "execution_count": 220,
   "metadata": {
    "collapsed": false
   },
   "outputs": [
    {
     "data": {
      "text/plain": [
       "<matplotlib.axes._subplots.AxesSubplot at 0x7f27741ba750>"
      ]
     },
     "execution_count": 220,
     "metadata": {},
     "output_type": "execute_result"
    },
    {
     "data": {
      "image/png": "[encoded data removed]",
      "text/plain": [
       "<matplotlib.figure.Figure at 0x7f277417ff90>"
      ]
     },
     "metadata": {},
     "output_type": "display_data"
    }
   ],
   "source": [
    "# Parallel Coordinates Plot 1: Warm Days (High Temperature)\n",
    "plt.figure(figsize=(15,5))\n",
    "\n",
    "warmClusters = [1]\n",
    "\n",
    "parallel_coordinates(P.iloc[warmClusters], 'prediction')"
   ]
  },
  {
   "cell_type": "code",
   "execution_count": 221,
   "metadata": {
    "collapsed": false
   },
   "outputs": [
    {
     "data": {
      "text/plain": [
       "<matplotlib.axes._subplots.AxesSubplot at 0x7f277412cb90>"
      ]
     },
     "execution_count": 221,
     "metadata": {},
     "output_type": "execute_result"
    },
    {
     "data": {
      "image/png": "[encoded data removed]",
      "text/plain": [
       "<matplotlib.figure.Figure at 0x7f277407c690>"
      ]
     },
     "metadata": {},
     "output_type": "display_data"
    }
   ],
   "source": [
    "# Parallel Coordinates Plot 1: Cool and Possibily Rainy Days (High Humidity, Low Temp)\n",
    "plt.figure(figsize=(15,5))\n",
    "\n",
    "coolAndRainy = [0,1]\n",
    "\n",
    "parallel_coordinates(P.iloc[coolAndRainy], 'prediction')"
   ]
  },
  {
   "cell_type": "code",
   "execution_count": null,
   "metadata": {
    "collapsed": true
   },
   "outputs": [],
   "source": []
  },
  {
   "cell_type": "code",
   "execution_count": null,
   "metadata": {
    "collapsed": true
   },
   "outputs": [],
   "source": []
  }
 ],
 "metadata": {
  "kernelspec": {
   "display_name": "Python 2",
   "language": "python",
   "name": "python2"
  },
  "language_info": {
   "codemirror_mode": {
    "name": "ipython",
    "version": 2
   },
   "file_extension": ".py",
   "mimetype": "text/x-python",
   "name": "python",
   "nbconvert_exporter": "python",
   "pygments_lexer": "ipython2",
   "version": "2.7.11"
  }
 },
 "nbformat": 4,
 "nbformat_minor": 0
}
