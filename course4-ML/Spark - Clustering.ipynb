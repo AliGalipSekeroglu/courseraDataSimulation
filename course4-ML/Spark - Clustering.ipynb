{
 "cells": [
  {
   "cell_type": "code",
   "execution_count": 1,
   "metadata": {
    "collapsed": true
   },
   "outputs": [],
   "source": [
    "from pyspark.sql import SQLContext\n",
    "from pyspark.sql import DataFrameNaFunctions\n",
    "import pandas as pd\n",
    "from pyspark.ml import Pipeline"
   ]
  },
  {
   "cell_type": "code",
   "execution_count": 2,
   "metadata": {
    "collapsed": true
   },
   "outputs": [],
   "source": [
    "sqlContext = SQLContext(sc)"
   ]
  },
  {
   "cell_type": "code",
   "execution_count": 3,
   "metadata": {
    "collapsed": true
   },
   "outputs": [],
   "source": [
    "dataDF = sqlContext.read.load('file:///home/cloudera/coursera/courseraDataSimulation/course4-ML/MW-timestamp-NEW.csv', \n",
    "                          format='com.databricks.spark.csv', \n",
    "                          header='true',inferSchema='true')"
   ]
  },
  {
   "cell_type": "code",
   "execution_count": 4,
   "metadata": {
    "collapsed": false
   },
   "outputs": [
    {
     "data": {
      "text/html": [
       "<div>\n",
       "<table border=\"1\" class=\"dataframe\">\n",
       "  <thead>\n",
       "    <tr style=\"text-align: right;\">\n",
       "      <th></th>\n",
       "      <th>0</th>\n",
       "      <th>1</th>\n",
       "      <th>2</th>\n",
       "      <th>3</th>\n",
       "      <th>4</th>\n",
       "    </tr>\n",
       "  </thead>\n",
       "  <tbody>\n",
       "    <tr>\n",
       "      <th>summary</th>\n",
       "      <td>count</td>\n",
       "      <td>mean</td>\n",
       "      <td>stddev</td>\n",
       "      <td>min</td>\n",
       "      <td>max</td>\n",
       "    </tr>\n",
       "    <tr>\n",
       "      <th>rowID</th>\n",
       "      <td>1587257</td>\n",
       "      <td>793628.0</td>\n",
       "      <td>458201.7724491035</td>\n",
       "      <td>0</td>\n",
       "      <td>1587256</td>\n",
       "    </tr>\n",
       "    <tr>\n",
       "      <th>air_pressure</th>\n",
       "      <td>1587257</td>\n",
       "      <td>916.8301266904964</td>\n",
       "      <td>3.051593126680745</td>\n",
       "      <td>905.0</td>\n",
       "      <td>929.5</td>\n",
       "    </tr>\n",
       "    <tr>\n",
       "      <th>air_temp</th>\n",
       "      <td>1587257</td>\n",
       "      <td>61.85144042834878</td>\n",
       "      <td>11.833623786835721</td>\n",
       "      <td>31.64</td>\n",
       "      <td>99.5</td>\n",
       "    </tr>\n",
       "    <tr>\n",
       "      <th>avg_wind_direction</th>\n",
       "      <td>1586824</td>\n",
       "      <td>161.96537927331576</td>\n",
       "      <td>95.20811970203971</td>\n",
       "      <td>0.0</td>\n",
       "      <td>359.0</td>\n",
       "    </tr>\n",
       "    <tr>\n",
       "      <th>avg_wind_speed</th>\n",
       "      <td>1586824</td>\n",
       "      <td>2.774272067979844</td>\n",
       "      <td>2.0607577935630355</td>\n",
       "      <td>0.0</td>\n",
       "      <td>32.3</td>\n",
       "    </tr>\n",
       "    <tr>\n",
       "      <th>max_wind_direction</th>\n",
       "      <td>1586824</td>\n",
       "      <td>163.40304784903682</td>\n",
       "      <td>92.3672342806429</td>\n",
       "      <td>0.0</td>\n",
       "      <td>359.0</td>\n",
       "    </tr>\n",
       "    <tr>\n",
       "      <th>max_wind_speed</th>\n",
       "      <td>1586824</td>\n",
       "      <td>3.3998134008569685</td>\n",
       "      <td>2.423167433617133</td>\n",
       "      <td>0.1</td>\n",
       "      <td>36.0</td>\n",
       "    </tr>\n",
       "    <tr>\n",
       "      <th>min_wind_direction</th>\n",
       "      <td>1586824</td>\n",
       "      <td>166.82637078844283</td>\n",
       "      <td>97.46274620077615</td>\n",
       "      <td>0.0</td>\n",
       "      <td>359.0</td>\n",
       "    </tr>\n",
       "    <tr>\n",
       "      <th>min_wind_speed</th>\n",
       "      <td>1586824</td>\n",
       "      <td>2.1331304542917913</td>\n",
       "      <td>1.745345084932679</td>\n",
       "      <td>0.0</td>\n",
       "      <td>32.0</td>\n",
       "    </tr>\n",
       "    <tr>\n",
       "      <th>rain_accumulation</th>\n",
       "      <td>1587257</td>\n",
       "      <td>255.29254780980187</td>\n",
       "      <td>233.99272826585963</td>\n",
       "      <td>0.0</td>\n",
       "      <td>603.76</td>\n",
       "    </tr>\n",
       "    <tr>\n",
       "      <th>rain_duration</th>\n",
       "      <td>1587257</td>\n",
       "      <td>19319.83301380936</td>\n",
       "      <td>14456.524150365642</td>\n",
       "      <td>0</td>\n",
       "      <td>65530</td>\n",
       "    </tr>\n",
       "    <tr>\n",
       "      <th>relative_humidity</th>\n",
       "      <td>1587257</td>\n",
       "      <td>47.60836877707914</td>\n",
       "      <td>26.21454390649835</td>\n",
       "      <td>0.7</td>\n",
       "      <td>93.0</td>\n",
       "    </tr>\n",
       "  </tbody>\n",
       "</table>\n",
       "</div>"
      ],
      "text/plain": [
       "                          0                   1                   2      3  \\\n",
       "summary               count                mean              stddev    min   \n",
       "rowID               1587257            793628.0   458201.7724491035      0   \n",
       "air_pressure        1587257   916.8301266904964   3.051593126680745  905.0   \n",
       "air_temp            1587257   61.85144042834878  11.833623786835721  31.64   \n",
       "avg_wind_direction  1586824  161.96537927331576   95.20811970203971    0.0   \n",
       "avg_wind_speed      1586824   2.774272067979844  2.0607577935630355    0.0   \n",
       "max_wind_direction  1586824  163.40304784903682    92.3672342806429    0.0   \n",
       "max_wind_speed      1586824  3.3998134008569685   2.423167433617133    0.1   \n",
       "min_wind_direction  1586824  166.82637078844283   97.46274620077615    0.0   \n",
       "min_wind_speed      1586824  2.1331304542917913   1.745345084932679    0.0   \n",
       "rain_accumulation   1587257  255.29254780980187  233.99272826585963    0.0   \n",
       "rain_duration       1587257   19319.83301380936  14456.524150365642      0   \n",
       "relative_humidity   1587257   47.60836877707914   26.21454390649835    0.7   \n",
       "\n",
       "                          4  \n",
       "summary                 max  \n",
       "rowID               1587256  \n",
       "air_pressure          929.5  \n",
       "air_temp               99.5  \n",
       "avg_wind_direction    359.0  \n",
       "avg_wind_speed         32.3  \n",
       "max_wind_direction    359.0  \n",
       "max_wind_speed         36.0  \n",
       "min_wind_direction    359.0  \n",
       "min_wind_speed         32.0  \n",
       "rain_accumulation    603.76  \n",
       "rain_duration         65530  \n",
       "relative_humidity      93.0  "
      ]
     },
     "execution_count": 4,
     "metadata": {},
     "output_type": "execute_result"
    }
   ],
   "source": [
    "dataDF.describe().toPandas().transpose()"
   ]
  },
  {
   "cell_type": "code",
   "execution_count": 5,
   "metadata": {
    "collapsed": false
   },
   "outputs": [
    {
     "data": {
      "text/plain": [
       "1587257"
      ]
     },
     "execution_count": 5,
     "metadata": {},
     "output_type": "execute_result"
    }
   ],
   "source": [
    "dataDF.count()"
   ]
  },
  {
   "cell_type": "code",
   "execution_count": 6,
   "metadata": {
    "collapsed": false
   },
   "outputs": [],
   "source": [
    "#Down sample to take every 10th value\n",
    "filtered = dataDF.filter((dataDF.rowID % 10) == 0)"
   ]
  },
  {
   "cell_type": "code",
   "execution_count": 7,
   "metadata": {
    "collapsed": false
   },
   "outputs": [
    {
     "data": {
      "text/plain": [
       "158726"
      ]
     },
     "execution_count": 7,
     "metadata": {},
     "output_type": "execute_result"
    }
   ],
   "source": [
    "filtered.count()"
   ]
  },
  {
   "cell_type": "code",
   "execution_count": 11,
   "metadata": {
    "collapsed": false
   },
   "outputs": [],
   "source": [
    "#SELECT required columns and drop rows with NULL\n",
    "\n",
    "cols = [\n",
    " 'air_pressure', 'air_temp', 'avg_wind_direction', 'avg_wind_speed', 'max_wind_direction', 'max_wind_speed',\n",
    " 'relative_humidity']\n",
    "\n",
    "workingDF = filtered.select(cols).na.drop()"
   ]
  },
  {
   "cell_type": "code",
   "execution_count": 12,
   "metadata": {
    "collapsed": false
   },
   "outputs": [
    {
     "data": {
      "text/plain": [
       "[Row(air_pressure=912.3, air_temp=64.76, avg_wind_direction=97.0, avg_wind_speed=1.2, max_wind_direction=106.0, max_wind_speed=1.6, relative_humidity=60.5),\n",
       " Row(air_pressure=912.3, air_temp=62.24, avg_wind_direction=144.0, avg_wind_speed=1.2, max_wind_direction=167.0, max_wind_speed=1.8, relative_humidity=38.5)]"
      ]
     },
     "execution_count": 12,
     "metadata": {},
     "output_type": "execute_result"
    }
   ],
   "source": [
    "workingDF.take(2)"
   ]
  },
  {
   "cell_type": "code",
   "execution_count": 13,
   "metadata": {
    "collapsed": false
   },
   "outputs": [],
   "source": [
    "#CONVERT SPEED from meters/sec to miles per hour\n",
    "workingDF = workingDF.withColumn('avg_wind_speed', workingDF.avg_wind_speed * 2.236)\n",
    "workingDF = workingDF.withColumn('max_wind_speed', workingDF.max_wind_speed * 2.236)"
   ]
  },
  {
   "cell_type": "code",
   "execution_count": 14,
   "metadata": {
    "collapsed": false
   },
   "outputs": [
    {
     "data": {
      "text/plain": [
       "['air_pressure',\n",
       " 'air_temp',\n",
       " 'avg_wind_direction',\n",
       " 'avg_wind_speed',\n",
       " 'max_wind_direction',\n",
       " 'max_wind_speed',\n",
       " 'relative_humidity']"
      ]
     },
     "execution_count": 14,
     "metadata": {},
     "output_type": "execute_result"
    }
   ],
   "source": [
    "workingDF.columns"
   ]
  },
  {
   "cell_type": "code",
   "execution_count": 30,
   "metadata": {
    "collapsed": true
   },
   "outputs": [],
   "source": [
    "#ASSEMBLE all the features.\n",
    "\n",
    "from pyspark.ml.feature import VectorAssembler\n",
    "\n",
    "assembler = VectorAssembler(inputCols=cols, outputCol=\"features_pre\")\n",
    "assembled = assembler.transform(workingDF)"
   ]
  },
  {
   "cell_type": "code",
   "execution_count": 31,
   "metadata": {
    "collapsed": true
   },
   "outputs": [],
   "source": [
    "#SCALE the dataset.\n",
    "\n",
    "from pyspark.ml.feature import StandardScaler\n",
    "\n",
    "scaler = StandardScaler(inputCol=\"features_pre\", outputCol=\"features\",\n",
    "                        withStd=True, withMean=True)\n",
    "\n",
    "# Fit the StandardScaler\n",
    "scalerModel = scaler.fit(assembled)\n",
    "\n",
    "# Normalize each feature\n",
    "scaledData = scalerModel.transform(assembled)"
   ]
  },
  {
   "cell_type": "code",
   "execution_count": 33,
   "metadata": {
    "collapsed": false
   },
   "outputs": [],
   "source": [
    "#Perform Clustering.\n",
    "\n",
    "from pyspark.ml.clustering import KMeans\n",
    "howManyClusters = 12\n",
    "\n",
    "# Trains a k-means model.\n",
    "kmeans = KMeans(k=howManyClusters, seed = 1)setK(2)\n",
    "model = kmeans.fit(scaledData)\n"
   ]
  },
  {
   "cell_type": "code",
   "execution_count": 76,
   "metadata": {
    "collapsed": false
   },
   "outputs": [
    {
     "name": "stdout",
     "output_type": "stream",
     "text": [
      "+----------+-----------------+\n",
      "|prediction|count(prediction)|\n",
      "+----------+-----------------+\n",
      "|         0|            10573|\n",
      "|         1|            13422|\n",
      "|         2|            14833|\n",
      "|         3|            18638|\n",
      "|         4|             4633|\n",
      "|         5|            15793|\n",
      "|         6|            11535|\n",
      "|         7|            18995|\n",
      "|         8|            25630|\n",
      "|         9|            11968|\n",
      "|        10|             2249|\n",
      "|        11|            10411|\n",
      "+----------+-----------------+\n",
      "\n"
     ]
    }
   ],
   "source": [
    "#How many members per clusters\n",
    "import pyspark.sql.functions as func\n",
    "\n",
    "transformed = model.transform(scaledData).select(\"features\", \"prediction\")\n",
    "transformed.groupby(transformed.prediction).agg(func.count('prediction')).show()"
   ]
  },
  {
   "cell_type": "code",
   "execution_count": 50,
   "metadata": {
    "collapsed": false
   },
   "outputs": [
    {
     "name": "stdout",
     "output_type": "stream",
     "text": [
      "['air_pressure', 'air_temp', 'avg_wind_direction', 'avg_wind_speed', 'max_wind_direction', 'max_wind_speed', 'relative_humidity']\n",
      "\n",
      "Cluster Centers: \n",
      "\n",
      "[ 1.3043177  -0.24030114 -1.15387809  1.73371066 -1.04692201  1.83870394\n",
      " -1.12200481]\n",
      "[ 0.15751205 -0.74345552 -1.21984653 -0.54988543 -1.07080566 -0.56542011\n",
      "  0.76523163]\n",
      "[-0.84408569 -1.18714659  0.35906729  0.37705119  0.48557782  0.3622125\n",
      "  1.3504302 ]\n",
      "[-0.22585128  0.64177068  0.40939938  0.70750203  0.51838698  0.64736436\n",
      " -0.14786832]\n",
      "[ 0.1316567   0.84599709  1.89333604 -0.62811164 -1.54748661 -0.55455231\n",
      " -0.75396777]\n",
      "[ 0.20473291 -0.9831286   0.6422715  -0.54885846  0.8595796  -0.53230441\n",
      "  1.16837617]\n",
      "[ 0.97090599  0.23516064  0.21466114 -0.49957322  0.40200752 -0.5031493\n",
      " -0.80817985]\n",
      "[-0.61793223  0.61682555  0.13398891 -0.6199921   0.30534198 -0.63439095\n",
      " -0.19456452]\n",
      "[ 0.28451552  0.6349466  -1.30641379 -0.47416785 -1.167003   -0.48287242\n",
      " -0.79755924]\n",
      "[ 0.13321964  0.86068327  1.37398803 -0.63856793  1.63826957 -0.58949332\n",
      " -0.71474106]\n",
      "[ 0.37033714 -0.98013203  1.86052677 -0.6928777  -1.53321427 -0.60323967\n",
      "  0.89045078]\n",
      "[-1.17558792 -0.86603409  0.44256906  1.99141535  0.5342119   1.95180791\n",
      "  0.90276702]\n"
     ]
    }
   ],
   "source": [
    "# Print cluster centers.\n",
    "\n",
    "print(cols)\n",
    "centers = model.clusterCenters()\n",
    "print(\"\\nCluster Centers: \\n\")\n",
    "for center in centers:\n",
    "    print(center)"
   ]
  },
  {
   "cell_type": "code",
   "execution_count": 32,
   "metadata": {
    "collapsed": false
   },
   "outputs": [
    {
     "ename": "AttributeError",
     "evalue": "'KMeansModel' object has no attribute 'computeCost'",
     "output_type": "error",
     "traceback": [
      "\u001b[1;31m---------------------------------------------------------------------------\u001b[0m",
      "\u001b[1;31mAttributeError\u001b[0m                            Traceback (most recent call last)",
      "\u001b[1;32m<ipython-input-32-99724c744c47>\u001b[0m in \u001b[0;36m<module>\u001b[1;34m()\u001b[0m\n\u001b[0;32m      1\u001b[0m \u001b[1;31m# Evaluate clustering by computing Within Set Sum of Squared Errors.\u001b[0m\u001b[1;33m\u001b[0m\u001b[1;33m\u001b[0m\u001b[0m\n\u001b[1;32m----> 2\u001b[1;33m \u001b[0mwssse\u001b[0m \u001b[1;33m=\u001b[0m \u001b[0mmodel\u001b[0m\u001b[1;33m.\u001b[0m\u001b[0mcomputeCost\u001b[0m\u001b[1;33m(\u001b[0m\u001b[0mscaledData\u001b[0m\u001b[1;33m)\u001b[0m\u001b[1;33m\u001b[0m\u001b[0m\n\u001b[0m\u001b[0;32m      3\u001b[0m \u001b[1;32mprint\u001b[0m\u001b[1;33m(\u001b[0m\u001b[1;34m\"Within Set Sum of Squared Errors = \"\u001b[0m \u001b[1;33m+\u001b[0m \u001b[0mstr\u001b[0m\u001b[1;33m(\u001b[0m\u001b[0mwssse\u001b[0m\u001b[1;33m)\u001b[0m\u001b[1;33m)\u001b[0m\u001b[1;33m\u001b[0m\u001b[0m\n",
      "\u001b[1;31mAttributeError\u001b[0m: 'KMeansModel' object has no attribute 'computeCost'"
     ]
    }
   ],
   "source": [
    "# Evaluate Within Set Sum of Squared Errors.\n",
    "\n",
    "wssse = model.computeCost(scaledData)\n",
    "print(\"Within Set Sum of Squared Errors = \" + str(wssse))"
   ]
  },
  {
   "cell_type": "code",
   "execution_count": null,
   "metadata": {
    "collapsed": true
   },
   "outputs": [],
   "source": []
  }
 ],
 "metadata": {
  "kernelspec": {
   "display_name": "Python 2",
   "language": "python",
   "name": "python2"
  },
  "language_info": {
   "codemirror_mode": {
    "name": "ipython",
    "version": 2
   },
   "file_extension": ".py",
   "mimetype": "text/x-python",
   "name": "python",
   "nbconvert_exporter": "python",
   "pygments_lexer": "ipython2",
   "version": "2.7.11"
  }
 },
 "nbformat": 4,
 "nbformat_minor": 0
}
