{
 "cells": [
  {
   "cell_type": "code",
   "execution_count": 32,
   "metadata": {
    "collapsed": false
   },
   "outputs": [
    {
     "data": {
      "text/html": [
       "<div>\n",
       "<table border=\"1\" class=\"dataframe\">\n",
       "  <thead>\n",
       "    <tr style=\"text-align: right;\">\n",
       "      <th></th>\n",
       "      <th>date</th>\n",
       "      <th>air_pressure_DAYMAX</th>\n",
       "      <th>air_temp_DAYMAX</th>\n",
       "      <th>avg_wind_speed_DAYMAX</th>\n",
       "      <th>max_wind_speed_DAYMAX</th>\n",
       "      <th>rain_accumulation_DAYMAX</th>\n",
       "      <th>rain_duration_DAYMAX</th>\n",
       "      <th>relative_humidity_DAYMAX</th>\n",
       "      <th>air_pressure_DAYMIN</th>\n",
       "      <th>air_temp_DAYMIN</th>\n",
       "      <th>...</th>\n",
       "      <th>relative_humidity_9am</th>\n",
       "      <th>air_pressure_3pm</th>\n",
       "      <th>air_temp_3pm</th>\n",
       "      <th>avg_wind_direction_3pm</th>\n",
       "      <th>avg_wind_speed_3pm</th>\n",
       "      <th>max_wind_direction_3pm</th>\n",
       "      <th>max_wind_speed_3pm</th>\n",
       "      <th>rain_accumulation_3pm</th>\n",
       "      <th>rain_duration_3pm</th>\n",
       "      <th>relative_humidity_3pm</th>\n",
       "    </tr>\n",
       "  </thead>\n",
       "  <tbody>\n",
       "    <tr>\n",
       "      <th>0</th>\n",
       "      <td>2011-09-10</td>\n",
       "      <td>914.9</td>\n",
       "      <td>68.0</td>\n",
       "      <td>8.9</td>\n",
       "      <td>9.3</td>\n",
       "      <td>0.0</td>\n",
       "      <td>0.0</td>\n",
       "      <td>90.8</td>\n",
       "      <td>911.1</td>\n",
       "      <td>52.7</td>\n",
       "      <td>...</td>\n",
       "      <td>86.27</td>\n",
       "      <td>913.05</td>\n",
       "      <td>61.394</td>\n",
       "      <td>211.9</td>\n",
       "      <td>5.83</td>\n",
       "      <td>219.0</td>\n",
       "      <td>6.92</td>\n",
       "      <td>0.0</td>\n",
       "      <td>0.0</td>\n",
       "      <td>69.9</td>\n",
       "    </tr>\n",
       "  </tbody>\n",
       "</table>\n",
       "<p>1 rows × 33 columns</p>\n",
       "</div>"
      ],
      "text/plain": [
       "         date  air_pressure_DAYMAX  air_temp_DAYMAX  avg_wind_speed_DAYMAX  \\\n",
       "0  2011-09-10                914.9             68.0                    8.9   \n",
       "\n",
       "   max_wind_speed_DAYMAX  rain_accumulation_DAYMAX  rain_duration_DAYMAX  \\\n",
       "0                    9.3                       0.0                   0.0   \n",
       "\n",
       "   relative_humidity_DAYMAX  air_pressure_DAYMIN  air_temp_DAYMIN  \\\n",
       "0                      90.8                911.1             52.7   \n",
       "\n",
       "           ...            relative_humidity_9am  air_pressure_3pm  \\\n",
       "0          ...                            86.27            913.05   \n",
       "\n",
       "   air_temp_3pm  avg_wind_direction_3pm  avg_wind_speed_3pm  \\\n",
       "0        61.394                   211.9                5.83   \n",
       "\n",
       "   max_wind_direction_3pm  max_wind_speed_3pm  rain_accumulation_3pm  \\\n",
       "0                   219.0                6.92                    0.0   \n",
       "\n",
       "   rain_duration_3pm  relative_humidity_3pm  \n",
       "0                0.0                   69.9  \n",
       "\n",
       "[1 rows x 33 columns]"
      ]
     },
     "execution_count": 32,
     "metadata": {},
     "output_type": "execute_result"
    }
   ],
   "source": [
    "import pandas as pd\n",
    "import sklearn\n",
    "f = pd.read_csv(\"daily_weather_raw.csv\", sep=',', parse_dates=True, infer_datetime_format=True)\n",
    "f.head(1)"
   ]
  },
  {
   "cell_type": "code",
   "execution_count": 33,
   "metadata": {
    "collapsed": false
   },
   "outputs": [
    {
     "data": {
      "text/html": [
       "<div>\n",
       "<table border=\"1\" class=\"dataframe\">\n",
       "  <thead>\n",
       "    <tr style=\"text-align: right;\">\n",
       "      <th></th>\n",
       "      <th>relative_humidity_DAYMAX</th>\n",
       "      <th>relative_humidity_9am</th>\n",
       "      <th>relative_humidity_DAYMIN</th>\n",
       "      <th>relative_humidity_3pm</th>\n",
       "    </tr>\n",
       "  </thead>\n",
       "  <tbody>\n",
       "    <tr>\n",
       "      <th>0</th>\n",
       "      <td>90.8</td>\n",
       "      <td>86.27</td>\n",
       "      <td>29.0</td>\n",
       "      <td>69.9</td>\n",
       "    </tr>\n",
       "  </tbody>\n",
       "</table>\n",
       "</div>"
      ],
      "text/plain": [
       "   relative_humidity_DAYMAX  relative_humidity_9am  relative_humidity_DAYMIN  \\\n",
       "0                      90.8                  86.27                      29.0   \n",
       "\n",
       "   relative_humidity_3pm  \n",
       "0                   69.9  "
      ]
     },
     "execution_count": 33,
     "metadata": {},
     "output_type": "execute_result"
    }
   ],
   "source": [
    "f[['relative_humidity_DAYMAX','relative_humidity_9am','relative_humidity_DAYMIN','relative_humidity_3pm']].head(1)"
   ]
  },
  {
   "cell_type": "code",
   "execution_count": 34,
   "metadata": {
    "collapsed": true
   },
   "outputs": [],
   "source": [
    "def functionG(row):\n",
    "    if row['relative_humidity_3pm'] < 25:\n",
    "        val = 1\n",
    "    elif row['relative_humidity_3pm'] > 25:\n",
    "        val = 0\n",
    "    else:\n",
    "        val = 0\n",
    "    return val"
   ]
  },
  {
   "cell_type": "code",
   "execution_count": 35,
   "metadata": {
    "collapsed": true
   },
   "outputs": [],
   "source": [
    "f['label']=f.apply(functionG, axis=1)"
   ]
  },
  {
   "cell_type": "code",
   "execution_count": 36,
   "metadata": {
    "collapsed": false
   },
   "outputs": [
    {
     "data": {
      "text/plain": [
       "(1097, 34)"
      ]
     },
     "execution_count": 36,
     "metadata": {},
     "output_type": "execute_result"
    }
   ],
   "source": [
    "f.shape"
   ]
  },
  {
   "cell_type": "code",
   "execution_count": 37,
   "metadata": {
    "collapsed": false
   },
   "outputs": [],
   "source": [
    "#REMOVE HUMIDITY\n",
    "cols = ['relative_humidity_DAYMAX','relative_humidity_DAYMIN']"
   ]
  },
  {
   "cell_type": "code",
   "execution_count": 38,
   "metadata": {
    "collapsed": false
   },
   "outputs": [
    {
     "data": {
      "text/plain": [
       "(1097, 32)"
      ]
     },
     "execution_count": 38,
     "metadata": {},
     "output_type": "execute_result"
    }
   ],
   "source": [
    "for c in cols:\n",
    "    del f[c]\n",
    "f.shape"
   ]
  },
  {
   "cell_type": "code",
   "execution_count": 39,
   "metadata": {
    "collapsed": false
   },
   "outputs": [
    {
     "data": {
      "text/plain": [
       "(1097, 20)"
      ]
     },
     "execution_count": 39,
     "metadata": {},
     "output_type": "execute_result"
    }
   ],
   "source": [
    "#REMOVE DAY features\n",
    "cols = [c for c in f.columns if ('day' in c.lower())]\n",
    "for c in cols:\n",
    "    del f[c]\n",
    "f.shape"
   ]
  },
  {
   "cell_type": "code",
   "execution_count": 40,
   "metadata": {
    "collapsed": false
   },
   "outputs": [],
   "source": [
    "#REMOVE 3pm features\n",
    "cols = [c for c in f.columns if ('3pm' in c.lower())]\n",
    "cols.remove('relative_humidity_3pm')"
   ]
  },
  {
   "cell_type": "code",
   "execution_count": 41,
   "metadata": {
    "collapsed": false
   },
   "outputs": [
    {
     "data": {
      "text/plain": [
       "(1097, 12)"
      ]
     },
     "execution_count": 41,
     "metadata": {},
     "output_type": "execute_result"
    }
   ],
   "source": [
    "for c in cols:\n",
    "    del f[c]\n",
    "f.shape"
   ]
  },
  {
   "cell_type": "code",
   "execution_count": 42,
   "metadata": {
    "collapsed": false
   },
   "outputs": [
    {
     "data": {
      "text/plain": [
       "Index([u'date', u'air_pressure_9am', u'air_temp_9am',\n",
       "       u'avg_wind_direction_9am', u'avg_wind_speed_9am',\n",
       "       u'max_wind_direction_9am', u'max_wind_speed_9am',\n",
       "       u'rain_accumulation_9am', u'rain_duration_9am',\n",
       "       u'relative_humidity_9am', u'relative_humidity_3pm', u'label'],\n",
       "      dtype='object')"
      ]
     },
     "execution_count": 42,
     "metadata": {},
     "output_type": "execute_result"
    }
   ],
   "source": [
    "f.columns"
   ]
  },
  {
   "cell_type": "code",
   "execution_count": 43,
   "metadata": {
    "collapsed": false
   },
   "outputs": [],
   "source": [
    "# CONVERT wind from meter per sec to miles per hour\n",
    "\n",
    "f['avg_wind_speed_9am'] = f['avg_wind_speed_9am'].apply(lambda x: x*2.23694)\n",
    "f['max_wind_speed_9am'] = f['max_wind_speed_9am'].apply(lambda x: x*2.23694)"
   ]
  },
  {
   "cell_type": "code",
   "execution_count": 44,
   "metadata": {
    "collapsed": false
   },
   "outputs": [
    {
     "data": {
      "text/plain": [
       "((1097, 12), (1074, 12))"
      ]
     },
     "execution_count": 44,
     "metadata": {},
     "output_type": "execute_result"
    }
   ],
   "source": [
    "p = f.dropna()\n",
    "f.shape, p.shape"
   ]
  },
  {
   "cell_type": "code",
   "execution_count": 45,
   "metadata": {
    "collapsed": false
   },
   "outputs": [
    {
     "data": {
      "text/plain": [
       "((876, 12), (198, 12))"
      ]
     },
     "execution_count": 45,
     "metadata": {},
     "output_type": "execute_result"
    }
   ],
   "source": [
    "label1 = f.dropna().loc[f['label'] == 1]\n",
    "label0 = f.dropna().loc[f['label'] == 0]\n",
    "label0.shape, label1.shape"
   ]
  },
  {
   "cell_type": "code",
   "execution_count": 46,
   "metadata": {
    "collapsed": false
   },
   "outputs": [
    {
     "data": {
      "text/plain": [
       "(745, 12)"
      ]
     },
     "execution_count": 46,
     "metadata": {},
     "output_type": "execute_result"
    }
   ],
   "source": [
    "label0 =label0.sample(547, random_state=42)\n",
    "\n",
    "f=label0.append(label1)\n",
    "f.reset_index(inplace=True)\n",
    "del f['index']\n",
    "ls\n",
    "\n",
    "f.shape"
   ]
  },
  {
   "cell_type": "code",
   "execution_count": 47,
   "metadata": {
    "collapsed": false
   },
   "outputs": [],
   "source": [
    "#from imblearn.over_sampling import SMOTE\n",
    "#smote = SMOTE(ratio = 'auto', kind = 'regular', random_state=12)\n",
    "\n",
    "lastcolumn = f.shape[1]\n",
    "\n",
    "features = f.columns[1:lastcolumn-1]\n",
    "target = f.columns[lastcolumn-1]\n",
    "\n",
    "x=f[features].copy(deep=True)\n",
    "y=f[target].copy(deep=True)\n",
    "\n",
    "#X, Y = smote.fit_sample(x, y)"
   ]
  },
  {
   "cell_type": "code",
   "execution_count": 48,
   "metadata": {
    "collapsed": false
   },
   "outputs": [
    {
     "data": {
      "text/plain": [
       "(Index([u'air_pressure_9am', u'air_temp_9am', u'avg_wind_direction_9am',\n",
       "        u'avg_wind_speed_9am', u'max_wind_direction_9am', u'max_wind_speed_9am',\n",
       "        u'rain_accumulation_9am', u'rain_duration_9am',\n",
       "        u'relative_humidity_9am', u'relative_humidity_3pm'],\n",
       "       dtype='object'), Index([u'label'], dtype='object'))"
      ]
     },
     "execution_count": 48,
     "metadata": {},
     "output_type": "execute_result"
    }
   ],
   "source": [
    "X = pd.DataFrame(x)\n",
    "Y = pd.DataFrame(y)\n",
    "X.columns, Y.columns"
   ]
  },
  {
   "cell_type": "code",
   "execution_count": 50,
   "metadata": {
    "collapsed": false
   },
   "outputs": [],
   "source": [
    "X.columns = features\n",
    "Y.columns = ['label'] "
   ]
  },
  {
   "cell_type": "code",
   "execution_count": 51,
   "metadata": {
    "collapsed": false
   },
   "outputs": [
    {
     "data": {
      "text/plain": [
       "(Index(['air_pressure_9am', 'air_temp_9am', 'avg_wind_direction_9am',\n",
       "        'avg_wind_speed_9am', 'max_wind_direction_9am', 'max_wind_speed_9am',\n",
       "        'rain_accumulation_9am', 'rain_duration_9am', 'relative_humidity_9am',\n",
       "        'relative_humidity_3pm'],\n",
       "       dtype='object'), Index(['label'], dtype='object'))"
      ]
     },
     "execution_count": 51,
     "metadata": {},
     "output_type": "execute_result"
    }
   ],
   "source": [
    "X.columns, Y.columns"
   ]
  },
  {
   "cell_type": "code",
   "execution_count": 52,
   "metadata": {
    "collapsed": false
   },
   "outputs": [
    {
     "data": {
      "text/plain": [
       "Index(['air_pressure_9am', 'air_temp_9am', 'avg_wind_direction_9am',\n",
       "       'avg_wind_speed_9am', 'max_wind_direction_9am', 'max_wind_speed_9am',\n",
       "       'rain_accumulation_9am', 'rain_duration_9am', 'relative_humidity_9am',\n",
       "       'relative_humidity_3pm'],\n",
       "      dtype='object')"
      ]
     },
     "execution_count": 52,
     "metadata": {},
     "output_type": "execute_result"
    }
   ],
   "source": [
    "# Store a copy to write to CSV \n",
    "write_to_csv = X.copy(deep=True)\n",
    "write_to_csv.columns"
   ]
  },
  {
   "cell_type": "markdown",
   "metadata": {},
   "source": [
    "# Classification"
   ]
  },
  {
   "cell_type": "code",
   "execution_count": 53,
   "metadata": {
    "collapsed": false
   },
   "outputs": [
    {
     "data": {
      "text/plain": [
       "Index(['air_pressure_9am', 'air_temp_9am', 'avg_wind_direction_9am',\n",
       "       'avg_wind_speed_9am', 'max_wind_direction_9am', 'max_wind_speed_9am',\n",
       "       'rain_accumulation_9am', 'rain_duration_9am'],\n",
       "      dtype='object')"
      ]
     },
     "execution_count": 53,
     "metadata": {},
     "output_type": "execute_result"
    }
   ],
   "source": [
    "del X['relative_humidity_3pm']\n",
    "del X['relative_humidity_9am']\n",
    "X.columns"
   ]
  },
  {
   "cell_type": "code",
   "execution_count": 54,
   "metadata": {
    "collapsed": false
   },
   "outputs": [
    {
     "data": {
      "text/plain": [
       "((1094, 1), label    547\n",
       " dtype: int64)"
      ]
     },
     "execution_count": 54,
     "metadata": {},
     "output_type": "execute_result"
    }
   ],
   "source": [
    "Y.shape, Y.sum()"
   ]
  },
  {
   "cell_type": "code",
   "execution_count": 60,
   "metadata": {
    "collapsed": false
   },
   "outputs": [],
   "source": [
    "########################\n",
    "# RANDOM SPLIT\n",
    "########################\n",
    "\n",
    "from sklearn.cross_validation import train_test_split\n",
    "X_train, X_test, Y_train, Y_test = train_test_split( X, Y, test_size=0.30, random_state=30)"
   ]
  },
  {
   "cell_type": "code",
   "execution_count": 61,
   "metadata": {
    "collapsed": false
   },
   "outputs": [
    {
     "data": {
      "text/plain": [
       "(label    547\n",
       " dtype: int64, label    172\n",
       " dtype: int64, label    375\n",
       " dtype: int64)"
      ]
     },
     "execution_count": 61,
     "metadata": {},
     "output_type": "execute_result"
    }
   ],
   "source": [
    "Y.sum(), Y_test.sum(), Y_train.sum()"
   ]
  },
  {
   "cell_type": "markdown",
   "metadata": {},
   "source": [
    "## Decision Tree Classifier"
   ]
  },
  {
   "cell_type": "code",
   "execution_count": 62,
   "metadata": {
    "collapsed": true
   },
   "outputs": [],
   "source": [
    "from sklearn.tree import DecisionTreeClassifier\n",
    "clf = DecisionTreeClassifier().fit(X_train, Y_train)\n",
    "Z = clf.predict(X_test)"
   ]
  },
  {
   "cell_type": "code",
   "execution_count": 63,
   "metadata": {
    "collapsed": false
   },
   "outputs": [
    {
     "data": {
      "text/plain": [
       "(177, label    172\n",
       " dtype: int64, label    157\n",
       " dtype: int64)"
      ]
     },
     "execution_count": 63,
     "metadata": {},
     "output_type": "execute_result"
    }
   ],
   "source": [
    "Z.sum(), Y_test.sum(), Y_test.shape[0]-Y_test.sum()"
   ]
  },
  {
   "cell_type": "code",
   "execution_count": 64,
   "metadata": {
    "collapsed": false
   },
   "outputs": [
    {
     "name": "stdout",
     "output_type": "stream",
     "text": [
      "             precision    recall  f1-score   support\n",
      "\n",
      "          0       0.84      0.81      0.82       157\n",
      "          1       0.83      0.85      0.84       172\n",
      "\n",
      "avg / total       0.83      0.83      0.83       329\n",
      "\n"
     ]
    }
   ],
   "source": [
    "from sklearn.metrics import classification_report\n",
    "# 1 means LOW humidity\n",
    "print(classification_report(Y_test, Z))"
   ]
  },
  {
   "cell_type": "code",
   "execution_count": 65,
   "metadata": {
    "collapsed": false
   },
   "outputs": [
    {
     "data": {
      "text/plain": [
       "0.83282674772036469"
      ]
     },
     "execution_count": 65,
     "metadata": {},
     "output_type": "execute_result"
    }
   ],
   "source": [
    "sklearn.metrics.accuracy_score(Y_test, Z, normalize = True)"
   ]
  },
  {
   "cell_type": "markdown",
   "metadata": {},
   "source": [
    "## Naive Bayes"
   ]
  },
  {
   "cell_type": "code",
   "execution_count": 66,
   "metadata": {
    "collapsed": false
   },
   "outputs": [
    {
     "name": "stderr",
     "output_type": "stream",
     "text": [
      "/data/home/a1singh/anaconda3/lib/python3.5/site-packages/sklearn/utils/validation.py:515: DataConversionWarning: A column-vector y was passed when a 1d array was expected. Please change the shape of y to (n_samples, ), for example using ravel().\n",
      "  y = column_or_1d(y, warn=True)\n"
     ]
    }
   ],
   "source": [
    "from sklearn.naive_bayes import GaussianNB\n",
    "gnb = GaussianNB()\n",
    "gnb_classifier = gnb.fit(X_train, Y_train)\n",
    "Z_NaiveBayes = gnb_classifier.predict(X_test)"
   ]
  },
  {
   "cell_type": "code",
   "execution_count": 67,
   "metadata": {
    "collapsed": false
   },
   "outputs": [
    {
     "name": "stdout",
     "output_type": "stream",
     "text": [
      "             precision    recall  f1-score   support\n",
      "\n",
      "          0       0.97      0.19      0.32       157\n",
      "          1       0.57      0.99      0.73       172\n",
      "\n",
      "avg / total       0.76      0.61      0.53       329\n",
      "\n"
     ]
    }
   ],
   "source": [
    "# 1 means LOW humidity\n",
    "print(classification_report(Y_test, Z_NaiveBayes))"
   ]
  },
  {
   "cell_type": "code",
   "execution_count": 68,
   "metadata": {
    "collapsed": false
   },
   "outputs": [
    {
     "data": {
      "text/plain": [
       "0.61094224924012153"
      ]
     },
     "execution_count": 68,
     "metadata": {},
     "output_type": "execute_result"
    }
   ],
   "source": [
    "sklearn.metrics.accuracy_score(Y_test, Z_NaiveBayes, normalize = True)"
   ]
  },
  {
   "cell_type": "markdown",
   "metadata": {},
   "source": [
    "# Writing data to csv"
   ]
  },
  {
   "cell_type": "code",
   "execution_count": 69,
   "metadata": {
    "collapsed": false
   },
   "outputs": [
    {
     "data": {
      "text/plain": [
       "(1094, 10)"
      ]
     },
     "execution_count": 69,
     "metadata": {},
     "output_type": "execute_result"
    }
   ],
   "source": [
    "df = write_to_csv.copy(deep=True)\n",
    "df.shape"
   ]
  },
  {
   "cell_type": "code",
   "execution_count": 70,
   "metadata": {
    "collapsed": false
   },
   "outputs": [],
   "source": [
    "# shuffle\n",
    "import numpy as np\n",
    "df = df.iloc[np.random.permutation(len(df))]\n",
    "df = df.reset_index(drop=True)"
   ]
  },
  {
   "cell_type": "code",
   "execution_count": 71,
   "metadata": {
    "collapsed": true
   },
   "outputs": [],
   "source": [
    "import random\n",
    "\n",
    "ix = [(row, col) for row in range(df.shape[0]) for col in range(df.shape[1]-1)]\n",
    "\n",
    "for row, col in random.sample(ix, int(31)):\n",
    "    df.iat[row, col] = np.nan"
   ]
  },
  {
   "cell_type": "code",
   "execution_count": 72,
   "metadata": {
    "collapsed": false
   },
   "outputs": [],
   "source": [
    "df.to_csv(\"daily_weather.csv\")"
   ]
  },
  {
   "cell_type": "code",
   "execution_count": 76,
   "metadata": {
    "collapsed": false
   },
   "outputs": [
    {
     "data": {
      "text/plain": [
       "((1094, 10), (745, 10))"
      ]
     },
     "execution_count": 76,
     "metadata": {},
     "output_type": "execute_result"
    }
   ],
   "source": [
    "f2 = pd.read_csv(\"daily_weather.csv\", sep=',', parse_dates=True, infer_datetime_format=True, index_col=0)\n",
    "f2.shape, X.shapeipython"
   ]
  },
  {
   "cell_type": "code",
   "execution_count": 77,
   "metadata": {
    "collapsed": false
   },
   "outputs": [],
   "source": [
    "f2.loc[len(f2)]= X.iloc[555]"
   ]
  },
  {
   "cell_type": "code",
   "execution_count": 78,
   "metadata": {
    "collapsed": false
   },
   "outputs": [
    {
     "data": {
      "text/plain": [
       "(1095, 10)"
      ]
     },
     "execution_count": 78,
     "metadata": {},
     "output_type": "execute_result"
    }
   ],
   "source": [
    "f2.shape"
   ]
  },
  {
   "cell_type": "code",
   "execution_count": 79,
   "metadata": {
    "collapsed": true
   },
   "outputs": [],
   "source": [
    "f2.to_csv(\"daily_weather.csv\")"
   ]
  },
  {
   "cell_type": "code",
   "execution_count": null,
   "metadata": {
    "collapsed": true
   },
   "outputs": [],
   "source": []
  }
 ],
 "metadata": {
  "kernelspec": {
   "display_name": "Python 2",
   "language": "python",
   "name": "python2"
  },
  "language_info": {
   "codemirror_mode": {
    "name": "ipython",
    "version": 2
   },
   "file_extension": ".py",
   "mimetype": "text/x-python",
   "name": "python",
   "nbconvert_exporter": "python",
   "pygments_lexer": "ipython2",
   "version": "2.7.11"
  }
 },
 "nbformat": 4,
 "nbformat_minor": 0
}
