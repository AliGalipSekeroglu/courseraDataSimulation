{
 "cells": [
  {
   "cell_type": "code",
   "execution_count": 152,
   "metadata": {
    "collapsed": false
   },
   "outputs": [],
   "source": [
    "%matplotlib inline\n",
    "import matplotlib.pyplot as plt\n",
    "import pandas as pd\n",
    "import datetime\n",
    "W = 10 #window for taking moving average"
   ]
  },
  {
   "cell_type": "code",
   "execution_count": 153,
   "metadata": {
    "collapsed": false
   },
   "outputs": [],
   "source": [
    "f = pd.read_csv(\"MW-timestamp.csv\", sep=',', parse_dates=True, infer_datetime_format=True)"
   ]
  },
  {
   "cell_type": "code",
   "execution_count": 154,
   "metadata": {
    "collapsed": false
   },
   "outputs": [],
   "source": [
    "f['date'] = pd.to_datetime(f['hpwren_timestamp'], format=\"%Y-%m-%d %H:%M:%S\")\n",
    "f = f.set_index('date')"
   ]
  },
  {
   "cell_type": "code",
   "execution_count": 155,
   "metadata": {
    "collapsed": false
   },
   "outputs": [],
   "source": [
    "#f.plot(y='rain_accumulation')"
   ]
  },
  {
   "cell_type": "code",
   "execution_count": 156,
   "metadata": {
    "collapsed": false
   },
   "outputs": [
    {
     "data": {
      "text/plain": [
       "(65530, 603.75999999999999)"
      ]
     },
     "execution_count": 156,
     "metadata": {},
     "output_type": "execute_result"
    }
   ],
   "source": [
    "max (f.rain_duration), max (f.rain_accumulation)"
   ]
  },
  {
   "cell_type": "code",
   "execution_count": 157,
   "metadata": {
    "collapsed": false
   },
   "outputs": [],
   "source": [
    "f = f.dropna()"
   ]
  },
  {
   "cell_type": "code",
   "execution_count": 158,
   "metadata": {
    "collapsed": false
   },
   "outputs": [
    {
     "data": {
      "text/html": [
       "<div>\n",
       "<table border=\"1\" class=\"dataframe\">\n",
       "  <thead>\n",
       "    <tr style=\"text-align: right;\">\n",
       "      <th></th>\n",
       "      <th>hpwren_timestamp</th>\n",
       "      <th>air_pressure</th>\n",
       "      <th>air_temp</th>\n",
       "      <th>avg_wind_direction</th>\n",
       "      <th>avg_wind_speed</th>\n",
       "      <th>max_wind_direction</th>\n",
       "      <th>max_wind_speed</th>\n",
       "      <th>rain_accumulation</th>\n",
       "      <th>rain_duration</th>\n",
       "      <th>relative_humidity</th>\n",
       "    </tr>\n",
       "    <tr>\n",
       "      <th>date</th>\n",
       "      <th></th>\n",
       "      <th></th>\n",
       "      <th></th>\n",
       "      <th></th>\n",
       "      <th></th>\n",
       "      <th></th>\n",
       "      <th></th>\n",
       "      <th></th>\n",
       "      <th></th>\n",
       "      <th></th>\n",
       "    </tr>\n",
       "  </thead>\n",
       "  <tbody>\n",
       "    <tr>\n",
       "      <th>2011-09-10 00:00:49</th>\n",
       "      <td>2011-09-10 00:00:49</td>\n",
       "      <td>912.3</td>\n",
       "      <td>64.76</td>\n",
       "      <td>97.0</td>\n",
       "      <td>1.2</td>\n",
       "      <td>106.0</td>\n",
       "      <td>1.6</td>\n",
       "      <td>341.34</td>\n",
       "      <td>18874</td>\n",
       "      <td>60.5</td>\n",
       "    </tr>\n",
       "  </tbody>\n",
       "</table>\n",
       "</div>"
      ],
      "text/plain": [
       "                        hpwren_timestamp  air_pressure  air_temp  \\\n",
       "date                                                               \n",
       "2011-09-10 00:00:49  2011-09-10 00:00:49         912.3     64.76   \n",
       "\n",
       "                     avg_wind_direction  avg_wind_speed  max_wind_direction  \\\n",
       "date                                                                          \n",
       "2011-09-10 00:00:49                97.0             1.2               106.0   \n",
       "\n",
       "                     max_wind_speed  rain_accumulation  rain_duration  \\\n",
       "date                                                                    \n",
       "2011-09-10 00:00:49             1.6             341.34          18874   \n",
       "\n",
       "                     relative_humidity  \n",
       "date                                    \n",
       "2011-09-10 00:00:49               60.5  "
      ]
     },
     "execution_count": 158,
     "metadata": {},
     "output_type": "execute_result"
    }
   ],
   "source": [
    "del f[\"min_wind_direction\"]\n",
    "del f[\"min_wind_speed\"]\n",
    "\n",
    "f.head(1)"
   ]
  },
  {
   "cell_type": "code",
   "execution_count": 159,
   "metadata": {
    "collapsed": false
   },
   "outputs": [],
   "source": [
    "\n",
    "del f['hpwren_timestamp']"
   ]
  },
  {
   "cell_type": "code",
   "execution_count": 160,
   "metadata": {
    "collapsed": false
   },
   "outputs": [
    {
     "data": {
      "text/html": [
       "<div>\n",
       "<table border=\"1\" class=\"dataframe\">\n",
       "  <thead>\n",
       "    <tr style=\"text-align: right;\">\n",
       "      <th></th>\n",
       "      <th>air_pressure</th>\n",
       "      <th>air_temp</th>\n",
       "      <th>avg_wind_direction</th>\n",
       "      <th>avg_wind_speed</th>\n",
       "      <th>max_wind_direction</th>\n",
       "      <th>max_wind_speed</th>\n",
       "      <th>rain_accumulation</th>\n",
       "      <th>rain_duration</th>\n",
       "      <th>relative_humidity</th>\n",
       "    </tr>\n",
       "    <tr>\n",
       "      <th>date</th>\n",
       "      <th></th>\n",
       "      <th></th>\n",
       "      <th></th>\n",
       "      <th></th>\n",
       "      <th></th>\n",
       "      <th></th>\n",
       "      <th></th>\n",
       "      <th></th>\n",
       "      <th></th>\n",
       "    </tr>\n",
       "  </thead>\n",
       "  <tbody>\n",
       "    <tr>\n",
       "      <th>2011-09-10 00:00:49</th>\n",
       "      <td>912.3</td>\n",
       "      <td>64.76</td>\n",
       "      <td>97.0</td>\n",
       "      <td>1.2</td>\n",
       "      <td>106.0</td>\n",
       "      <td>1.6</td>\n",
       "      <td>341.34</td>\n",
       "      <td>18874</td>\n",
       "      <td>60.5</td>\n",
       "    </tr>\n",
       "    <tr>\n",
       "      <th>2011-09-10 00:01:49</th>\n",
       "      <td>912.3</td>\n",
       "      <td>63.86</td>\n",
       "      <td>161.0</td>\n",
       "      <td>0.8</td>\n",
       "      <td>215.0</td>\n",
       "      <td>1.5</td>\n",
       "      <td>341.34</td>\n",
       "      <td>18874</td>\n",
       "      <td>39.9</td>\n",
       "    </tr>\n",
       "    <tr>\n",
       "      <th>2011-09-10 00:02:49</th>\n",
       "      <td>912.3</td>\n",
       "      <td>64.22</td>\n",
       "      <td>77.0</td>\n",
       "      <td>0.7</td>\n",
       "      <td>143.0</td>\n",
       "      <td>1.2</td>\n",
       "      <td>341.34</td>\n",
       "      <td>18874</td>\n",
       "      <td>43.0</td>\n",
       "    </tr>\n",
       "    <tr>\n",
       "      <th>2011-09-10 00:03:49</th>\n",
       "      <td>912.3</td>\n",
       "      <td>64.40</td>\n",
       "      <td>89.0</td>\n",
       "      <td>1.2</td>\n",
       "      <td>112.0</td>\n",
       "      <td>1.6</td>\n",
       "      <td>341.34</td>\n",
       "      <td>18874</td>\n",
       "      <td>49.5</td>\n",
       "    </tr>\n",
       "    <tr>\n",
       "      <th>2011-09-10 00:04:49</th>\n",
       "      <td>912.3</td>\n",
       "      <td>64.40</td>\n",
       "      <td>185.0</td>\n",
       "      <td>0.4</td>\n",
       "      <td>260.0</td>\n",
       "      <td>1.0</td>\n",
       "      <td>341.34</td>\n",
       "      <td>18874</td>\n",
       "      <td>58.8</td>\n",
       "    </tr>\n",
       "  </tbody>\n",
       "</table>\n",
       "</div>"
      ],
      "text/plain": [
       "                     air_pressure  air_temp  avg_wind_direction  \\\n",
       "date                                                              \n",
       "2011-09-10 00:00:49         912.3     64.76                97.0   \n",
       "2011-09-10 00:01:49         912.3     63.86               161.0   \n",
       "2011-09-10 00:02:49         912.3     64.22                77.0   \n",
       "2011-09-10 00:03:49         912.3     64.40                89.0   \n",
       "2011-09-10 00:04:49         912.3     64.40               185.0   \n",
       "\n",
       "                     avg_wind_speed  max_wind_direction  max_wind_speed  \\\n",
       "date                                                                      \n",
       "2011-09-10 00:00:49             1.2               106.0             1.6   \n",
       "2011-09-10 00:01:49             0.8               215.0             1.5   \n",
       "2011-09-10 00:02:49             0.7               143.0             1.2   \n",
       "2011-09-10 00:03:49             1.2               112.0             1.6   \n",
       "2011-09-10 00:04:49             0.4               260.0             1.0   \n",
       "\n",
       "                     rain_accumulation  rain_duration  relative_humidity  \n",
       "date                                                                      \n",
       "2011-09-10 00:00:49             341.34          18874               60.5  \n",
       "2011-09-10 00:01:49             341.34          18874               39.9  \n",
       "2011-09-10 00:02:49             341.34          18874               43.0  \n",
       "2011-09-10 00:03:49             341.34          18874               49.5  \n",
       "2011-09-10 00:04:49             341.34          18874               58.8  "
      ]
     },
     "execution_count": 160,
     "metadata": {},
     "output_type": "execute_result"
    }
   ],
   "source": [
    "f.head(5)"
   ]
  },
  {
   "cell_type": "code",
   "execution_count": 161,
   "metadata": {
    "collapsed": false
   },
   "outputs": [
    {
     "data": {
      "text/plain": [
       "(1586824, 9)"
      ]
     },
     "execution_count": 161,
     "metadata": {},
     "output_type": "execute_result"
    }
   ],
   "source": [
    "f.shape"
   ]
  },
  {
   "cell_type": "markdown",
   "metadata": {},
   "source": [
    "# bring down to each integer minute"
   ]
  },
  {
   "cell_type": "code",
   "execution_count": 162,
   "metadata": {
    "collapsed": false
   },
   "outputs": [
    {
     "data": {
      "text/html": [
       "<div>\n",
       "<table border=\"1\" class=\"dataframe\">\n",
       "  <thead>\n",
       "    <tr style=\"text-align: right;\">\n",
       "      <th></th>\n",
       "      <th>air_pressure</th>\n",
       "      <th>air_temp</th>\n",
       "      <th>avg_wind_direction</th>\n",
       "      <th>avg_wind_speed</th>\n",
       "      <th>max_wind_direction</th>\n",
       "      <th>max_wind_speed</th>\n",
       "      <th>rain_accumulation</th>\n",
       "      <th>rain_duration</th>\n",
       "      <th>relative_humidity</th>\n",
       "    </tr>\n",
       "    <tr>\n",
       "      <th>date</th>\n",
       "      <th></th>\n",
       "      <th></th>\n",
       "      <th></th>\n",
       "      <th></th>\n",
       "      <th></th>\n",
       "      <th></th>\n",
       "      <th></th>\n",
       "      <th></th>\n",
       "      <th></th>\n",
       "    </tr>\n",
       "  </thead>\n",
       "  <tbody>\n",
       "    <tr>\n",
       "      <th>2011-09-10 00:00:00</th>\n",
       "      <td>912.3</td>\n",
       "      <td>64.76</td>\n",
       "      <td>97.0</td>\n",
       "      <td>1.2</td>\n",
       "      <td>106.0</td>\n",
       "      <td>1.6</td>\n",
       "      <td>341.34</td>\n",
       "      <td>18874.0</td>\n",
       "      <td>60.5</td>\n",
       "    </tr>\n",
       "    <tr>\n",
       "      <th>2011-09-10 00:01:00</th>\n",
       "      <td>912.3</td>\n",
       "      <td>63.86</td>\n",
       "      <td>161.0</td>\n",
       "      <td>0.8</td>\n",
       "      <td>215.0</td>\n",
       "      <td>1.5</td>\n",
       "      <td>341.34</td>\n",
       "      <td>18874.0</td>\n",
       "      <td>39.9</td>\n",
       "    </tr>\n",
       "    <tr>\n",
       "      <th>2011-09-10 00:02:00</th>\n",
       "      <td>912.3</td>\n",
       "      <td>64.22</td>\n",
       "      <td>77.0</td>\n",
       "      <td>0.7</td>\n",
       "      <td>143.0</td>\n",
       "      <td>1.2</td>\n",
       "      <td>341.34</td>\n",
       "      <td>18874.0</td>\n",
       "      <td>43.0</td>\n",
       "    </tr>\n",
       "    <tr>\n",
       "      <th>2011-09-10 00:03:00</th>\n",
       "      <td>912.3</td>\n",
       "      <td>64.40</td>\n",
       "      <td>89.0</td>\n",
       "      <td>1.2</td>\n",
       "      <td>112.0</td>\n",
       "      <td>1.6</td>\n",
       "      <td>341.34</td>\n",
       "      <td>18874.0</td>\n",
       "      <td>49.5</td>\n",
       "    </tr>\n",
       "    <tr>\n",
       "      <th>2011-09-10 00:04:00</th>\n",
       "      <td>912.3</td>\n",
       "      <td>64.40</td>\n",
       "      <td>185.0</td>\n",
       "      <td>0.4</td>\n",
       "      <td>260.0</td>\n",
       "      <td>1.0</td>\n",
       "      <td>341.34</td>\n",
       "      <td>18874.0</td>\n",
       "      <td>58.8</td>\n",
       "    </tr>\n",
       "  </tbody>\n",
       "</table>\n",
       "</div>"
      ],
      "text/plain": [
       "                     air_pressure  air_temp  avg_wind_direction  \\\n",
       "date                                                              \n",
       "2011-09-10 00:00:00         912.3     64.76                97.0   \n",
       "2011-09-10 00:01:00         912.3     63.86               161.0   \n",
       "2011-09-10 00:02:00         912.3     64.22                77.0   \n",
       "2011-09-10 00:03:00         912.3     64.40                89.0   \n",
       "2011-09-10 00:04:00         912.3     64.40               185.0   \n",
       "\n",
       "                     avg_wind_speed  max_wind_direction  max_wind_speed  \\\n",
       "date                                                                      \n",
       "2011-09-10 00:00:00             1.2               106.0             1.6   \n",
       "2011-09-10 00:01:00             0.8               215.0             1.5   \n",
       "2011-09-10 00:02:00             0.7               143.0             1.2   \n",
       "2011-09-10 00:03:00             1.2               112.0             1.6   \n",
       "2011-09-10 00:04:00             0.4               260.0             1.0   \n",
       "\n",
       "                     rain_accumulation  rain_duration  relative_humidity  \n",
       "date                                                                      \n",
       "2011-09-10 00:00:00             341.34        18874.0               60.5  \n",
       "2011-09-10 00:01:00             341.34        18874.0               39.9  \n",
       "2011-09-10 00:02:00             341.34        18874.0               43.0  \n",
       "2011-09-10 00:03:00             341.34        18874.0               49.5  \n",
       "2011-09-10 00:04:00             341.34        18874.0               58.8  "
      ]
     },
     "execution_count": 162,
     "metadata": {},
     "output_type": "execute_result"
    }
   ],
   "source": [
    "grouped = f.groupby(pd.TimeGrouper('min'))\n",
    "f_eachminute = grouped.mean()\n",
    "f_eachminute.head(5)"
   ]
  },
  {
   "cell_type": "markdown",
   "metadata": {},
   "source": [
    "# Rolling average of each minute"
   ]
  },
  {
   "cell_type": "code",
   "execution_count": 163,
   "metadata": {
    "collapsed": false
   },
   "outputs": [
    {
     "name": "stderr",
     "output_type": "stream",
     "text": [
      "/data/home/a1singh/anaconda3/lib/python3.5/site-packages/ipykernel/__main__.py:2: FutureWarning: pd.rolling_mean is deprecated for DataFrame and will be removed in a future version, replace with \n",
      "\tDataFrame.rolling(center=True,window=10).mean()\n",
      "  from ipykernel import kernelapp as app\n"
     ]
    },
    {
     "data": {
      "text/html": [
       "<div>\n",
       "<table border=\"1\" class=\"dataframe\">\n",
       "  <thead>\n",
       "    <tr style=\"text-align: right;\">\n",
       "      <th></th>\n",
       "      <th>air_pressure</th>\n",
       "      <th>air_temp</th>\n",
       "      <th>avg_wind_direction</th>\n",
       "      <th>avg_wind_speed</th>\n",
       "      <th>max_wind_direction</th>\n",
       "      <th>max_wind_speed</th>\n",
       "      <th>rain_accumulation</th>\n",
       "      <th>rain_duration</th>\n",
       "      <th>relative_humidity</th>\n",
       "    </tr>\n",
       "    <tr>\n",
       "      <th>date</th>\n",
       "      <th></th>\n",
       "      <th></th>\n",
       "      <th></th>\n",
       "      <th></th>\n",
       "      <th></th>\n",
       "      <th></th>\n",
       "      <th></th>\n",
       "      <th></th>\n",
       "      <th></th>\n",
       "    </tr>\n",
       "  </thead>\n",
       "  <tbody>\n",
       "    <tr>\n",
       "      <th>2014-09-10 23:54:00</th>\n",
       "      <td>915.9</td>\n",
       "      <td>74.768</td>\n",
       "      <td>110.5</td>\n",
       "      <td>1.53</td>\n",
       "      <td>53.0</td>\n",
       "      <td>1.87</td>\n",
       "      <td>8.69</td>\n",
       "      <td>17920.0</td>\n",
       "      <td>46.07</td>\n",
       "    </tr>\n",
       "    <tr>\n",
       "      <th>2014-09-10 23:55:00</th>\n",
       "      <td>915.9</td>\n",
       "      <td>74.732</td>\n",
       "      <td>76.7</td>\n",
       "      <td>1.59</td>\n",
       "      <td>19.5</td>\n",
       "      <td>1.94</td>\n",
       "      <td>8.69</td>\n",
       "      <td>17920.0</td>\n",
       "      <td>46.12</td>\n",
       "    </tr>\n",
       "  </tbody>\n",
       "</table>\n",
       "</div>"
      ],
      "text/plain": [
       "                     air_pressure  air_temp  avg_wind_direction  \\\n",
       "date                                                              \n",
       "2014-09-10 23:54:00         915.9    74.768               110.5   \n",
       "2014-09-10 23:55:00         915.9    74.732                76.7   \n",
       "\n",
       "                     avg_wind_speed  max_wind_direction  max_wind_speed  \\\n",
       "date                                                                      \n",
       "2014-09-10 23:54:00            1.53                53.0            1.87   \n",
       "2014-09-10 23:55:00            1.59                19.5            1.94   \n",
       "\n",
       "                     rain_accumulation  rain_duration  relative_humidity  \n",
       "date                                                                      \n",
       "2014-09-10 23:54:00               8.69        17920.0              46.07  \n",
       "2014-09-10 23:55:00               8.69        17920.0              46.12  "
      ]
     },
     "execution_count": 163,
     "metadata": {},
     "output_type": "execute_result"
    }
   ],
   "source": [
    "# rolling average of each minute\n",
    "f_ea_min_w10 = pd.rolling_mean(f_eachminute, window=W, min_periods=None, freq=None, center=True, how=None)\n",
    "\n",
    "f_ea_min_w10.drop(f_ea_min_w10.head(5).index, inplace=True) # drop first 5 rows\n",
    "f_ea_min_w10.drop(f_ea_min_w10.tail(4).index, inplace=True) # drop last 4 rows\n",
    "\n",
    "#f_ea_min_w10.head(2) \n",
    "f_ea_min_w10.tail(2) "
   ]
  },
  {
   "cell_type": "code",
   "execution_count": 164,
   "metadata": {
    "collapsed": false
   },
   "outputs": [],
   "source": [
    "# PER MINUTE 9AM AND 3 PM\n",
    "\n",
    "# 1\n",
    "final_9am = f_ea_min_w10.between_time('9:00','9:01', include_start=True, include_end=False)\n",
    "\n",
    "# 2\n",
    "final_3pm = f_ea_min_w10.between_time('15:00','15:01', include_start=True, include_end=False)"
   ]
  },
  {
   "cell_type": "code",
   "execution_count": 165,
   "metadata": {
    "collapsed": false
   },
   "outputs": [
    {
     "data": {
      "text/plain": [
       "((1579671, 9), (1097, 9), (1097, 9))"
      ]
     },
     "execution_count": 165,
     "metadata": {},
     "output_type": "execute_result"
    }
   ],
   "source": [
    "f_ea_min_w10.shape, final_9am.shape, final_3pm.shape"
   ]
  },
  {
   "cell_type": "code",
   "execution_count": 166,
   "metadata": {
    "collapsed": false
   },
   "outputs": [
    {
     "data": {
      "text/html": [
       "<div>\n",
       "<table border=\"1\" class=\"dataframe\">\n",
       "  <thead>\n",
       "    <tr style=\"text-align: right;\">\n",
       "      <th></th>\n",
       "      <th>air_pressure_9am</th>\n",
       "      <th>air_temp_9am</th>\n",
       "      <th>avg_wind_direction_9am</th>\n",
       "      <th>avg_wind_speed_9am</th>\n",
       "      <th>max_wind_direction_9am</th>\n",
       "      <th>max_wind_speed_9am</th>\n",
       "      <th>rain_accumulation_9am</th>\n",
       "      <th>rain_duration_9am</th>\n",
       "      <th>relative_humidity_9am</th>\n",
       "    </tr>\n",
       "    <tr>\n",
       "      <th>date</th>\n",
       "      <th></th>\n",
       "      <th></th>\n",
       "      <th></th>\n",
       "      <th></th>\n",
       "      <th></th>\n",
       "      <th></th>\n",
       "      <th></th>\n",
       "      <th></th>\n",
       "      <th></th>\n",
       "    </tr>\n",
       "  </thead>\n",
       "  <tbody>\n",
       "    <tr>\n",
       "      <th>2011-09-10 09:00:00</th>\n",
       "      <td>912.56</td>\n",
       "      <td>55.472</td>\n",
       "      <td>139.0</td>\n",
       "      <td>1.4</td>\n",
       "      <td>161.3</td>\n",
       "      <td>1.79</td>\n",
       "      <td>341.34</td>\n",
       "      <td>18874.0</td>\n",
       "      <td>86.27</td>\n",
       "    </tr>\n",
       "    <tr>\n",
       "      <th>2011-09-11 09:00:00</th>\n",
       "      <td>916.66</td>\n",
       "      <td>56.336</td>\n",
       "      <td>179.8</td>\n",
       "      <td>1.6</td>\n",
       "      <td>203.2</td>\n",
       "      <td>1.91</td>\n",
       "      <td>341.34</td>\n",
       "      <td>18874.0</td>\n",
       "      <td>77.48</td>\n",
       "    </tr>\n",
       "  </tbody>\n",
       "</table>\n",
       "</div>"
      ],
      "text/plain": [
       "                     air_pressure_9am  air_temp_9am  avg_wind_direction_9am  \\\n",
       "date                                                                          \n",
       "2011-09-10 09:00:00            912.56        55.472                   139.0   \n",
       "2011-09-11 09:00:00            916.66        56.336                   179.8   \n",
       "\n",
       "                     avg_wind_speed_9am  max_wind_direction_9am  \\\n",
       "date                                                              \n",
       "2011-09-10 09:00:00                 1.4                   161.3   \n",
       "2011-09-11 09:00:00                 1.6                   203.2   \n",
       "\n",
       "                     max_wind_speed_9am  rain_accumulation_9am  \\\n",
       "date                                                             \n",
       "2011-09-10 09:00:00                1.79                 341.34   \n",
       "2011-09-11 09:00:00                1.91                 341.34   \n",
       "\n",
       "                     rain_duration_9am  relative_humidity_9am  \n",
       "date                                                           \n",
       "2011-09-10 09:00:00            18874.0                  86.27  \n",
       "2011-09-11 09:00:00            18874.0                  77.48  "
      ]
     },
     "execution_count": 166,
     "metadata": {},
     "output_type": "execute_result"
    }
   ],
   "source": [
    "final_9am.columns = [str(col) + '_9am' for col in final_9am.columns]\n",
    "final_9am.head(2)"
   ]
  },
  {
   "cell_type": "code",
   "execution_count": 167,
   "metadata": {
    "collapsed": false
   },
   "outputs": [
    {
     "data": {
      "text/html": [
       "<div>\n",
       "<table border=\"1\" class=\"dataframe\">\n",
       "  <thead>\n",
       "    <tr style=\"text-align: right;\">\n",
       "      <th></th>\n",
       "      <th>air_pressure_9am</th>\n",
       "      <th>air_temp_9am</th>\n",
       "      <th>avg_wind_direction_9am</th>\n",
       "      <th>avg_wind_speed_9am</th>\n",
       "      <th>max_wind_direction_9am</th>\n",
       "      <th>max_wind_speed_9am</th>\n",
       "      <th>rain_accumulation_9am</th>\n",
       "      <th>rain_duration_9am</th>\n",
       "      <th>relative_humidity_9am</th>\n",
       "    </tr>\n",
       "    <tr>\n",
       "      <th>date</th>\n",
       "      <th></th>\n",
       "      <th></th>\n",
       "      <th></th>\n",
       "      <th></th>\n",
       "      <th></th>\n",
       "      <th></th>\n",
       "      <th></th>\n",
       "      <th></th>\n",
       "      <th></th>\n",
       "    </tr>\n",
       "  </thead>\n",
       "  <tbody>\n",
       "    <tr>\n",
       "      <th>2011-09-10</th>\n",
       "      <td>912.56</td>\n",
       "      <td>55.472</td>\n",
       "      <td>139.0</td>\n",
       "      <td>1.4</td>\n",
       "      <td>161.3</td>\n",
       "      <td>1.79</td>\n",
       "      <td>341.34</td>\n",
       "      <td>18874.0</td>\n",
       "      <td>86.27</td>\n",
       "    </tr>\n",
       "    <tr>\n",
       "      <th>2011-09-11</th>\n",
       "      <td>916.66</td>\n",
       "      <td>56.336</td>\n",
       "      <td>179.8</td>\n",
       "      <td>1.6</td>\n",
       "      <td>203.2</td>\n",
       "      <td>1.91</td>\n",
       "      <td>341.34</td>\n",
       "      <td>18874.0</td>\n",
       "      <td>77.48</td>\n",
       "    </tr>\n",
       "  </tbody>\n",
       "</table>\n",
       "</div>"
      ],
      "text/plain": [
       "            air_pressure_9am  air_temp_9am  avg_wind_direction_9am  \\\n",
       "date                                                                 \n",
       "2011-09-10            912.56        55.472                   139.0   \n",
       "2011-09-11            916.66        56.336                   179.8   \n",
       "\n",
       "            avg_wind_speed_9am  max_wind_direction_9am  max_wind_speed_9am  \\\n",
       "date                                                                         \n",
       "2011-09-10                 1.4                   161.3                1.79   \n",
       "2011-09-11                 1.6                   203.2                1.91   \n",
       "\n",
       "            rain_accumulation_9am  rain_duration_9am  relative_humidity_9am  \n",
       "date                                                                         \n",
       "2011-09-10                 341.34            18874.0                  86.27  \n",
       "2011-09-11                 341.34            18874.0                  77.48  "
      ]
     },
     "execution_count": 167,
     "metadata": {},
     "output_type": "execute_result"
    }
   ],
   "source": [
    "# drop the hh:mm:ss from index (there is already one reading per day)\n",
    "final_9am = final_9am.groupby(pd.TimeGrouper('D'))\n",
    "final_9am = final_9am.max()\n",
    "final_9am.head(2)"
   ]
  },
  {
   "cell_type": "code",
   "execution_count": 168,
   "metadata": {
    "collapsed": false
   },
   "outputs": [
    {
     "data": {
      "text/html": [
       "<div>\n",
       "<table border=\"1\" class=\"dataframe\">\n",
       "  <thead>\n",
       "    <tr style=\"text-align: right;\">\n",
       "      <th></th>\n",
       "      <th>air_pressure_3pm</th>\n",
       "      <th>air_temp_3pm</th>\n",
       "      <th>avg_wind_direction_3pm</th>\n",
       "      <th>avg_wind_speed_3pm</th>\n",
       "      <th>max_wind_direction_3pm</th>\n",
       "      <th>max_wind_speed_3pm</th>\n",
       "      <th>rain_accumulation_3pm</th>\n",
       "      <th>rain_duration_3pm</th>\n",
       "      <th>relative_humidity_3pm</th>\n",
       "    </tr>\n",
       "    <tr>\n",
       "      <th>date</th>\n",
       "      <th></th>\n",
       "      <th></th>\n",
       "      <th></th>\n",
       "      <th></th>\n",
       "      <th></th>\n",
       "      <th></th>\n",
       "      <th></th>\n",
       "      <th></th>\n",
       "      <th></th>\n",
       "    </tr>\n",
       "  </thead>\n",
       "  <tbody>\n",
       "    <tr>\n",
       "      <th>2014-09-09 15:00:00</th>\n",
       "      <td>915.57</td>\n",
       "      <td>78.800</td>\n",
       "      <td>244.3</td>\n",
       "      <td>3.92</td>\n",
       "      <td>275.3</td>\n",
       "      <td>4.99</td>\n",
       "      <td>8.69</td>\n",
       "      <td>17920.0</td>\n",
       "      <td>51.54</td>\n",
       "    </tr>\n",
       "    <tr>\n",
       "      <th>2014-09-10 15:00:00</th>\n",
       "      <td>914.56</td>\n",
       "      <td>81.032</td>\n",
       "      <td>225.2</td>\n",
       "      <td>3.59</td>\n",
       "      <td>241.5</td>\n",
       "      <td>4.66</td>\n",
       "      <td>8.69</td>\n",
       "      <td>17920.0</td>\n",
       "      <td>37.01</td>\n",
       "    </tr>\n",
       "  </tbody>\n",
       "</table>\n",
       "</div>"
      ],
      "text/plain": [
       "                     air_pressure_3pm  air_temp_3pm  avg_wind_direction_3pm  \\\n",
       "date                                                                          \n",
       "2014-09-09 15:00:00            915.57        78.800                   244.3   \n",
       "2014-09-10 15:00:00            914.56        81.032                   225.2   \n",
       "\n",
       "                     avg_wind_speed_3pm  max_wind_direction_3pm  \\\n",
       "date                                                              \n",
       "2014-09-09 15:00:00                3.92                   275.3   \n",
       "2014-09-10 15:00:00                3.59                   241.5   \n",
       "\n",
       "                     max_wind_speed_3pm  rain_accumulation_3pm  \\\n",
       "date                                                             \n",
       "2014-09-09 15:00:00                4.99                   8.69   \n",
       "2014-09-10 15:00:00                4.66                   8.69   \n",
       "\n",
       "                     rain_duration_3pm  relative_humidity_3pm  \n",
       "date                                                           \n",
       "2014-09-09 15:00:00            17920.0                  51.54  \n",
       "2014-09-10 15:00:00            17920.0                  37.01  "
      ]
     },
     "execution_count": 168,
     "metadata": {},
     "output_type": "execute_result"
    }
   ],
   "source": [
    "final_3pm.columns = [str(col) + '_3pm' for col in final_3pm.columns]\n",
    "final_3pm.tail(2)"
   ]
  },
  {
   "cell_type": "code",
   "execution_count": 169,
   "metadata": {
    "collapsed": false
   },
   "outputs": [
    {
     "data": {
      "text/html": [
       "<div>\n",
       "<table border=\"1\" class=\"dataframe\">\n",
       "  <thead>\n",
       "    <tr style=\"text-align: right;\">\n",
       "      <th></th>\n",
       "      <th>air_pressure_3pm</th>\n",
       "      <th>air_temp_3pm</th>\n",
       "      <th>avg_wind_direction_3pm</th>\n",
       "      <th>avg_wind_speed_3pm</th>\n",
       "      <th>max_wind_direction_3pm</th>\n",
       "      <th>max_wind_speed_3pm</th>\n",
       "      <th>rain_accumulation_3pm</th>\n",
       "      <th>rain_duration_3pm</th>\n",
       "      <th>relative_humidity_3pm</th>\n",
       "    </tr>\n",
       "    <tr>\n",
       "      <th>date</th>\n",
       "      <th></th>\n",
       "      <th></th>\n",
       "      <th></th>\n",
       "      <th></th>\n",
       "      <th></th>\n",
       "      <th></th>\n",
       "      <th></th>\n",
       "      <th></th>\n",
       "      <th></th>\n",
       "    </tr>\n",
       "  </thead>\n",
       "  <tbody>\n",
       "    <tr>\n",
       "      <th>2014-09-09</th>\n",
       "      <td>915.57</td>\n",
       "      <td>78.800</td>\n",
       "      <td>244.3</td>\n",
       "      <td>3.92</td>\n",
       "      <td>275.3</td>\n",
       "      <td>4.99</td>\n",
       "      <td>8.69</td>\n",
       "      <td>17920.0</td>\n",
       "      <td>51.54</td>\n",
       "    </tr>\n",
       "    <tr>\n",
       "      <th>2014-09-10</th>\n",
       "      <td>914.56</td>\n",
       "      <td>81.032</td>\n",
       "      <td>225.2</td>\n",
       "      <td>3.59</td>\n",
       "      <td>241.5</td>\n",
       "      <td>4.66</td>\n",
       "      <td>8.69</td>\n",
       "      <td>17920.0</td>\n",
       "      <td>37.01</td>\n",
       "    </tr>\n",
       "  </tbody>\n",
       "</table>\n",
       "</div>"
      ],
      "text/plain": [
       "            air_pressure_3pm  air_temp_3pm  avg_wind_direction_3pm  \\\n",
       "date                                                                 \n",
       "2014-09-09            915.57        78.800                   244.3   \n",
       "2014-09-10            914.56        81.032                   225.2   \n",
       "\n",
       "            avg_wind_speed_3pm  max_wind_direction_3pm  max_wind_speed_3pm  \\\n",
       "date                                                                         \n",
       "2014-09-09                3.92                   275.3                4.99   \n",
       "2014-09-10                3.59                   241.5                4.66   \n",
       "\n",
       "            rain_accumulation_3pm  rain_duration_3pm  relative_humidity_3pm  \n",
       "date                                                                         \n",
       "2014-09-09                   8.69            17920.0                  51.54  \n",
       "2014-09-10                   8.69            17920.0                  37.01  "
      ]
     },
     "execution_count": 169,
     "metadata": {},
     "output_type": "execute_result"
    }
   ],
   "source": [
    "# drop the hh:mm:ss from index (there is already one reading per day)\n",
    "final_3pm = final_3pm.groupby(pd.TimeGrouper('D'))\n",
    "final_3pm = final_3pm.max()\n",
    "final_3pm.tail(2)"
   ]
  },
  {
   "cell_type": "code",
   "execution_count": 170,
   "metadata": {
    "collapsed": false
   },
   "outputs": [
    {
     "data": {
      "text/html": [
       "<div>\n",
       "<table border=\"1\" class=\"dataframe\">\n",
       "  <thead>\n",
       "    <tr style=\"text-align: right;\">\n",
       "      <th></th>\n",
       "      <th>air_pressure_DAYMAX</th>\n",
       "      <th>air_temp_DAYMAX</th>\n",
       "      <th>avg_wind_speed_DAYMAX</th>\n",
       "      <th>max_wind_speed_DAYMAX</th>\n",
       "      <th>rain_accumulation_DAYMAX</th>\n",
       "      <th>rain_duration_DAYMAX</th>\n",
       "      <th>relative_humidity_DAYMAX</th>\n",
       "    </tr>\n",
       "    <tr>\n",
       "      <th>date</th>\n",
       "      <th></th>\n",
       "      <th></th>\n",
       "      <th></th>\n",
       "      <th></th>\n",
       "      <th></th>\n",
       "      <th></th>\n",
       "      <th></th>\n",
       "    </tr>\n",
       "  </thead>\n",
       "  <tbody>\n",
       "    <tr>\n",
       "      <th>2011-09-10</th>\n",
       "      <td>914.9</td>\n",
       "      <td>68.0</td>\n",
       "      <td>8.9</td>\n",
       "      <td>9.3</td>\n",
       "      <td>341.34</td>\n",
       "      <td>18874.0</td>\n",
       "      <td>90.8</td>\n",
       "    </tr>\n",
       "  </tbody>\n",
       "</table>\n",
       "</div>"
      ],
      "text/plain": [
       "            air_pressure_DAYMAX  air_temp_DAYMAX  avg_wind_speed_DAYMAX  \\\n",
       "date                                                                      \n",
       "2011-09-10                914.9             68.0                    8.9   \n",
       "\n",
       "            max_wind_speed_DAYMAX  rain_accumulation_DAYMAX  \\\n",
       "date                                                          \n",
       "2011-09-10                    9.3                    341.34   \n",
       "\n",
       "            rain_duration_DAYMAX  relative_humidity_DAYMAX  \n",
       "date                                                        \n",
       "2011-09-10               18874.0                      90.8  "
      ]
     },
     "execution_count": 170,
     "metadata": {},
     "output_type": "execute_result"
    }
   ],
   "source": [
    "# DAILY MIN / MAX\n",
    "\n",
    "grouped = f.groupby(pd.TimeGrouper('D'))\n",
    "\n",
    "# 3\n",
    "f_daily_MAX = grouped.max()\n",
    "f_daily_MAX.columns = [str(col) + '_DAYMAX' for col in f_daily_MAX.columns]\n",
    "\n",
    "# 4\n",
    "f_daily_MIN = grouped.min()\n",
    "f_daily_MIN.columns = [str(col) + '_DAYMIN' for col in f_daily_MIN.columns]\n",
    "\n",
    "del f_daily_MIN[\"avg_wind_direction_DAYMIN\"]\n",
    "del f_daily_MIN[\"max_wind_direction_DAYMIN\"]\n",
    "del f_daily_MAX[\"avg_wind_direction_DAYMAX\"]\n",
    "del f_daily_MAX[\"max_wind_direction_DAYMAX\"]\n",
    "\n",
    "f_daily_MAX.head(1)\n"
   ]
  },
  {
   "cell_type": "code",
   "execution_count": 171,
   "metadata": {
    "collapsed": false
   },
   "outputs": [
    {
     "data": {
      "text/plain": [
       "((1097, 7), (1097, 7))"
      ]
     },
     "execution_count": 171,
     "metadata": {},
     "output_type": "execute_result"
    }
   ],
   "source": [
    "f_daily_MAX.shape, f_daily_MIN.shape"
   ]
  },
  {
   "cell_type": "code",
   "execution_count": 172,
   "metadata": {
    "collapsed": false
   },
   "outputs": [
    {
     "data": {
      "text/plain": [
       "20909006.0"
      ]
     },
     "execution_count": 172,
     "metadata": {},
     "output_type": "execute_result"
    }
   ],
   "source": [
    "f_daily_MAX[\"rain_duration_DAYMAX\"].sum()"
   ]
  },
  {
   "cell_type": "code",
   "execution_count": 173,
   "metadata": {
    "collapsed": false
   },
   "outputs": [
    {
     "data": {
      "text/plain": [
       "(1097, 7)"
      ]
     },
     "execution_count": 173,
     "metadata": {},
     "output_type": "execute_result"
    }
   ],
   "source": [
    "f_daily_MIN.shape "
   ]
  },
  {
   "cell_type": "code",
   "execution_count": 174,
   "metadata": {
    "collapsed": false
   },
   "outputs": [
    {
     "data": {
      "text/plain": [
       "(1097, 9)"
      ]
     },
     "execution_count": 174,
     "metadata": {},
     "output_type": "execute_result"
    }
   ],
   "source": [
    "final_9am.shape"
   ]
  },
  {
   "cell_type": "code",
   "execution_count": 175,
   "metadata": {
    "collapsed": true
   },
   "outputs": [],
   "source": [
    "result = pd.concat([f_daily_MAX, f_daily_MIN, final_9am, final_3pm], axis=1)"
   ]
  },
  {
   "cell_type": "code",
   "execution_count": 176,
   "metadata": {
    "collapsed": false
   },
   "outputs": [
    {
     "data": {
      "text/plain": [
       "(1097, 32)"
      ]
     },
     "execution_count": 176,
     "metadata": {},
     "output_type": "execute_result"
    }
   ],
   "source": [
    "result.shape"
   ]
  },
  {
   "cell_type": "code",
   "execution_count": 177,
   "metadata": {
    "collapsed": false
   },
   "outputs": [
    {
     "data": {
      "text/html": [
       "<div>\n",
       "<table border=\"1\" class=\"dataframe\">\n",
       "  <thead>\n",
       "    <tr style=\"text-align: right;\">\n",
       "      <th></th>\n",
       "      <th>air_pressure_DAYMAX</th>\n",
       "      <th>air_temp_DAYMAX</th>\n",
       "      <th>avg_wind_speed_DAYMAX</th>\n",
       "      <th>max_wind_speed_DAYMAX</th>\n",
       "      <th>relative_humidity_DAYMAX</th>\n",
       "      <th>air_pressure_DAYMIN</th>\n",
       "      <th>air_temp_DAYMIN</th>\n",
       "      <th>avg_wind_speed_DAYMIN</th>\n",
       "      <th>max_wind_speed_DAYMIN</th>\n",
       "      <th>rain_accumulation_DAYMIN</th>\n",
       "      <th>...</th>\n",
       "      <th>rain_accumulation_9am</th>\n",
       "      <th>rain_duration_9am</th>\n",
       "      <th>relative_humidity_9am</th>\n",
       "      <th>air_pressure_3pm</th>\n",
       "      <th>air_temp_3pm</th>\n",
       "      <th>avg_wind_direction_3pm</th>\n",
       "      <th>avg_wind_speed_3pm</th>\n",
       "      <th>max_wind_direction_3pm</th>\n",
       "      <th>max_wind_speed_3pm</th>\n",
       "      <th>relative_humidity_3pm</th>\n",
       "    </tr>\n",
       "    <tr>\n",
       "      <th>date</th>\n",
       "      <th></th>\n",
       "      <th></th>\n",
       "      <th></th>\n",
       "      <th></th>\n",
       "      <th></th>\n",
       "      <th></th>\n",
       "      <th></th>\n",
       "      <th></th>\n",
       "      <th></th>\n",
       "      <th></th>\n",
       "      <th></th>\n",
       "      <th></th>\n",
       "      <th></th>\n",
       "      <th></th>\n",
       "      <th></th>\n",
       "      <th></th>\n",
       "      <th></th>\n",
       "      <th></th>\n",
       "      <th></th>\n",
       "      <th></th>\n",
       "      <th></th>\n",
       "    </tr>\n",
       "  </thead>\n",
       "  <tbody>\n",
       "    <tr>\n",
       "      <th>2011-09-10</th>\n",
       "      <td>914.9</td>\n",
       "      <td>68.00</td>\n",
       "      <td>8.9</td>\n",
       "      <td>9.3</td>\n",
       "      <td>90.8</td>\n",
       "      <td>911.1</td>\n",
       "      <td>52.70</td>\n",
       "      <td>0.1</td>\n",
       "      <td>0.2</td>\n",
       "      <td>341.34</td>\n",
       "      <td>...</td>\n",
       "      <td>341.34</td>\n",
       "      <td>18874.0</td>\n",
       "      <td>86.27</td>\n",
       "      <td>913.05</td>\n",
       "      <td>61.394</td>\n",
       "      <td>211.9</td>\n",
       "      <td>5.83</td>\n",
       "      <td>219.0</td>\n",
       "      <td>6.92</td>\n",
       "      <td>69.90</td>\n",
       "    </tr>\n",
       "    <tr>\n",
       "      <th>2011-09-11</th>\n",
       "      <td>918.2</td>\n",
       "      <td>71.60</td>\n",
       "      <td>6.1</td>\n",
       "      <td>7.1</td>\n",
       "      <td>91.2</td>\n",
       "      <td>914.5</td>\n",
       "      <td>51.98</td>\n",
       "      <td>0.1</td>\n",
       "      <td>0.1</td>\n",
       "      <td>341.34</td>\n",
       "      <td>...</td>\n",
       "      <td>341.34</td>\n",
       "      <td>18874.0</td>\n",
       "      <td>77.48</td>\n",
       "      <td>916.50</td>\n",
       "      <td>70.250</td>\n",
       "      <td>233.7</td>\n",
       "      <td>2.49</td>\n",
       "      <td>252.8</td>\n",
       "      <td>3.23</td>\n",
       "      <td>49.09</td>\n",
       "    </tr>\n",
       "    <tr>\n",
       "      <th>2011-09-12</th>\n",
       "      <td>920.2</td>\n",
       "      <td>78.62</td>\n",
       "      <td>7.2</td>\n",
       "      <td>8.3</td>\n",
       "      <td>48.1</td>\n",
       "      <td>917.8</td>\n",
       "      <td>65.84</td>\n",
       "      <td>0.1</td>\n",
       "      <td>0.2</td>\n",
       "      <td>341.34</td>\n",
       "      <td>...</td>\n",
       "      <td>341.34</td>\n",
       "      <td>18874.0</td>\n",
       "      <td>18.76</td>\n",
       "      <td>918.79</td>\n",
       "      <td>76.082</td>\n",
       "      <td>217.6</td>\n",
       "      <td>3.95</td>\n",
       "      <td>228.0</td>\n",
       "      <td>4.64</td>\n",
       "      <td>33.22</td>\n",
       "    </tr>\n",
       "    <tr>\n",
       "      <th>2011-09-13</th>\n",
       "      <td>919.6</td>\n",
       "      <td>77.54</td>\n",
       "      <td>7.7</td>\n",
       "      <td>8.2</td>\n",
       "      <td>63.9</td>\n",
       "      <td>917.5</td>\n",
       "      <td>66.74</td>\n",
       "      <td>0.1</td>\n",
       "      <td>0.2</td>\n",
       "      <td>341.34</td>\n",
       "      <td>...</td>\n",
       "      <td>341.34</td>\n",
       "      <td>18874.0</td>\n",
       "      <td>41.95</td>\n",
       "      <td>918.07</td>\n",
       "      <td>70.376</td>\n",
       "      <td>202.3</td>\n",
       "      <td>4.05</td>\n",
       "      <td>211.9</td>\n",
       "      <td>4.71</td>\n",
       "      <td>59.69</td>\n",
       "    </tr>\n",
       "    <tr>\n",
       "      <th>2011-09-14</th>\n",
       "      <td>917.6</td>\n",
       "      <td>73.58</td>\n",
       "      <td>5.8</td>\n",
       "      <td>6.5</td>\n",
       "      <td>67.0</td>\n",
       "      <td>914.2</td>\n",
       "      <td>64.40</td>\n",
       "      <td>0.1</td>\n",
       "      <td>0.2</td>\n",
       "      <td>341.34</td>\n",
       "      <td>...</td>\n",
       "      <td>341.34</td>\n",
       "      <td>18874.0</td>\n",
       "      <td>49.01</td>\n",
       "      <td>915.31</td>\n",
       "      <td>71.852</td>\n",
       "      <td>307.0</td>\n",
       "      <td>1.32</td>\n",
       "      <td>223.8</td>\n",
       "      <td>1.95</td>\n",
       "      <td>52.97</td>\n",
       "    </tr>\n",
       "  </tbody>\n",
       "</table>\n",
       "<p>5 rows × 28 columns</p>\n",
       "</div>"
      ],
      "text/plain": [
       "            air_pressure_DAYMAX  air_temp_DAYMAX  avg_wind_speed_DAYMAX  \\\n",
       "date                                                                      \n",
       "2011-09-10                914.9            68.00                    8.9   \n",
       "2011-09-11                918.2            71.60                    6.1   \n",
       "2011-09-12                920.2            78.62                    7.2   \n",
       "2011-09-13                919.6            77.54                    7.7   \n",
       "2011-09-14                917.6            73.58                    5.8   \n",
       "\n",
       "            max_wind_speed_DAYMAX  relative_humidity_DAYMAX  \\\n",
       "date                                                          \n",
       "2011-09-10                    9.3                      90.8   \n",
       "2011-09-11                    7.1                      91.2   \n",
       "2011-09-12                    8.3                      48.1   \n",
       "2011-09-13                    8.2                      63.9   \n",
       "2011-09-14                    6.5                      67.0   \n",
       "\n",
       "            air_pressure_DAYMIN  air_temp_DAYMIN  avg_wind_speed_DAYMIN  \\\n",
       "date                                                                      \n",
       "2011-09-10                911.1            52.70                    0.1   \n",
       "2011-09-11                914.5            51.98                    0.1   \n",
       "2011-09-12                917.8            65.84                    0.1   \n",
       "2011-09-13                917.5            66.74                    0.1   \n",
       "2011-09-14                914.2            64.40                    0.1   \n",
       "\n",
       "            max_wind_speed_DAYMIN  rain_accumulation_DAYMIN  \\\n",
       "date                                                          \n",
       "2011-09-10                    0.2                    341.34   \n",
       "2011-09-11                    0.1                    341.34   \n",
       "2011-09-12                    0.2                    341.34   \n",
       "2011-09-13                    0.2                    341.34   \n",
       "2011-09-14                    0.2                    341.34   \n",
       "\n",
       "                    ...            rain_accumulation_9am  rain_duration_9am  \\\n",
       "date                ...                                                       \n",
       "2011-09-10          ...                           341.34            18874.0   \n",
       "2011-09-11          ...                           341.34            18874.0   \n",
       "2011-09-12          ...                           341.34            18874.0   \n",
       "2011-09-13          ...                           341.34            18874.0   \n",
       "2011-09-14          ...                           341.34            18874.0   \n",
       "\n",
       "            relative_humidity_9am  air_pressure_3pm  air_temp_3pm  \\\n",
       "date                                                                \n",
       "2011-09-10                  86.27            913.05        61.394   \n",
       "2011-09-11                  77.48            916.50        70.250   \n",
       "2011-09-12                  18.76            918.79        76.082   \n",
       "2011-09-13                  41.95            918.07        70.376   \n",
       "2011-09-14                  49.01            915.31        71.852   \n",
       "\n",
       "            avg_wind_direction_3pm  avg_wind_speed_3pm  \\\n",
       "date                                                     \n",
       "2011-09-10                   211.9                5.83   \n",
       "2011-09-11                   233.7                2.49   \n",
       "2011-09-12                   217.6                3.95   \n",
       "2011-09-13                   202.3                4.05   \n",
       "2011-09-14                   307.0                1.32   \n",
       "\n",
       "            max_wind_direction_3pm  max_wind_speed_3pm  relative_humidity_3pm  \n",
       "date                                                                           \n",
       "2011-09-10                   219.0                6.92                  69.90  \n",
       "2011-09-11                   252.8                3.23                  49.09  \n",
       "2011-09-12                   228.0                4.64                  33.22  \n",
       "2011-09-13                   211.9                4.71                  59.69  \n",
       "2011-09-14                   223.8                1.95                  52.97  \n",
       "\n",
       "[5 rows x 28 columns]"
      ]
     },
     "execution_count": 177,
     "metadata": {},
     "output_type": "execute_result"
    }
   ],
   "source": [
    "f = result.reset_index()\n",
    "f = f.set_index('date')\n",
    "\n",
    "del f['rain_accumulation_DAYMAX']\n",
    "del f['rain_duration_DAYMAX']\n",
    "del f['rain_accumulation_3pm']\n",
    "del f['rain_duration_3pm']\n",
    "\n",
    "f.head()"
   ]
  },
  {
   "cell_type": "code",
   "execution_count": 178,
   "metadata": {
    "collapsed": false
   },
   "outputs": [
    {
     "data": {
      "image/png": "[encoded data removed]",
      "text/plain": [
       "<matplotlib.figure.Figure at 0x7f0d6b5c7b38>"
      ]
     },
     "metadata": {},
     "output_type": "display_data"
    }
   ],
   "source": [
    "f.plot(y='rain_accumulation_9am')\n",
    "f = f.dropna()\n",
    "\n",
    "f[\"rainaccumulation\"] = f[\"rain_accumulation_9am\"] - f[\"rain_accumulation_9am\"].shift(1)\n",
    "f[\"rainduration\"] = f[\"rain_duration_9am\"] - f[\"rain_duration_9am\"].shift(1)\n",
    "\n",
    "f[\"rain_duration_9am\"] = (f[\"rainduration\"] + 65535.0 )%65535.0\n",
    "f[\"rain_accumulation_9am\"] = (f[\"rainaccumulation\"] + 655.35)%655.35\n",
    "\n",
    "del f[\"rainaccumulation\"]\n",
    "del f[\"rainduration\"]\n",
    "f = f.dropna()"
   ]
  },
  {
   "cell_type": "code",
   "execution_count": 179,
   "metadata": {
    "collapsed": false
   },
   "outputs": [
    {
     "data": {
      "text/plain": [
       "(1068, 28)"
      ]
     },
     "execution_count": 179,
     "metadata": {},
     "output_type": "execute_result"
    }
   ],
   "source": [
    "f = f[f['rain_accumulation_9am'] < 50]\n",
    "f.shape"
   ]
  },
  {
   "cell_type": "code",
   "execution_count": 180,
   "metadata": {
    "collapsed": false
   },
   "outputs": [
    {
     "data": {
      "text/plain": [
       "<matplotlib.axes._subplots.AxesSubplot at 0x7f0d38231dd8>"
      ]
     },
     "execution_count": 180,
     "metadata": {},
     "output_type": "execute_result"
    },
    {
     "data": {
      "image/png": "[encoded data removed]",
      "text/plain": [
       "<matplotlib.figure.Figure at 0x7f0d6b5c4668>"
      ]
     },
     "metadata": {},
     "output_type": "display_data"
    }
   ],
   "source": [
    "f[f['rain_accumulation_9am'] < 50].head(365).plot(y='rain_accumulation_9am', figsize=(12,12))"
   ]
  },
  {
   "cell_type": "code",
   "execution_count": 181,
   "metadata": {
    "collapsed": false
   },
   "outputs": [],
   "source": [
    "f.to_csv(\"daily_weather_raw.csv\")"
   ]
  },
  {
   "cell_type": "code",
   "execution_count": null,
   "metadata": {
    "collapsed": true
   },
   "outputs": [],
   "source": []
  },
  {
   "cell_type": "code",
   "execution_count": null,
   "metadata": {
    "collapsed": true
   },
   "outputs": [],
   "source": []
  }
 ],
 "metadata": {
  "kernelspec": {
   "display_name": "Python 3",
   "language": "python",
   "name": "python3"
  },
  "language_info": {
   "codemirror_mode": {
    "name": "ipython",
    "version": 3
   },
   "file_extension": ".py",
   "mimetype": "text/x-python",
   "name": "python",
   "nbconvert_exporter": "python",
   "pygments_lexer": "ipython3",
   "version": "3.5.1"
  }
 },
 "nbformat": 4,
 "nbformat_minor": 0
}
